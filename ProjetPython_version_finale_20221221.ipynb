{
 "cells": [
  {
   "cell_type": "markdown",
   "id": "7c9a4dec-fada-484d-a03f-398592a142c9",
   "metadata": {},
   "source": [
    "# **PROJET PYTHON POUR LA DATA SCIENCE : Machine Learning vs Black-Scholes**\n",
    "##        ***Les algorithmes de machine learning prédiraient-ils mieux le cours des actions financières que le célèbre modèle économétrique Black-Scholes?***\n",
    "\n",
    "## **Auteurs:** \n",
    "### **<center> NGUEMOGNE Sandra, Rougier Antoine</center>**\n",
    "\n",
    "####     L'objectif de ce notebook est de présenter le projet que nous avons effectué dans le cadre de l'unité d'enseignement Python pour la data science dispensée à l'ENSAE. Ce projet a été élaboré de manière libre et comporte, comme attendu, un jeu de données récupéré et traité, une partie visualisation et une partie modélisation. La problématique qui y est traité a pour objectif majeur d'etre d'une grande utilité pour les investisseurs fianciers qui voudraient se lancer sur le marché boursier."
   ]
  },
  {
   "cell_type": "raw",
   "id": "dfc9babc-d828-498f-a48e-5b8bcc2be1af",
   "metadata": {},
   "source": []
  },
  {
   "cell_type": "raw",
   "id": "7c7ada79-af42-43d8-b4ee-49e81ab7d951",
   "metadata": {},
   "source": []
  },
  {
   "cell_type": "markdown",
   "id": "912cd75d-3858-4e19-a7fa-38c41ec36114",
   "metadata": {},
   "source": [
    "# **Plan du travail**\n",
    "\n",
    "## **A) Problématique**\n",
    "## **B) Installations préalables et importation des modules**\n",
    "## **I. Récupération, visualisation et traitement de données**\n",
    "## **II. Analyses descriptives et représentations graphiques**\n",
    "## **III. Modélisation**\n",
    "### **III.1 Algorithmes de Machine Learning**\n",
    "#### **a) Regression linéaire**\n",
    "#### **b) Modèle SVM** \n",
    "### **III.2 Modèle Black-Scholes**\n",
    "## **C) Ce qu'on retient**"
   ]
  },
  {
   "cell_type": "raw",
   "id": "4752f058-b1f7-40c5-b27e-19950658c771",
   "metadata": {},
   "source": []
  },
  {
   "cell_type": "raw",
   "id": "1f41fb36-dfe2-4457-9ffa-b61c4d3faf90",
   "metadata": {},
   "source": []
  },
  {
   "cell_type": "markdown",
   "id": "7d5a2021-32b4-4e67-b88b-548bcb093678",
   "metadata": {},
   "source": [
    "## **A) Problématique**\n",
    "### Ce projet s'articule autour de la problématique suivante :\n",
    "\n",
    "#### ***<center>Lequel des algorithmes de Machine Learning et du modèle économétrique de Black-Scholes prédit-il le mieux le cours de l'action de la compagnie d'Assurance AXA?</center>***"
   ]
  },
  {
   "cell_type": "raw",
   "id": "e76a475a-f0b8-4f4a-8f4b-e78bc88c342c",
   "metadata": {},
   "source": []
  },
  {
   "cell_type": "markdown",
   "id": "40ee1044-2c9f-49b6-9bbd-e7d1c8968522",
   "metadata": {},
   "source": [
    "## **B) Installations préalables et importation des modules** \n",
    "\n",
    "Avant d'exécuter ce code, veuillez procéder aux installations et importations des modules nécessaires à son bon fonctionnement: exécutez la cellule ci-dessous."
   ]
  },
  {
   "cell_type": "code",
   "execution_count": 1,
   "id": "4792a520-81b8-4005-a261-e5f6747473f1",
   "metadata": {},
   "outputs": [
    {
     "name": "stdout",
     "output_type": "stream",
     "text": [
      "Requirement already satisfied: yfinance in /opt/mamba/lib/python3.10/site-packages (0.2.3)\n",
      "Requirement already satisfied: frozendict>=2.3.4 in /opt/mamba/lib/python3.10/site-packages (from yfinance) (2.3.4)\n",
      "Requirement already satisfied: html5lib>=1.1 in /opt/mamba/lib/python3.10/site-packages (from yfinance) (1.1)\n",
      "Requirement already satisfied: cryptography>=3.3.2 in /opt/mamba/lib/python3.10/site-packages (from yfinance) (38.0.3)\n",
      "Requirement already satisfied: beautifulsoup4>=4.11.1 in /opt/mamba/lib/python3.10/site-packages (from yfinance) (4.11.1)\n",
      "Requirement already satisfied: pandas>=1.3.0 in /opt/mamba/lib/python3.10/site-packages (from yfinance) (1.5.1)\n",
      "Requirement already satisfied: lxml>=4.9.1 in /opt/mamba/lib/python3.10/site-packages (from yfinance) (4.9.2)\n",
      "Requirement already satisfied: multitasking>=0.0.7 in /opt/mamba/lib/python3.10/site-packages (from yfinance) (0.0.11)\n",
      "Requirement already satisfied: requests>=2.26 in /opt/mamba/lib/python3.10/site-packages (from yfinance) (2.28.1)\n",
      "Requirement already satisfied: numpy>=1.16.5 in /opt/mamba/lib/python3.10/site-packages (from yfinance) (1.23.5)\n",
      "Requirement already satisfied: appdirs>=1.4.4 in /opt/mamba/lib/python3.10/site-packages (from yfinance) (1.4.4)\n",
      "Requirement already satisfied: pytz>=2022.5 in /opt/mamba/lib/python3.10/site-packages (from yfinance) (2022.6)\n",
      "Requirement already satisfied: soupsieve>1.2 in /opt/mamba/lib/python3.10/site-packages (from beautifulsoup4>=4.11.1->yfinance) (2.3.2.post1)\n",
      "Requirement already satisfied: cffi>=1.12 in /opt/mamba/lib/python3.10/site-packages (from cryptography>=3.3.2->yfinance) (1.15.1)\n",
      "Requirement already satisfied: six>=1.9 in /opt/mamba/lib/python3.10/site-packages (from html5lib>=1.1->yfinance) (1.16.0)\n",
      "Requirement already satisfied: webencodings in /opt/mamba/lib/python3.10/site-packages (from html5lib>=1.1->yfinance) (0.5.1)\n",
      "Requirement already satisfied: python-dateutil>=2.8.1 in /opt/mamba/lib/python3.10/site-packages (from pandas>=1.3.0->yfinance) (2.8.2)\n",
      "Requirement already satisfied: urllib3<1.27,>=1.21.1 in /opt/mamba/lib/python3.10/site-packages (from requests>=2.26->yfinance) (1.26.11)\n",
      "Requirement already satisfied: idna<4,>=2.5 in /opt/mamba/lib/python3.10/site-packages (from requests>=2.26->yfinance) (3.4)\n",
      "Requirement already satisfied: charset-normalizer<3,>=2 in /opt/mamba/lib/python3.10/site-packages (from requests>=2.26->yfinance) (2.1.1)\n",
      "Requirement already satisfied: certifi>=2017.4.17 in /opt/mamba/lib/python3.10/site-packages (from requests>=2.26->yfinance) (2022.9.24)\n",
      "Requirement already satisfied: pycparser in /opt/mamba/lib/python3.10/site-packages (from cffi>=1.12->cryptography>=3.3.2->yfinance) (2.21)\n",
      "Requirement already satisfied: matplotlib in /opt/mamba/lib/python3.10/site-packages (3.6.2)\n",
      "Requirement already satisfied: cycler>=0.10 in /opt/mamba/lib/python3.10/site-packages (from matplotlib) (0.11.0)\n",
      "Requirement already satisfied: kiwisolver>=1.0.1 in /opt/mamba/lib/python3.10/site-packages (from matplotlib) (1.4.4)\n",
      "Requirement already satisfied: packaging>=20.0 in /opt/mamba/lib/python3.10/site-packages (from matplotlib) (21.3)\n",
      "Requirement already satisfied: python-dateutil>=2.7 in /opt/mamba/lib/python3.10/site-packages (from matplotlib) (2.8.2)\n",
      "Requirement already satisfied: pyparsing>=2.2.1 in /opt/mamba/lib/python3.10/site-packages (from matplotlib) (3.0.9)\n",
      "Requirement already satisfied: numpy>=1.19 in /opt/mamba/lib/python3.10/site-packages (from matplotlib) (1.23.5)\n",
      "Requirement already satisfied: fonttools>=4.22.0 in /opt/mamba/lib/python3.10/site-packages (from matplotlib) (4.38.0)\n",
      "Requirement already satisfied: pillow>=6.2.0 in /opt/mamba/lib/python3.10/site-packages (from matplotlib) (9.2.0)\n",
      "Requirement already satisfied: contourpy>=1.0.1 in /opt/mamba/lib/python3.10/site-packages (from matplotlib) (1.0.6)\n",
      "Requirement already satisfied: six>=1.5 in /opt/mamba/lib/python3.10/site-packages (from python-dateutil>=2.7->matplotlib) (1.16.0)\n"
     ]
    }
   ],
   "source": [
    "!pip install yfinance\n",
    "!pip install matplotlib\n",
    "import yfinance as yahooFinance\n",
    "import datetime\n",
    "import math\n",
    "import matplotlib.pyplot as plt\n",
    "import seaborn as sns\n",
    "import numpy as np\n",
    "import pandas as pd\n",
    "from sklearn.preprocessing import StandardScaler\n",
    "from sklearn.model_selection import train_test_split\n",
    "from sklearn.utils import check_X_y\n",
    "from sklearn import svm\n",
    "import sklearn.metrics\n",
    "from sklearn.model_selection import cross_val_score\n",
    "from sklearn.linear_model import LinearRegression\n",
    "from sklearn.metrics import mean_squared_error, r2_score\n",
    "from sklearn import linear_model\n",
    "from sklearn.metrics import mean_squared_error, r2_score"
   ]
  },
  {
   "cell_type": "raw",
   "id": "8b141bba-215e-49fe-a655-f22aa2a87e84",
   "metadata": {},
   "source": []
  },
  {
   "cell_type": "markdown",
   "id": "e8af35d7-5f0d-4575-b871-a4125c6eec49",
   "metadata": {},
   "source": [
    "## **I. Récupération, visualisation et traitement de données** \n",
    "\n",
    "Dans cette partie, nous récupérons et traitons les données portant sur le cours de l'action de la compagnie d'Assurance AXA. Nous avons choisi de  les récupérer directement sur le site  de référence: ***Yahoo Finance***. Nous récupérons ainsi les données allant du 1er janvier 2019 au 31 décembre de la meme annnée. Pour cela nous avons eu besoin d'un identifiant communément appélé ****ticker***, celui d'AXA correspondant ainsi à \n",
    "**CS.PA**.\n",
    "Comme vous pourez le voir en excutant les prochaines cellules, notre jeu de données est un ensemble de 255 observations et 7 variables: ***Open, High, Low, Close, Volume, Dividends et Stock Splits.*** Les 2 dernières variables ne nous seront pas d'un intéret particulier, raison pour laquelle nous allons les supprimer en chemin.\n",
    "Pour une journée donnée: \n",
    "+ La varialble ***Open (respectivement Close)*** correspond au prix, au matin (respectivement dans la soirée/en fin de journée) de l'action d'AXA sur le marché boursier.\n",
    "- La variable ***High (respectivement Low)*** correspond au prix le plus élevé (respectivement le plus bas) qu'a atteind la valeur de l'action dans la journée.\n",
    "+ La variable ***Volume*** représente le nombre d'actions échangées sur le marché dans la journée."
   ]
  },
  {
   "cell_type": "markdown",
   "id": "5fa31457-c731-4e13-9878-c5a0b9e1c86a",
   "metadata": {},
   "source": [
    "#### ***Récupération***"
   ]
  },
  {
   "cell_type": "code",
   "execution_count": 2,
   "id": "827e3246-9e95-418a-a801-4cfb30893c3a",
   "metadata": {},
   "outputs": [],
   "source": [
    "start_Date = datetime.datetime(2019, 1, 1) #Précise la date de début\n",
    "end_Date = datetime.datetime(2019, 12, 31) #Précise la date de fin\n",
    "\n",
    "GetAXAInfo = yahooFinance.Ticker(\"CS.PA\") #Localise les données du cours de l'action d'AXA\n",
    "df_init=GetAXAInfo.history(start=start_Date,end=end_Date) #parmi ces données, on récupère celles correspondant aux dates qui nous interessent"
   ]
  },
  {
   "cell_type": "markdown",
   "id": "b6ca0cf1-50c8-4cc5-997d-5e73f695a7f4",
   "metadata": {},
   "source": [
    "#### ***Visualisation et traitement de données*** "
   ]
  },
  {
   "cell_type": "code",
   "execution_count": 3,
   "id": "936d7d60-089b-456b-857d-bc5c1cc01221",
   "metadata": {},
   "outputs": [
    {
     "name": "stdout",
     "output_type": "stream",
     "text": [
      "255\n",
      "Index(['Open', 'High', 'Low', 'Close', 'Volume', 'Dividends', 'Stock Splits'], dtype='object')\n"
     ]
    },
    {
     "data": {
      "text/html": [
       "<div>\n",
       "<style scoped>\n",
       "    .dataframe tbody tr th:only-of-type {\n",
       "        vertical-align: middle;\n",
       "    }\n",
       "\n",
       "    .dataframe tbody tr th {\n",
       "        vertical-align: top;\n",
       "    }\n",
       "\n",
       "    .dataframe thead th {\n",
       "        text-align: right;\n",
       "    }\n",
       "</style>\n",
       "<table border=\"1\" class=\"dataframe\">\n",
       "  <thead>\n",
       "    <tr style=\"text-align: right;\">\n",
       "      <th></th>\n",
       "      <th>Open</th>\n",
       "      <th>High</th>\n",
       "      <th>Low</th>\n",
       "      <th>Close</th>\n",
       "      <th>Volume</th>\n",
       "      <th>Dividends</th>\n",
       "      <th>Stock Splits</th>\n",
       "    </tr>\n",
       "    <tr>\n",
       "      <th>Date</th>\n",
       "      <th></th>\n",
       "      <th></th>\n",
       "      <th></th>\n",
       "      <th></th>\n",
       "      <th></th>\n",
       "      <th></th>\n",
       "      <th></th>\n",
       "    </tr>\n",
       "  </thead>\n",
       "  <tbody>\n",
       "    <tr>\n",
       "      <th>2019-01-02 00:00:00+01:00</th>\n",
       "      <td>13.595197</td>\n",
       "      <td>13.738303</td>\n",
       "      <td>13.455009</td>\n",
       "      <td>13.731002</td>\n",
       "      <td>8028529</td>\n",
       "      <td>0.0</td>\n",
       "      <td>0.0</td>\n",
       "    </tr>\n",
       "    <tr>\n",
       "      <th>2019-01-03 00:00:00+01:00</th>\n",
       "      <td>13.599575</td>\n",
       "      <td>13.836141</td>\n",
       "      <td>13.589353</td>\n",
       "      <td>13.617099</td>\n",
       "      <td>6583413</td>\n",
       "      <td>0.0</td>\n",
       "      <td>0.0</td>\n",
       "    </tr>\n",
       "    <tr>\n",
       "      <th>2019-01-04 00:00:00+01:00</th>\n",
       "      <td>13.720778</td>\n",
       "      <td>14.087309</td>\n",
       "      <td>13.666748</td>\n",
       "      <td>14.044960</td>\n",
       "      <td>11675578</td>\n",
       "      <td>0.0</td>\n",
       "      <td>0.0</td>\n",
       "    </tr>\n",
       "    <tr>\n",
       "      <th>2019-01-07 00:00:00+01:00</th>\n",
       "      <td>14.078548</td>\n",
       "      <td>14.150101</td>\n",
       "      <td>13.900394</td>\n",
       "      <td>13.982169</td>\n",
       "      <td>7530045</td>\n",
       "      <td>0.0</td>\n",
       "      <td>0.0</td>\n",
       "    </tr>\n",
       "    <tr>\n",
       "      <th>2019-01-08 00:00:00+01:00</th>\n",
       "      <td>14.027438</td>\n",
       "      <td>14.218735</td>\n",
       "      <td>13.988011</td>\n",
       "      <td>14.034739</td>\n",
       "      <td>7314687</td>\n",
       "      <td>0.0</td>\n",
       "      <td>0.0</td>\n",
       "    </tr>\n",
       "  </tbody>\n",
       "</table>\n",
       "</div>"
      ],
      "text/plain": [
       "                                Open       High        Low      Close  \\\n",
       "Date                                                                    \n",
       "2019-01-02 00:00:00+01:00  13.595197  13.738303  13.455009  13.731002   \n",
       "2019-01-03 00:00:00+01:00  13.599575  13.836141  13.589353  13.617099   \n",
       "2019-01-04 00:00:00+01:00  13.720778  14.087309  13.666748  14.044960   \n",
       "2019-01-07 00:00:00+01:00  14.078548  14.150101  13.900394  13.982169   \n",
       "2019-01-08 00:00:00+01:00  14.027438  14.218735  13.988011  14.034739   \n",
       "\n",
       "                             Volume  Dividends  Stock Splits  \n",
       "Date                                                          \n",
       "2019-01-02 00:00:00+01:00   8028529        0.0           0.0  \n",
       "2019-01-03 00:00:00+01:00   6583413        0.0           0.0  \n",
       "2019-01-04 00:00:00+01:00  11675578        0.0           0.0  \n",
       "2019-01-07 00:00:00+01:00   7530045        0.0           0.0  \n",
       "2019-01-08 00:00:00+01:00   7314687        0.0           0.0  "
      ]
     },
     "execution_count": 3,
     "metadata": {},
     "output_type": "execute_result"
    }
   ],
   "source": [
    "print(len(df_init)) #  affiche le nombre d'observations\n",
    "print(df_init.columns) # affiche la liste des variables\n",
    "df_init.head() # Affiche les 5 premières lignes du dataframe pour un apercu fluide"
   ]
  },
  {
   "cell_type": "markdown",
   "id": "ff6f5f10-3ff9-4a03-8713-bc843685d0ed",
   "metadata": {},
   "source": [
    "On remarque que les dates peuvent poser un problème dans notre modélisation, car elles sont converties sous le format Unix, et que les heures ne nous intérèssent pas particulière dans notre projet. Nous allons d'abord convertir ces dates dans un format qui ne nous posera pas de problème. De plus, en visualisant les valeurs minimales et maximales des 2 dernièrres colonnes, nous remarquons que la colonne ***Dividends*** n'est pas toujours nulle contrairement à ce qu'on pouvait penser. Tandis que ***stock splits l'est***. Dans la suite de notre projet, nous n'utiliserons plus ces colonnes car elle ne sont pas pertinentes donc nous décidons de les supprimer. "
   ]
  },
  {
   "cell_type": "code",
   "execution_count": 4,
   "id": "0c43a996-270a-4d02-83c8-75fe93796d00",
   "metadata": {},
   "outputs": [
    {
     "data": {
      "text/html": [
       "<div>\n",
       "<style scoped>\n",
       "    .dataframe tbody tr th:only-of-type {\n",
       "        vertical-align: middle;\n",
       "    }\n",
       "\n",
       "    .dataframe tbody tr th {\n",
       "        vertical-align: top;\n",
       "    }\n",
       "\n",
       "    .dataframe thead th {\n",
       "        text-align: right;\n",
       "    }\n",
       "</style>\n",
       "<table border=\"1\" class=\"dataframe\">\n",
       "  <thead>\n",
       "    <tr style=\"text-align: right;\">\n",
       "      <th></th>\n",
       "      <th>Open</th>\n",
       "      <th>High</th>\n",
       "      <th>Low</th>\n",
       "      <th>Close</th>\n",
       "      <th>Volume</th>\n",
       "      <th>Dividends</th>\n",
       "      <th>Stock Splits</th>\n",
       "    </tr>\n",
       "    <tr>\n",
       "      <th>Date</th>\n",
       "      <th></th>\n",
       "      <th></th>\n",
       "      <th></th>\n",
       "      <th></th>\n",
       "      <th></th>\n",
       "      <th></th>\n",
       "      <th></th>\n",
       "    </tr>\n",
       "  </thead>\n",
       "  <tbody>\n",
       "    <tr>\n",
       "      <th>2019-01-02</th>\n",
       "      <td>13.595197</td>\n",
       "      <td>13.738303</td>\n",
       "      <td>13.455009</td>\n",
       "      <td>13.731002</td>\n",
       "      <td>8028529</td>\n",
       "      <td>0.0</td>\n",
       "      <td>0.0</td>\n",
       "    </tr>\n",
       "    <tr>\n",
       "      <th>2019-01-03</th>\n",
       "      <td>13.599575</td>\n",
       "      <td>13.836141</td>\n",
       "      <td>13.589353</td>\n",
       "      <td>13.617099</td>\n",
       "      <td>6583413</td>\n",
       "      <td>0.0</td>\n",
       "      <td>0.0</td>\n",
       "    </tr>\n",
       "    <tr>\n",
       "      <th>2019-01-04</th>\n",
       "      <td>13.720778</td>\n",
       "      <td>14.087309</td>\n",
       "      <td>13.666748</td>\n",
       "      <td>14.044960</td>\n",
       "      <td>11675578</td>\n",
       "      <td>0.0</td>\n",
       "      <td>0.0</td>\n",
       "    </tr>\n",
       "    <tr>\n",
       "      <th>2019-01-07</th>\n",
       "      <td>14.078548</td>\n",
       "      <td>14.150101</td>\n",
       "      <td>13.900394</td>\n",
       "      <td>13.982169</td>\n",
       "      <td>7530045</td>\n",
       "      <td>0.0</td>\n",
       "      <td>0.0</td>\n",
       "    </tr>\n",
       "    <tr>\n",
       "      <th>2019-01-08</th>\n",
       "      <td>14.027438</td>\n",
       "      <td>14.218735</td>\n",
       "      <td>13.988011</td>\n",
       "      <td>14.034739</td>\n",
       "      <td>7314687</td>\n",
       "      <td>0.0</td>\n",
       "      <td>0.0</td>\n",
       "    </tr>\n",
       "  </tbody>\n",
       "</table>\n",
       "</div>"
      ],
      "text/plain": [
       "                 Open       High        Low      Close    Volume  Dividends  \\\n",
       "Date                                                                          \n",
       "2019-01-02  13.595197  13.738303  13.455009  13.731002   8028529        0.0   \n",
       "2019-01-03  13.599575  13.836141  13.589353  13.617099   6583413        0.0   \n",
       "2019-01-04  13.720778  14.087309  13.666748  14.044960  11675578        0.0   \n",
       "2019-01-07  14.078548  14.150101  13.900394  13.982169   7530045        0.0   \n",
       "2019-01-08  14.027438  14.218735  13.988011  14.034739   7314687        0.0   \n",
       "\n",
       "            Stock Splits  \n",
       "Date                      \n",
       "2019-01-02           0.0  \n",
       "2019-01-03           0.0  \n",
       "2019-01-04           0.0  \n",
       "2019-01-07           0.0  \n",
       "2019-01-08           0.0  "
      ]
     },
     "execution_count": 4,
     "metadata": {},
     "output_type": "execute_result"
    }
   ],
   "source": [
    "#Formatage des dates\n",
    "df_init = df_init.reset_index()\n",
    "df_init[\"Date\"] = df_init[\"Date\"].dt.strftime('%Y-%m-%d')\n",
    "df_init = df_init.set_index('Date')\n",
    "df_init.head()\n"
   ]
  },
  {
   "cell_type": "code",
   "execution_count": 5,
   "id": "e7921a86-627b-416f-b425-92c8ebf52af7",
   "metadata": {
    "tags": []
   },
   "outputs": [
    {
     "name": "stdout",
     "output_type": "stream",
     "text": [
      "0.0\n",
      "1.34\n"
     ]
    },
    {
     "data": {
      "text/html": [
       "<div>\n",
       "<style scoped>\n",
       "    .dataframe tbody tr th:only-of-type {\n",
       "        vertical-align: middle;\n",
       "    }\n",
       "\n",
       "    .dataframe tbody tr th {\n",
       "        vertical-align: top;\n",
       "    }\n",
       "\n",
       "    .dataframe thead th {\n",
       "        text-align: right;\n",
       "    }\n",
       "</style>\n",
       "<table border=\"1\" class=\"dataframe\">\n",
       "  <thead>\n",
       "    <tr style=\"text-align: right;\">\n",
       "      <th></th>\n",
       "      <th>Open</th>\n",
       "      <th>High</th>\n",
       "      <th>Low</th>\n",
       "      <th>Close</th>\n",
       "      <th>Volume</th>\n",
       "    </tr>\n",
       "    <tr>\n",
       "      <th>Date</th>\n",
       "      <th></th>\n",
       "      <th></th>\n",
       "      <th></th>\n",
       "      <th></th>\n",
       "      <th></th>\n",
       "    </tr>\n",
       "  </thead>\n",
       "  <tbody>\n",
       "    <tr>\n",
       "      <th>2019-01-02</th>\n",
       "      <td>13.595197</td>\n",
       "      <td>13.738303</td>\n",
       "      <td>13.455009</td>\n",
       "      <td>13.731002</td>\n",
       "      <td>8028529</td>\n",
       "    </tr>\n",
       "    <tr>\n",
       "      <th>2019-01-03</th>\n",
       "      <td>13.599575</td>\n",
       "      <td>13.836141</td>\n",
       "      <td>13.589353</td>\n",
       "      <td>13.617099</td>\n",
       "      <td>6583413</td>\n",
       "    </tr>\n",
       "    <tr>\n",
       "      <th>2019-01-04</th>\n",
       "      <td>13.720778</td>\n",
       "      <td>14.087309</td>\n",
       "      <td>13.666748</td>\n",
       "      <td>14.044960</td>\n",
       "      <td>11675578</td>\n",
       "    </tr>\n",
       "    <tr>\n",
       "      <th>2019-01-07</th>\n",
       "      <td>14.078548</td>\n",
       "      <td>14.150101</td>\n",
       "      <td>13.900394</td>\n",
       "      <td>13.982169</td>\n",
       "      <td>7530045</td>\n",
       "    </tr>\n",
       "    <tr>\n",
       "      <th>2019-01-08</th>\n",
       "      <td>14.027438</td>\n",
       "      <td>14.218735</td>\n",
       "      <td>13.988011</td>\n",
       "      <td>14.034739</td>\n",
       "      <td>7314687</td>\n",
       "    </tr>\n",
       "  </tbody>\n",
       "</table>\n",
       "</div>"
      ],
      "text/plain": [
       "                 Open       High        Low      Close    Volume\n",
       "Date                                                            \n",
       "2019-01-02  13.595197  13.738303  13.455009  13.731002   8028529\n",
       "2019-01-03  13.599575  13.836141  13.589353  13.617099   6583413\n",
       "2019-01-04  13.720778  14.087309  13.666748  14.044960  11675578\n",
       "2019-01-07  14.078548  14.150101  13.900394  13.982169   7530045\n",
       "2019-01-08  14.027438  14.218735  13.988011  14.034739   7314687"
      ]
     },
     "execution_count": 5,
     "metadata": {},
     "output_type": "execute_result"
    }
   ],
   "source": [
    "#Visualisation des maxima des deux dernières colonnes\n",
    "print(max(df_init['Stock Splits']))\n",
    "print(max(df_init['Dividends']))\n",
    "\n",
    "#Suppression des 2 dernières colonnes \n",
    "df_init = df_init.drop(columns =  [\"Dividends\",\"Stock Splits\"])\n",
    "df_init.head()"
   ]
  },
  {
   "cell_type": "markdown",
   "id": "5d3ed490-f946-40af-a699-b569dfc1761d",
   "metadata": {},
   "source": [
    "Pour resumer et/ou compléter les visualitions ci-dessous, nous allons utiliser la fonction ***describe*** qui nous donnera davantage de caractéristiques sur les variables de la base."
   ]
  },
  {
   "cell_type": "code",
   "execution_count": 6,
   "id": "37d262e3-5d05-4bbd-938d-9f0992a174b6",
   "metadata": {},
   "outputs": [
    {
     "data": {
      "text/html": [
       "<div>\n",
       "<style scoped>\n",
       "    .dataframe tbody tr th:only-of-type {\n",
       "        vertical-align: middle;\n",
       "    }\n",
       "\n",
       "    .dataframe tbody tr th {\n",
       "        vertical-align: top;\n",
       "    }\n",
       "\n",
       "    .dataframe thead th {\n",
       "        text-align: right;\n",
       "    }\n",
       "</style>\n",
       "<table border=\"1\" class=\"dataframe\">\n",
       "  <thead>\n",
       "    <tr style=\"text-align: right;\">\n",
       "      <th></th>\n",
       "      <th>Open</th>\n",
       "      <th>High</th>\n",
       "      <th>Low</th>\n",
       "      <th>Close</th>\n",
       "      <th>Volume</th>\n",
       "    </tr>\n",
       "  </thead>\n",
       "  <tbody>\n",
       "    <tr>\n",
       "      <th>count</th>\n",
       "      <td>255.000000</td>\n",
       "      <td>255.000000</td>\n",
       "      <td>255.000000</td>\n",
       "      <td>255.000000</td>\n",
       "      <td>2.550000e+02</td>\n",
       "    </tr>\n",
       "    <tr>\n",
       "      <th>mean</th>\n",
       "      <td>17.233804</td>\n",
       "      <td>17.364001</td>\n",
       "      <td>17.126566</td>\n",
       "      <td>17.259327</td>\n",
       "      <td>6.180807e+06</td>\n",
       "    </tr>\n",
       "    <tr>\n",
       "      <th>std</th>\n",
       "      <td>1.427426</td>\n",
       "      <td>1.419908</td>\n",
       "      <td>1.425413</td>\n",
       "      <td>1.425055</td>\n",
       "      <td>2.229986e+06</td>\n",
       "    </tr>\n",
       "    <tr>\n",
       "      <th>min</th>\n",
       "      <td>13.595197</td>\n",
       "      <td>13.738303</td>\n",
       "      <td>13.455009</td>\n",
       "      <td>13.617099</td>\n",
       "      <td>0.000000e+00</td>\n",
       "    </tr>\n",
       "    <tr>\n",
       "      <th>25%</th>\n",
       "      <td>16.391628</td>\n",
       "      <td>16.570513</td>\n",
       "      <td>16.289408</td>\n",
       "      <td>16.439543</td>\n",
       "      <td>4.741434e+06</td>\n",
       "    </tr>\n",
       "    <tr>\n",
       "      <th>50%</th>\n",
       "      <td>17.344898</td>\n",
       "      <td>17.443028</td>\n",
       "      <td>17.182396</td>\n",
       "      <td>17.333292</td>\n",
       "      <td>5.805304e+06</td>\n",
       "    </tr>\n",
       "    <tr>\n",
       "      <th>75%</th>\n",
       "      <td>18.283140</td>\n",
       "      <td>18.428227</td>\n",
       "      <td>18.182545</td>\n",
       "      <td>18.312158</td>\n",
       "      <td>7.141672e+06</td>\n",
       "    </tr>\n",
       "    <tr>\n",
       "      <th>max</th>\n",
       "      <td>19.646976</td>\n",
       "      <td>19.685667</td>\n",
       "      <td>19.546381</td>\n",
       "      <td>19.658583</td>\n",
       "      <td>1.826625e+07</td>\n",
       "    </tr>\n",
       "  </tbody>\n",
       "</table>\n",
       "</div>"
      ],
      "text/plain": [
       "             Open        High         Low       Close        Volume\n",
       "count  255.000000  255.000000  255.000000  255.000000  2.550000e+02\n",
       "mean    17.233804   17.364001   17.126566   17.259327  6.180807e+06\n",
       "std      1.427426    1.419908    1.425413    1.425055  2.229986e+06\n",
       "min     13.595197   13.738303   13.455009   13.617099  0.000000e+00\n",
       "25%     16.391628   16.570513   16.289408   16.439543  4.741434e+06\n",
       "50%     17.344898   17.443028   17.182396   17.333292  5.805304e+06\n",
       "75%     18.283140   18.428227   18.182545   18.312158  7.141672e+06\n",
       "max     19.646976   19.685667   19.546381   19.658583  1.826625e+07"
      ]
     },
     "execution_count": 6,
     "metadata": {},
     "output_type": "execute_result"
    }
   ],
   "source": [
    "df_init.describe()"
   ]
  },
  {
   "cell_type": "markdown",
   "id": "cd71b76a-9357-4402-9bac-e32e0fd2495c",
   "metadata": {},
   "source": [
    "Le tableau que nous obtenons à partir de la commande describe nous donne de facon sommaire les caractéristiques des variables de notre base. \n",
    "Nous constatons que le prix moyen de l'action en début de journée est de 17.23 avec un écart-type de 1.42, tandis-que'en fin de journée il est de 17.25 avec quasiment le meme écart-type. La valeur minimale de la variable ***Low*** et la vauleur maximale de la variable ***High*** nous permettent de dire que durant l'année, la valeur la plus petite atteinte par le prix de l'action est de 13.45 et la valeur maximale qu'il peut atteindre est de 19.68. \n",
    "D'après le deuxième quantile (50%) nous pouvons dire que Pour la moitié de l'ensemble des jours de l'année on a des prix de fin de période en dessous de 17.33 et pour le quart de ces jours (25%), on a des prix de fin de période inférieurs à 16.43. Nous nous limitons à la variable ***Close*** pour cette interprétation car elle est au centre de nos prochaines modélisations."
   ]
  },
  {
   "cell_type": "raw",
   "id": "b05cb4b0-79cf-426c-80cc-6fe5d1a78212",
   "metadata": {},
   "source": [
    "\n"
   ]
  },
  {
   "cell_type": "markdown",
   "id": "9c672de4-0483-446f-9ecb-3b0ad8da6b42",
   "metadata": {},
   "source": [
    "## **II. Analyses descriptives et représentations graphiques**"
   ]
  },
  {
   "cell_type": "markdown",
   "id": "5ab201e9-3065-488a-9994-5649818fa03b",
   "metadata": {},
   "source": [
    "Nous allons d'abord regarder le graphique des prix de l'action Axa sur l'année 2019. Puis nous analyserons le volume échangé sur chaque mois, pour voir s'il n'existerait pas une corrélation entre le volume échangé et le prix de l'action. "
   ]
  },
  {
   "cell_type": "code",
   "execution_count": 7,
   "id": "6564aabd-658f-45ca-a3bd-3f4ec045684e",
   "metadata": {},
   "outputs": [
    {
     "data": {
      "text/plain": [
       "Text(0.5, 0, 'Temps')"
      ]
     },
     "execution_count": 7,
     "metadata": {},
     "output_type": "execute_result"
    },
    {
     "data": {
      "image/png": "[encoded data removed]",
      "text/plain": [
       "<Figure size 640x480 with 2 Axes>"
      ]
     },
     "metadata": {},
     "output_type": "display_data"
    }
   ],
   "source": [
    "df2 = df_init.copy()\n",
    "new_df = df2[['Open']]\n",
    "new_df2 = df2[['Close']]\n",
    "plt.subplot(211)\n",
    "plt.plot(new_df)\n",
    "plt.title(\"Evolution des prix d'ouverture des actions de AXA\")\n",
    "plt.ylabel(\"Valeurs\")\n",
    "plt.xlabel(\"Temps\")\n",
    "\n",
    "plt.subplot(212)\n",
    "plt.plot(new_df2)\n",
    "plt.title(\"Evolution des prix de fermeture des actions de AXA\")\n",
    "plt.ylabel(\"Valeurs\")\n",
    "plt.xlabel(\"Temps\")"
   ]
  },
  {
   "cell_type": "markdown",
   "id": "7c5e5ce5-ac2a-4343-a10b-f04707fb63b1",
   "metadata": {
    "tags": []
   },
   "source": [
    "Nous voyons sur les graphiques ci-dessus que les prix croissent à un certains rythme et que qu'il n'y a pas d'incohérence dans nos données pour les prix d'ouverture. Nous n'avons pas de valeur abérante qui attirerait particulièrement l'attention. Nous concluons alors que nous pouvons utiliser cette base de donnée pour faire notre modèle.\n",
    "\n",
    "Par la suite (prochains grapfiques), nous avons aussi représenté un histogramme qui nous montre le nombre de transaction par mois de l'action AXA pour voir si il y a une évolution. On remarque alors que les volumes échangés pendant cette année 2019 restent relativement similaires pour chaque mois, nous ne voyons pas d'écart significatif au cours de cette période. Cela se confirme par le diagramme circulaire juste en-bas où on remarque que les parts correspondant à chaque mois ont quaisiment la même surface.\n",
    " "
   ]
  },
  {
   "cell_type": "markdown",
   "id": "ff2b26f3-ba28-4d8f-a15f-f7a47730e8ba",
   "metadata": {},
   "source": [
    " "
   ]
  },
  {
   "cell_type": "code",
   "execution_count": 8,
   "id": "dd300765-82d1-4010-8ebd-9689cdb0cc33",
   "metadata": {},
   "outputs": [
    {
     "name": "stderr",
     "output_type": "stream",
     "text": [
      "/tmp/ipykernel_35918/1733144262.py:13: FutureWarning: The default value of numeric_only in DataFrameGroupBy.sum is deprecated. In a future version, numeric_only will default to False. Either specify numeric_only or select only columns which should be valid for the function.\n",
      "  sums = df_grouped.sum().reindex(['January', 'February', 'March', 'April', 'May', 'June', 'July', 'August', 'September', 'October', 'November', 'December'])\n"
     ]
    },
    {
     "data": {
      "image/png": "[encoded data removed]",
      "text/plain": [
       "<Figure size 640x480 with 1 Axes>"
      ]
     },
     "metadata": {},
     "output_type": "display_data"
    },
    {
     "data": {
      "image/png": "[encoded data removed]",
      "text/plain": [
       "<Figure size 640x480 with 1 Axes>"
      ]
     },
     "metadata": {},
     "output_type": "display_data"
    }
   ],
   "source": [
    "new_df = df2[['Volume']]\n",
    "new_df\n",
    "new_df = new_df.reset_index()\n",
    "new_df['Month'] = pd.to_datetime(new_df['Date']).dt.strftime('%B')\n",
    "df_grouped = new_df.groupby(new_df['Month'])\n",
    "\n",
    "\n",
    "#for key, item in df_grouped:\n",
    "#    print(key)\n",
    "#    print(df_grouped.get_group(key))\n",
    "\n",
    "\n",
    "sums = df_grouped.sum().reindex(['January', 'February', 'March', 'April', 'May', 'June', 'July', 'August', 'September', 'October', 'November', 'December'])\n",
    "sums\n",
    "sums.plot.bar()\n",
    "plt.show()\n",
    "\n",
    "sums.plot.pie(subplots=True)\n",
    "plt.show()\n",
    "\n"
   ]
  },
  {
   "cell_type": "markdown",
   "id": "2c1487be-5b74-4fef-9479-01be696985e4",
   "metadata": {},
   "source": [
    "En ce qui concerne les corrélations éventuelles entre les variables hors mis la variable ***Close*** qui est la variable que l'on cherche à expliquer dans ce travail, nous voyons une corrélation négative entre le prix d'ouverture et les volumes échangés. Nous pouvions nous attendre à ce résultat en pensant à la loi de l'offre et de la demande pour fixer un prix sur en marché. Donc, pas d'anomalie pour l'instant. Nous pouvons aussi constater que le prix de l'action à l'ouverture est fortement correlé positivement aux valeurs minimale et maximale que le prix atteind dans la journée."
   ]
  },
  {
   "cell_type": "code",
   "execution_count": 9,
   "id": "03708454-b7bb-4184-a960-3a62ac5131e3",
   "metadata": {},
   "outputs": [
    {
     "data": {
      "text/html": [
       "<div>\n",
       "<style scoped>\n",
       "    .dataframe tbody tr th:only-of-type {\n",
       "        vertical-align: middle;\n",
       "    }\n",
       "\n",
       "    .dataframe tbody tr th {\n",
       "        vertical-align: top;\n",
       "    }\n",
       "\n",
       "    .dataframe thead th {\n",
       "        text-align: right;\n",
       "    }\n",
       "</style>\n",
       "<table border=\"1\" class=\"dataframe\">\n",
       "  <thead>\n",
       "    <tr style=\"text-align: right;\">\n",
       "      <th></th>\n",
       "      <th>Open</th>\n",
       "      <th>High</th>\n",
       "      <th>Low</th>\n",
       "      <th>Volume</th>\n",
       "    </tr>\n",
       "  </thead>\n",
       "  <tbody>\n",
       "    <tr>\n",
       "      <th>Open</th>\n",
       "      <td>1.000000</td>\n",
       "      <td>0.997609</td>\n",
       "      <td>0.997896</td>\n",
       "      <td>-0.247450</td>\n",
       "    </tr>\n",
       "    <tr>\n",
       "      <th>High</th>\n",
       "      <td>0.997609</td>\n",
       "      <td>1.000000</td>\n",
       "      <td>0.997793</td>\n",
       "      <td>-0.221447</td>\n",
       "    </tr>\n",
       "    <tr>\n",
       "      <th>Low</th>\n",
       "      <td>0.997896</td>\n",
       "      <td>0.997793</td>\n",
       "      <td>1.000000</td>\n",
       "      <td>-0.258983</td>\n",
       "    </tr>\n",
       "    <tr>\n",
       "      <th>Volume</th>\n",
       "      <td>-0.247450</td>\n",
       "      <td>-0.221447</td>\n",
       "      <td>-0.258983</td>\n",
       "      <td>1.000000</td>\n",
       "    </tr>\n",
       "  </tbody>\n",
       "</table>\n",
       "</div>"
      ],
      "text/plain": [
       "            Open      High       Low    Volume\n",
       "Open    1.000000  0.997609  0.997896 -0.247450\n",
       "High    0.997609  1.000000  0.997793 -0.221447\n",
       "Low     0.997896  0.997793  1.000000 -0.258983\n",
       "Volume -0.247450 -0.221447 -0.258983  1.000000"
      ]
     },
     "execution_count": 9,
     "metadata": {},
     "output_type": "execute_result"
    }
   ],
   "source": [
    "#Matrice des correlations sans la variable à expliquer\n",
    "df2 = df2.drop(columns =  [\"Close\"]) #supression de la variable à expliquer dans la base clonée\n",
    "df2.corr() #affichage de la matrice des correlations"
   ]
  },
  {
   "cell_type": "markdown",
   "id": "ef5014ec-8437-49ff-9ef1-8d939735730c",
   "metadata": {},
   "source": [
    " "
   ]
  },
  {
   "cell_type": "raw",
   "id": "eed797df-dd12-452a-86ab-e3ec8eb7ce99",
   "metadata": {
    "tags": []
   },
   "source": []
  },
  {
   "cell_type": "markdown",
   "id": "2aaa462e-d62b-46c6-9e66-7c0b684e189e",
   "metadata": {},
   "source": [
    "## **III. Modélisation**"
   ]
  },
  {
   "cell_type": "markdown",
   "id": "61a6800d-f155-4038-8930-bb58a71fec45",
   "metadata": {},
   "source": [
    "A présent nous passons à la partie modélisation de notre travail. Rappellons que notre variable dépendante (à expliquer) est Close qui représente le prix de l'action en fin de journée. **Pour les interprétations des indicateurs, on les fera sur la base d'un seuil de 0.55 à partir duquel on pourra conclure.**"
   ]
  },
  {
   "cell_type": "markdown",
   "id": "e657dfca-a1e2-4806-b85c-e5d487d7b422",
   "metadata": {},
   "source": [
    "### **III.1 Algorithmes de Machine Learning**\n",
    "#### **a) Regression multilinéaire**"
   ]
  },
  {
   "cell_type": "markdown",
   "id": "86ab5907-5370-4d42-93a3-86c1c659e404",
   "metadata": {},
   "source": [
    "On commence par faire un modèle de prédiction en s'appuyant uniquement sur la valeur des prix d'ouverture de l'action pour prédire le prix de fermeture de la journée. Nous allons utiliser scikit-learn pour cette modélisation. "
   ]
  },
  {
   "cell_type": "markdown",
   "id": "b753ce7d-ca63-4b3d-8e68-50b65af27ab6",
   "metadata": {},
   "source": [
    "On remarque ici que les courbes vertes et grises se chevauchent assez régulièrement, ce qui montrent que la régression est possible.\n",
    "\n",
    "Mais nous voulons voir si nous ne pouvons pas aller plus loin dans cette modélisation en rajoutant une nouvelle variable qui prendrait en compte les prix de fermeture de la veille. Nous allons donc créer cette nouvelle colonne dans notre tableau pour faire la modélisation."
   ]
  },
  {
   "cell_type": "code",
   "execution_count": null,
   "id": "ee2e28fb-5632-4d71-a11c-e0e2130166df",
   "metadata": {},
   "outputs": [],
   "source": [
    "dec=df_init[\"Close\"].shift(1)\n",
    "df_init= df_init.assign(Close_veille=dec)\n",
    "df_init.head()"
   ]
  },
  {
   "cell_type": "markdown",
   "id": "fd16c3cb-b01a-4613-b097-cb50aa97a8bc",
   "metadata": {},
   "source": [
    "###### ***Modélisation en ajoutant la variable que l'on vient de créer***"
   ]
  },
  {
   "cell_type": "code",
   "execution_count": null,
   "id": "4423a48d-de0e-4f44-aa95-767f62004d60",
   "metadata": {},
   "outputs": [],
   "source": [
    "#On fait alors une régression avec commes variables explicatives les prix d'ouverture et de fermeture la veille\n",
    "X = df_init[['Open', 'Close_veille']]\n",
    "Y = df_init[['Close']]\n",
    "X = X[1:len(X)]\n",
    "Y = Y[1:len(Y)]\n",
    "\n",
    "\n",
    "\n",
    "#On définit l'échantillon des tests, pour cela il nous faut une proportion de prélèvement des données pour les tests; on la note p\n",
    "p = int((2/3)*len(X))\n",
    "X_train = X[:p]\n",
    "Y_train = Y[:p]\n",
    "X_test = X[p:]\n",
    "Y_test = Y[p:]\n",
    "\n",
    "#On passe désormais à l'entrainement et la prédiction \n",
    "regr = linear_model.LinearRegression()\n",
    "regr.fit(X_train, Y_train)\n",
    "print(regr.coef_)\n",
    "\n",
    "y_pred = regr.predict(X_test)\n",
    "plt.plot(y_pred, color='green')\n",
    "plt.plot(Y_test, color='gray')\n",
    "plt.title(\"Prédiction du cours de l'action AXA\")\n",
    "\n",
    "print(\"Mean squared error: %.2f\" % mean_squared_error(Y_test, y_pred))\n",
    "print(\"Coefficient of determination: %.2f\" % r2_score(Y_test, y_pred))"
   ]
  },
  {
   "cell_type": "raw",
   "id": "ce895272-9f7b-4f54-af8d-e5614e2a3831",
   "metadata": {},
   "source": []
  },
  {
   "cell_type": "markdown",
   "id": "a45d3e83-3019-42fd-b765-04cf33e97ffe",
   "metadata": {},
   "source": [
    "#### **b) Modèle SVM**"
   ]
  },
  {
   "cell_type": "markdown",
   "id": "fdea04e5-2ebe-4d2a-9368-4614123f5482",
   "metadata": {},
   "source": [
    "Dans cette section, il est question de mettre en oeuvre un modèle SVM (Support Vector Machine ou \"machine à vecteurs de support\"): on cherche toujours à prédire ***Close*** en fonction de ***Open*** et de ***Close_veille***. Nous allons utiliser une approche différente des précédentes afin d'enrichir davantage notre travail. Pour cela, nous définissons une base regroupant les variables dépendantes et normalisons les données et nous redéfinissons la base d'entrainement. La normalisation nous sera utile pour un meilleur rendu ici et le sera encore plus lors de l'implémentation du modèle **B&S (Black-Scholes)** tout à l'heure, car elle permet de centrer les données autour de zéro et par la meme occasion de réduire la variance des caractéristiques potentielles. Pour ne par surcharger le travail, nous allons en profiter pour créer les variables nécessaires à la section B&S avant la défintiion de l'échantillon d'entrainement, notament la variable des log-rendements du cours de l'action en question, tres souvent privilégiée en finance. *La mention BS sur les variables d'entrainement signifie juste que ce sont les memes variables qui seront utilisées pour le modèle B&S, donc ne pas y faire attention pour le moment.*"
   ]
  },
  {
   "cell_type": "code",
   "execution_count": null,
   "id": "daee7546-2ddf-4621-b8a7-3169163e9308",
   "metadata": {},
   "outputs": [],
   "source": [
    "#Calcul des log-rendements\n",
    "Log_Rdt=np.log(df_init.Close/df_init.Close_veille)\n",
    "df_init= df_init.assign(Log_Rdt=Log_Rdt)\n",
    "df_init.head()"
   ]
  },
  {
   "cell_type": "code",
   "execution_count": null,
   "id": "79d2164a-6447-4795-b2eb-d840751dd025",
   "metadata": {},
   "outputs": [],
   "source": [
    "#Rajout d'un indice temporel dans la base de données\n",
    "df_init.reset_index(level=None, inplace=True)\n",
    "df_init= df_init.assign(t=df_init.index)\n",
    "df_init.head()"
   ]
  },
  {
   "cell_type": "markdown",
   "id": "51579523-9c1e-433b-9323-219f768596c6",
   "metadata": {},
   "source": [
    "###### ***Création d'une base de données d'apprentissage et d'une base de données de test***"
   ]
  },
  {
   "cell_type": "code",
   "execution_count": null,
   "id": "002ad4c3-4b85-4ba3-a1a5-c1c46cc493c2",
   "metadata": {},
   "outputs": [],
   "source": [
    "df=df_init.dropna()\n",
    "X_BS=pd.DataFrame(df, columns=['Open','Close_veille','t','Log_Rdt'])\n",
    "y_BS=pd.Series(df.Close)\n",
    "X_BS_train, X_BS_test, y_BS_train, y_BS_test = train_test_split(X_BS, y_BS, test_size=0.2, random_state=0)"
   ]
  },
  {
   "cell_type": "markdown",
   "id": "0a6dde66-7c40-4cc8-9c99-cf9a4ba352ba",
   "metadata": {},
   "source": [
    "###### ***Base des variables dépendantes et normalisation des données***"
   ]
  },
  {
   "cell_type": "code",
   "execution_count": null,
   "id": "f7fd4955-8e6a-436b-811d-7cd42948002c",
   "metadata": {},
   "outputs": [],
   "source": [
    "X_train_init=pd.DataFrame(X_BS_train, columns=['Open','Close_veille'])\n",
    "X_test_init=pd.DataFrame(X_BS_test, columns=['Open','Close_veille'])\n",
    "scaler = StandardScaler()\n",
    "X_train = scaler.fit_transform(X_train_init)\n",
    "X_test = scaler.fit_transform(X_test_init)\n",
    "column_names_train = X_train_init.columns\n",
    "column_names_test = X_test_init.columns\n",
    "X_train=pd.DataFrame(X_train, columns=column_names_train)\n",
    "X_test=pd.DataFrame(X_test, columns=column_names_test)"
   ]
  },
  {
   "cell_type": "markdown",
   "id": "0d870bf8-366f-4903-814a-7e4480a2bb2b",
   "metadata": {},
   "source": [
    "###### ***Vecteur de variable dépendante***"
   ]
  },
  {
   "cell_type": "code",
   "execution_count": null,
   "id": "999e754e-15d0-4e08-a3fb-090d3b55aa0c",
   "metadata": {},
   "outputs": [],
   "source": [
    "y_train=y_BS_train\n",
    "y_test=y_BS_test"
   ]
  },
  {
   "cell_type": "markdown",
   "id": "2ce782ed-8750-47e4-88ac-a7279838c875",
   "metadata": {},
   "source": [
    "###### ***Mise en oeuvre du modèle SVM***"
   ]
  },
  {
   "cell_type": "code",
   "execution_count": null,
   "id": "ec6c8b0f-ebcf-42d9-8725-625ba0b341a5",
   "metadata": {},
   "outputs": [],
   "source": [
    "m1=svm.SVR()\n",
    "m1.fit(X_train, y_train)"
   ]
  },
  {
   "cell_type": "markdown",
   "id": "85577238-5b8f-49bd-85fd-1ab722265f65",
   "metadata": {},
   "source": [
    "###### ***Evaluation du modèle SVM : calcul de l\"accuracy***"
   ]
  },
  {
   "cell_type": "code",
   "execution_count": null,
   "id": "acccad90-051f-4800-a4cb-e465e9219b99",
   "metadata": {},
   "outputs": [],
   "source": [
    "accuracy_svm = m1.score(X_test, y_test)\n",
    "accuracy_svm"
   ]
  },
  {
   "cell_type": "markdown",
   "id": "76b3abdb-a7c9-4810-b60e-675b4973cb93",
   "metadata": {},
   "source": [
    "###### ***Evaluation du modèle SVM : calcul du MSE***"
   ]
  },
  {
   "cell_type": "code",
   "execution_count": null,
   "id": "3d13fcb3-4967-4ddb-bb0b-ae8301ed2fa9",
   "metadata": {},
   "outputs": [],
   "source": [
    "y_pred=m1.predict(X_test)\n",
    "mse_svm=mean_squared_error(y_pred,y_test)\n",
    "mse_svm"
   ]
  },
  {
   "cell_type": "markdown",
   "id": "d9604322-0025-490e-9639-fbb46a6fa3b5",
   "metadata": {},
   "source": [
    "A présent nous avons implémenter notre modèle SVM pour prédire le cours de l'action en fin de journée. Pour évaluer la qualité de notre modèle, nous avons utilisé deux indicateurs: l'***Accuracy et le MSE (Mean Square Error)***. \n",
    "Nous avons un *accuracy* de 0.95, qui est supérieur au seuil qu'on s'est fixé; cela veut dire que, selon cet indicateur, notre modèle est fiable pour prédire avec précision les mouvements futurs de notre série financière.\n",
    "Le MSE quant-à lui est de 0.06, largement inférieur à notr seuil. Alors, la différence moyenne entre les valeurs prédites par le modèle et les valeurs réelles de la série n'est pas significative. Selon cette indicateur, on a un très bon modèle."
   ]
  },
  {
   "cell_type": "raw",
   "id": "159f41a5-f3d2-47aa-83dd-015df055fcf2",
   "metadata": {},
   "source": []
  },
  {
   "cell_type": "markdown",
   "id": "6a4cabee-6254-4f9b-a7dc-0d3d2a1b364a",
   "metadata": {},
   "source": [
    "### **III.2 Modèle Black-Scholes**"
   ]
  },
  {
   "cell_type": "markdown",
   "id": "9ae14776-3c58-423a-ac01-65ce7d748bb4",
   "metadata": {},
   "source": [
    "Dans cette partie, nous allons faire un focus sur la variable des log-rendements, priviligiée dans la plupart des analyses sur des séries financières. Cette variable a été calculée précédemment avant la définition de l'échantillon d'entrainement pour le modèle SVM. La moyenne de cette variable nous aide juste à évaluer la performane de la série des prix de l'action en fin de journée durant l'année 2019. Elle de 0.001 dans notre cas; par rapport au seuil que l'on s'est fixés, nous pourrions dire que la performance de notre série financière n'a pas été très bonne dans l'année. Cependant, cette moyenne de donne pas une indication précise sur le comportement futur de la série financière en question, donc ne peut pas etre d'une grande utilité pour ce travail qui a pour objectif d'etre utile aux investisseurs financiers.\n",
    "Par contre, l'écart-type de la variable des log-rendements est d'une importance particulière car elle exprime la volatilité ou variabilité des rendements d'une série fiancière. Les livres scientifiques et précisement financiers utilisent certes une formule ajustée et plus complexe pour avoir la volatilité, mais sur la plupart des marchés fianciers, c'est cet écart-type qui est utilisé pour des raisaons de simplicité. Dans notre cas il est de 0.12, ce qui est bon signe car il doit etre faible."
   ]
  },
  {
   "cell_type": "code",
   "execution_count": null,
   "id": "501ad4ab-489d-4c71-b335-92029adb2949",
   "metadata": {},
   "outputs": [],
   "source": [
    "#Calcul de la moyenne des log-rendements\n",
    "mu=np.mean(X_BS_train.Log_Rdt)\n",
    "mu"
   ]
  },
  {
   "cell_type": "code",
   "execution_count": null,
   "id": "0e4ca26d-b8ac-4d3a-9b5c-effd517b0323",
   "metadata": {},
   "outputs": [],
   "source": [
    "#Estimation de la volatilité des log-rendements : par souci de simplification, nous prenons l'écart-type des log-rendements\n",
    "sigma=np.std(X_BS_train.Log_Rdt)*np.sqrt(len(X_BS_train))\n",
    "sigma"
   ]
  },
  {
   "cell_type": "markdown",
   "id": "66aec3c2-2680-4005-b235-1c43430dae1c",
   "metadata": {},
   "source": [
    "###### ***Implémentation du modèle de B&S***"
   ]
  },
  {
   "cell_type": "code",
   "execution_count": null,
   "id": "941d1efe-f5d9-46ee-a69e-6c4b609e2a73",
   "metadata": {},
   "outputs": [],
   "source": [
    "#Ecriture d'une fonction qui estime le cours de l'action AXA par la formule de Black & Scholes à horizon d jour(s)\n",
    "\n",
    "def Estim_cours_action(d):\n",
    "    \n",
    "    start_Date = datetime.datetime(2019, 1, 1)\n",
    "    end_Date = datetime.datetime(2019, 12, 31)\n",
    "\n",
    "    GetAXAInfo = yahooFinance.Ticker(\"CS.PA\")\n",
    "\n",
    "    df_init=GetAXAInfo.history(start=start_Date,end=end_Date)\n",
    "    \n",
    "    #Transformation du cours de l'action de la veille en une variable\n",
    "    dec=df_init[\"Close\"].shift(1)\n",
    "    df_init= df_init.assign(Close_veille=dec)\n",
    "    \n",
    "    #Calcul des log-rendements\n",
    "    Log_Rdt=np.log(df_init.Close/df_init.Close_veille)\n",
    "    df_init= df_init.assign(Log_Rdt=Log_Rdt)\n",
    "    \n",
    "    #Rajout d'un indice temporel dans la base de données\n",
    "    df_init.reset_index(level=0, inplace=True)\n",
    "    df_init= df_init.assign(t=df_init.index)\n",
    "    \n",
    "    #Création d'une base de données d'apprentissage et d'une base de données de test\n",
    "    df=df_init.dropna()\n",
    "    X_BS=pd.DataFrame(df, columns=['Open','Close_veille','t','Log_Rdt'])\n",
    "    y_BS=pd.Series(df.Close)\n",
    "    X_BS_train, X_BS_test, y_BS_train, y_BS_test = train_test_split(X_BS, y_BS, test_size=0.2, random_state=0)\n",
    "    \n",
    "    #Calcul de la moyenne des log-rendements\n",
    "    mu=np.mean(X_BS_train.Log_Rdt)\n",
    "    \n",
    "    #Estimation de la volatilité des log-rendements : par souci de simplification, nous prenons l'écart-type des log-rendements\n",
    "    sigma=np.std(X_BS_train.Log_Rdt)*np.sqrt(len(X_BS_train))\n",
    "    \n",
    "    np.random.seed(94)\n",
    "    val_norm=np.random.normal(0, 1)\n",
    "\n",
    "    Est_Close_BS=y_BS_train[min(y_BS_train.index)]*np.exp((mu-(sigma**2)/2)*(d) + sigma*val_norm*np.sqrt(d))\n",
    "    return Est_Close_BS"
   ]
  },
  {
   "cell_type": "code",
   "execution_count": null,
   "id": "092bd36c-e517-428f-abfe-fa0e9307ee92",
   "metadata": {},
   "outputs": [],
   "source": [
    "#Ecriture d'une fonction qui estime le cours de l'action AXA pour plusieurs horizons temporels donnés\n",
    "\n",
    "def Estim_cours_action_serie(y):\n",
    "    indexes=y.index\n",
    "    Est_Close_BS_serie=[None]*len(indexes)\n",
    "    j=0\n",
    "    for i in indexes:\n",
    "        Est_Close_BS_serie[j]=Estim_cours_action(i)\n",
    "        j+=1\n",
    "    Est_Close_BS_serie=pd.Series(Est_Close_BS_serie)\n",
    "    return Est_Close_BS_serie"
   ]
  },
  {
   "cell_type": "code",
   "execution_count": null,
   "id": "d2b19144-9c6e-468a-815b-3713ad2d989a",
   "metadata": {},
   "outputs": [],
   "source": [
    "Estimation=Estim_cours_action_serie(y_BS_test)\n",
    "indexes_0=Estimation.index"
   ]
  },
  {
   "cell_type": "markdown",
   "id": "be29c9a7-78a5-44d1-80a3-d1a1a6420b5c",
   "metadata": {},
   "source": [
    "Après avoir implémenté de célèbre modèle de B&S, nous analysons l'érreur de prédiction qui est commise. Nous allons utilisé le MSE et une analyse graphique pour évaluer la performance de ce modèle.\n",
    "\n",
    "Le graphique ci-dessous nous montre, tout comme l'indicateur MSE calculé plus bas, que l'érreur de prédiction avec le modèle B&S n'est pas négligable, bien au contraire si on compare avec les résultats des autres modèles. Ici nous avons une MSE de pratiquement 11.6"
   ]
  },
  {
   "cell_type": "code",
   "execution_count": null,
   "id": "632a7ea2-15dd-41d3-b2e4-0638ed7e496f",
   "metadata": {},
   "outputs": [],
   "source": [
    "#Représentation graphique de l'erreur de prédiction entre B&S et série réelle \n",
    "\n",
    "y_BS_test.index=indexes_0\n",
    "Erreur=y_BS_test-Estimation\n",
    "plt.plot(indexes_0, Erreur)\n",
    "ay=plt.gca()\n",
    "ay.axhline(y=0, color='red')"
   ]
  },
  {
   "cell_type": "code",
   "execution_count": null,
   "id": "391df34e-9ad0-496b-8f8a-362683685d67",
   "metadata": {},
   "outputs": [],
   "source": [
    "mse_BS=mean_squared_error(Estimation,y_BS_test)\n",
    "mse_BS"
   ]
  },
  {
   "cell_type": "raw",
   "id": "f999f551-c2e6-4c19-becb-444bc59351c6",
   "metadata": {},
   "source": []
  },
  {
   "cell_type": "markdown",
   "id": "04eb100e-3ddb-45d4-9bb5-3d69d8ac595a",
   "metadata": {},
   "source": [
    "## **C) Ce qu'on retient**"
   ]
  },
  {
   "cell_type": "markdown",
   "id": "c3228be9-ce52-47c1-9b94-bcb6ac453b3d",
   "metadata": {},
   "source": [
    "### En comparant les algorithmes de Machine Learning que nous avons utilisé au modèle Black-Scholes pour la prédiction du cours de l'action de la compagnie d'Assurance AXA, nous retenons que les algorithmes de Machines Learning sont à recommander à de potentiels investisseurs du marché boursier, par rapport au modèle Black-Scholes pour, ce type de prédiction. En effet, ces algorithmes de machine learning que nous avons utilisés, notament la regression multilinéaire et le SVM, expliquent et prédisent mieux le comportement futur du cours de l'action, par rapport au modèle Black-Scholes. Pour faire cette comparaison, nous avons utilisé des indicateurs comme l'Accuracy, le MSE ainsi une représentation graphique des erreurs de prédiction. Comme nous l'avons mentionné plus haut, toutes nos conclusions sont faites sur la base d'un seuil de 0.55 fixé aléatoirement. Nous rappelons aussi que nous avons pris, pour nos modèles de Machine learning, la variable *Close* comme variable dépendante et les variables *Open* et *Close_veille* comme variables explicatives. Il était donc question pour nous d'expliquer le prix d'une action à la fin d'une journée donnée en fonction du prix en début de journée et du prix la veille."
   ]
  }
 ],
 "metadata": {
  "kernelspec": {
   "display_name": "Python 3 (ipykernel)",
   "language": "python",
   "name": "python3"
  },
  "language_info": {
   "codemirror_mode": {
    "name": "ipython",
    "version": 3
   },
   "file_extension": ".py",
   "mimetype": "text/x-python",
   "name": "python",
   "nbconvert_exporter": "python",
   "pygments_lexer": "ipython3",
   "version": "3.10.4"
  }
 },
 "nbformat": 4,
 "nbformat_minor": 5
}
