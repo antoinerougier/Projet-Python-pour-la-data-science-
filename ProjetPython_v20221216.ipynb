{
 "cells": [
  {
   "cell_type": "markdown",
   "id": "7c9a4dec-fada-484d-a03f-398592a142c9",
   "metadata": {},
   "source": [
    "# Projet Python pour la data science \n",
    "\n",
    "Auteurs : NGUEMOGNE Sandra, Rougier Antoine\n",
    "\n",
    "L'objectif de ce notebook est de présenter le projet que nous avons effectué dans le cadre de l'unité d'enseignement Python pour la data science dispensée à l'ENSAE. Ce projet a été élaboré de manière libre et comporte, comme attendu, un jeu de données récupéré et traité, une partie visualisation et une partie modélisation."
   ]
  },
  {
   "cell_type": "markdown",
   "id": "912cd75d-3858-4e19-a7fa-38c41ec36114",
   "metadata": {},
   "source": [
    "# Problématique \n",
    "\n",
    "Ce projet s'articule autour de la problématique suivante : Comment peut-on créer une modélisation pertinente des prix que nous cherchons, et comment peut-on comparer cela avec une véritable stratégie financière ? (le modèle Black-Sholes)\n",
    "\n",
    "La structure est divisée en deux parties distinctes :\n",
    "- dans un premier temps, nous allons récupérer le jeu de donnée, et basé notre modèle dessus \n",
    "- puis nous utiliserons la méthode Black-Sholes pour comparer les deux méthodes "
   ]
  },
  {
   "cell_type": "markdown",
   "id": "7d5a2021-32b4-4e67-b88b-548bcb093678",
   "metadata": {},
   "source": [
    "# Installations préalables \n",
    "\n",
    "Avant d'exécuter veuillez procéder aux installations de modules nécessaires au bon fonctionnement du code en exécutant la cellule ci-dessous."
   ]
  },
  {
   "cell_type": "code",
   "execution_count": 1,
   "id": "31292990-ecfc-46ee-84e6-17d457a8f6b2",
   "metadata": {},
   "outputs": [
    {
     "name": "stdout",
     "output_type": "stream",
     "text": [
      "Collecting yfinance\n",
      "  Downloading yfinance-0.2.3-py2.py3-none-any.whl (50 kB)\n",
      "\u001b[2K     \u001b[90m━━━━━━━━━━━━━━━━━━━━━━━━━━━━━━━━━━━━━━━\u001b[0m \u001b[32m50.4/50.4 kB\u001b[0m \u001b[31m368.7 kB/s\u001b[0m eta \u001b[36m0:00:00\u001b[0ma \u001b[36m0:00:01\u001b[0m\n",
      "\u001b[?25hCollecting html5lib>=1.1\n",
      "  Downloading html5lib-1.1-py2.py3-none-any.whl (112 kB)\n",
      "\u001b[2K     \u001b[90m━━━━━━━━━━━━━━━━━━━━━━━━━━━━━━━━━━━━━━\u001b[0m \u001b[32m112.2/112.2 kB\u001b[0m \u001b[31m13.7 MB/s\u001b[0m eta \u001b[36m0:00:00\u001b[0m\n",
      "\u001b[?25hCollecting appdirs>=1.4.4\n",
      "  Downloading appdirs-1.4.4-py2.py3-none-any.whl (9.6 kB)\n",
      "Requirement already satisfied: requests>=2.26 in /opt/mamba/lib/python3.10/site-packages (from yfinance) (2.28.1)\n",
      "Collecting frozendict>=2.3.4\n",
      "  Downloading frozendict-2.3.4-cp310-cp310-manylinux_2_17_x86_64.manylinux2014_x86_64.whl (113 kB)\n",
      "\u001b[2K     \u001b[90m━━━━━━━━━━━━━━━━━━━━━━━━━━━━━━━━━━━━━━\u001b[0m \u001b[32m113.2/113.2 kB\u001b[0m \u001b[31m22.3 MB/s\u001b[0m eta \u001b[36m0:00:00\u001b[0m\n",
      "\u001b[?25hCollecting lxml>=4.9.1\n",
      "  Downloading lxml-4.9.2-cp310-cp310-manylinux_2_17_x86_64.manylinux2014_x86_64.manylinux_2_24_x86_64.whl (7.1 MB)\n",
      "\u001b[2K     \u001b[90m━━━━━━━━━━━━━━━━━━━━━━━━━━━━━━━━━━━━━━━━\u001b[0m \u001b[32m7.1/7.1 MB\u001b[0m \u001b[31m20.6 MB/s\u001b[0m eta \u001b[36m0:00:00\u001b[0m00:01\u001b[0m00:01\u001b[0m\n",
      "\u001b[?25hRequirement already satisfied: beautifulsoup4>=4.11.1 in /opt/mamba/lib/python3.10/site-packages (from yfinance) (4.11.1)\n",
      "Requirement already satisfied: numpy>=1.16.5 in /opt/mamba/lib/python3.10/site-packages (from yfinance) (1.23.5)\n",
      "Requirement already satisfied: pandas>=1.3.0 in /opt/mamba/lib/python3.10/site-packages (from yfinance) (1.5.1)\n",
      "Collecting multitasking>=0.0.7\n",
      "  Downloading multitasking-0.0.11-py3-none-any.whl (8.5 kB)\n",
      "Requirement already satisfied: pytz>=2022.5 in /opt/mamba/lib/python3.10/site-packages (from yfinance) (2022.6)\n",
      "Requirement already satisfied: cryptography>=3.3.2 in /opt/mamba/lib/python3.10/site-packages (from yfinance) (38.0.3)\n",
      "Requirement already satisfied: soupsieve>1.2 in /opt/mamba/lib/python3.10/site-packages (from beautifulsoup4>=4.11.1->yfinance) (2.3.2.post1)\n",
      "Requirement already satisfied: cffi>=1.12 in /opt/mamba/lib/python3.10/site-packages (from cryptography>=3.3.2->yfinance) (1.15.1)\n",
      "Requirement already satisfied: webencodings in /opt/mamba/lib/python3.10/site-packages (from html5lib>=1.1->yfinance) (0.5.1)\n",
      "Requirement already satisfied: six>=1.9 in /opt/mamba/lib/python3.10/site-packages (from html5lib>=1.1->yfinance) (1.16.0)\n",
      "Requirement already satisfied: python-dateutil>=2.8.1 in /opt/mamba/lib/python3.10/site-packages (from pandas>=1.3.0->yfinance) (2.8.2)\n",
      "Requirement already satisfied: idna<4,>=2.5 in /opt/mamba/lib/python3.10/site-packages (from requests>=2.26->yfinance) (3.4)\n",
      "Requirement already satisfied: charset-normalizer<3,>=2 in /opt/mamba/lib/python3.10/site-packages (from requests>=2.26->yfinance) (2.1.1)\n",
      "Requirement already satisfied: urllib3<1.27,>=1.21.1 in /opt/mamba/lib/python3.10/site-packages (from requests>=2.26->yfinance) (1.26.11)\n",
      "Requirement already satisfied: certifi>=2017.4.17 in /opt/mamba/lib/python3.10/site-packages (from requests>=2.26->yfinance) (2022.9.24)\n",
      "Requirement already satisfied: pycparser in /opt/mamba/lib/python3.10/site-packages (from cffi>=1.12->cryptography>=3.3.2->yfinance) (2.21)\n",
      "Installing collected packages: multitasking, appdirs, lxml, html5lib, frozendict, yfinance\n",
      "Successfully installed appdirs-1.4.4 frozendict-2.3.4 html5lib-1.1 lxml-4.9.2 multitasking-0.0.11 yfinance-0.2.3\n",
      "Requirement already satisfied: matplotlib in /opt/mamba/lib/python3.10/site-packages (3.6.2)\n",
      "Requirement already satisfied: pyparsing>=2.2.1 in /opt/mamba/lib/python3.10/site-packages (from matplotlib) (3.0.9)\n",
      "Requirement already satisfied: python-dateutil>=2.7 in /opt/mamba/lib/python3.10/site-packages (from matplotlib) (2.8.2)\n",
      "Requirement already satisfied: fonttools>=4.22.0 in /opt/mamba/lib/python3.10/site-packages (from matplotlib) (4.38.0)\n",
      "Requirement already satisfied: packaging>=20.0 in /opt/mamba/lib/python3.10/site-packages (from matplotlib) (21.3)\n",
      "Requirement already satisfied: cycler>=0.10 in /opt/mamba/lib/python3.10/site-packages (from matplotlib) (0.11.0)\n",
      "Requirement already satisfied: kiwisolver>=1.0.1 in /opt/mamba/lib/python3.10/site-packages (from matplotlib) (1.4.4)\n",
      "Requirement already satisfied: contourpy>=1.0.1 in /opt/mamba/lib/python3.10/site-packages (from matplotlib) (1.0.6)\n",
      "Requirement already satisfied: pillow>=6.2.0 in /opt/mamba/lib/python3.10/site-packages (from matplotlib) (9.2.0)\n",
      "Requirement already satisfied: numpy>=1.19 in /opt/mamba/lib/python3.10/site-packages (from matplotlib) (1.23.5)\n",
      "Requirement already satisfied: six>=1.5 in /opt/mamba/lib/python3.10/site-packages (from python-dateutil>=2.7->matplotlib) (1.16.0)\n"
     ]
    }
   ],
   "source": [
    "!pip install yfinance\n",
    "!pip install matplotlib"
   ]
  },
  {
   "cell_type": "markdown",
   "id": "fc09cc7b-be1f-4d25-828a-731ae959a712",
   "metadata": {},
   "source": [
    "# Importation des modules "
   ]
  },
  {
   "cell_type": "code",
   "execution_count": 65,
   "id": "983d2492-7dd3-41a9-a784-dfeb76726530",
   "metadata": {},
   "outputs": [],
   "source": [
    "import yfinance as yahooFinance\n",
    "import datetime\n",
    "import math\n",
    "import matplotlib.pyplot as plt\n",
    "import seaborn as sns\n",
    "import numpy as np\n",
    "import pandas as pd\n",
    "from sklearn.preprocessing import StandardScaler\n",
    "from sklearn.model_selection import train_test_split\n",
    "from sklearn.utils import check_X_y\n",
    "from sklearn import svm\n",
    "import sklearn.metrics\n",
    "from sklearn.model_selection import cross_val_score\n",
    "from sklearn.linear_model import LinearRegression\n",
    "from sklearn.metrics import mean_squared_error, r2_score\n"
   ]
  },
  {
   "cell_type": "markdown",
   "id": "816a1713-8a38-4891-be95-69e1bc49421a",
   "metadata": {},
   "source": [
    "# Récupération et traitement des données \n",
    "\n",
    "La première étape de notre projet a été la récupération et le traitement des données. Dans notre cas, nous avons fait le choix de récupérer des données fournis directement sur le site Yahoo Finance."
   ]
  },
  {
   "cell_type": "code",
   "execution_count": 78,
   "id": "d6ddd70c-1c0b-4d05-8d13-d97b8c293fea",
   "metadata": {},
   "outputs": [],
   "source": [
    "start_Date = datetime.datetime(2019, 1, 1)\n",
    "end_Date = datetime.datetime(2019, 12, 31)\n",
    "\n",
    "GetAXAInfo = yahooFinance.Ticker(\"CS.PA\")\n",
    "df_init=GetAXAInfo.history(start=start_Date,end=end_Date)"
   ]
  },
  {
   "cell_type": "markdown",
   "id": "5fa31457-c731-4e13-9878-c5a0b9e1c86a",
   "metadata": {},
   "source": [
    "# Traitement des données "
   ]
  },
  {
   "cell_type": "markdown",
   "id": "a1f0651f-cb9c-4cd4-8adb-dc75a1e28f21",
   "metadata": {},
   "source": [
    "Nous voulons d'abord savoir le nombre de ligne que comporte ce tableau, puis nous voulons connaître les informations qui se trouvent dans chaque colonnes. "
   ]
  },
  {
   "cell_type": "code",
   "execution_count": 4,
   "id": "6c8547f3-5e00-401b-8bce-00eaa1e62114",
   "metadata": {},
   "outputs": [
    {
     "name": "stdout",
     "output_type": "stream",
     "text": [
      "255\n",
      "Index(['Open', 'High', 'Low', 'Close', 'Volume', 'Dividends', 'Stock Splits'], dtype='object')\n"
     ]
    }
   ],
   "source": [
    "print(len(df_init))\n",
    "print(df_init.columns)"
   ]
  },
  {
   "cell_type": "code",
   "execution_count": 47,
   "id": "936d7d60-089b-456b-857d-bc5c1cc01221",
   "metadata": {},
   "outputs": [
    {
     "name": "stdout",
     "output_type": "stream",
     "text": [
      "                                Open       High        Low      Close  \\\n",
      "Date                                                                    \n",
      "2019-01-02 00:00:00+01:00  13.595196  13.738302  13.455008  13.731001   \n",
      "2019-01-03 00:00:00+01:00  13.599576  13.836142  13.589354  13.617100   \n",
      "2019-01-04 00:00:00+01:00  13.720779  14.087309  13.666749  14.044961   \n",
      "2019-01-07 00:00:00+01:00  14.078548  14.150101  13.900394  13.982169   \n",
      "2019-01-08 00:00:00+01:00  14.027436  14.218733  13.988009  14.034738   \n",
      "\n",
      "                             Volume  Dividends  Stock Splits  \n",
      "Date                                                          \n",
      "2019-01-02 00:00:00+01:00   8028529        0.0           0.0  \n",
      "2019-01-03 00:00:00+01:00   6583413        0.0           0.0  \n",
      "2019-01-04 00:00:00+01:00  11675578        0.0           0.0  \n",
      "2019-01-07 00:00:00+01:00   7530045        0.0           0.0  \n",
      "2019-01-08 00:00:00+01:00   7314687        0.0           0.0  \n"
     ]
    }
   ],
   "source": [
    "print(df_init.head())"
   ]
  },
  {
   "cell_type": "markdown",
   "id": "108004b5-d695-4a21-990a-fabe16c70ef7",
   "metadata": {},
   "source": [
    "On va regarder maintenant des informations spécifiques sur les colonnes en utilisant la fonction describe"
   ]
  },
  {
   "cell_type": "code",
   "execution_count": 53,
   "id": "d06a6259-5bbb-4788-acf1-6370945e6d7a",
   "metadata": {},
   "outputs": [
    {
     "data": {
      "text/html": [
       "<div>\n",
       "<style scoped>\n",
       "    .dataframe tbody tr th:only-of-type {\n",
       "        vertical-align: middle;\n",
       "    }\n",
       "\n",
       "    .dataframe tbody tr th {\n",
       "        vertical-align: top;\n",
       "    }\n",
       "\n",
       "    .dataframe thead th {\n",
       "        text-align: right;\n",
       "    }\n",
       "</style>\n",
       "<table border=\"1\" class=\"dataframe\">\n",
       "  <thead>\n",
       "    <tr style=\"text-align: right;\">\n",
       "      <th></th>\n",
       "      <th>Open</th>\n",
       "      <th>High</th>\n",
       "      <th>Low</th>\n",
       "      <th>Close</th>\n",
       "      <th>Volume</th>\n",
       "      <th>Dividends</th>\n",
       "      <th>Stock Splits</th>\n",
       "    </tr>\n",
       "  </thead>\n",
       "  <tbody>\n",
       "    <tr>\n",
       "      <th>count</th>\n",
       "      <td>255.000000</td>\n",
       "      <td>255.000000</td>\n",
       "      <td>255.000000</td>\n",
       "      <td>255.000000</td>\n",
       "      <td>2.550000e+02</td>\n",
       "      <td>255.000000</td>\n",
       "      <td>255.0</td>\n",
       "    </tr>\n",
       "    <tr>\n",
       "      <th>mean</th>\n",
       "      <td>17.233804</td>\n",
       "      <td>17.364001</td>\n",
       "      <td>17.126566</td>\n",
       "      <td>17.259327</td>\n",
       "      <td>6.180807e+06</td>\n",
       "      <td>0.005255</td>\n",
       "      <td>0.0</td>\n",
       "    </tr>\n",
       "    <tr>\n",
       "      <th>std</th>\n",
       "      <td>1.427426</td>\n",
       "      <td>1.419908</td>\n",
       "      <td>1.425413</td>\n",
       "      <td>1.425055</td>\n",
       "      <td>2.229986e+06</td>\n",
       "      <td>0.083914</td>\n",
       "      <td>0.0</td>\n",
       "    </tr>\n",
       "    <tr>\n",
       "      <th>min</th>\n",
       "      <td>13.595197</td>\n",
       "      <td>13.738303</td>\n",
       "      <td>13.455009</td>\n",
       "      <td>13.617098</td>\n",
       "      <td>0.000000e+00</td>\n",
       "      <td>0.000000</td>\n",
       "      <td>0.0</td>\n",
       "    </tr>\n",
       "    <tr>\n",
       "      <th>25%</th>\n",
       "      <td>16.391627</td>\n",
       "      <td>16.570513</td>\n",
       "      <td>16.289409</td>\n",
       "      <td>16.439543</td>\n",
       "      <td>4.741434e+06</td>\n",
       "      <td>0.000000</td>\n",
       "      <td>0.0</td>\n",
       "    </tr>\n",
       "    <tr>\n",
       "      <th>50%</th>\n",
       "      <td>17.344898</td>\n",
       "      <td>17.443028</td>\n",
       "      <td>17.182398</td>\n",
       "      <td>17.333290</td>\n",
       "      <td>5.805304e+06</td>\n",
       "      <td>0.000000</td>\n",
       "      <td>0.0</td>\n",
       "    </tr>\n",
       "    <tr>\n",
       "      <th>75%</th>\n",
       "      <td>18.283140</td>\n",
       "      <td>18.428228</td>\n",
       "      <td>18.182544</td>\n",
       "      <td>18.312158</td>\n",
       "      <td>7.141672e+06</td>\n",
       "      <td>0.000000</td>\n",
       "      <td>0.0</td>\n",
       "    </tr>\n",
       "    <tr>\n",
       "      <th>max</th>\n",
       "      <td>19.646974</td>\n",
       "      <td>19.685665</td>\n",
       "      <td>19.546381</td>\n",
       "      <td>19.658583</td>\n",
       "      <td>1.826625e+07</td>\n",
       "      <td>1.340000</td>\n",
       "      <td>0.0</td>\n",
       "    </tr>\n",
       "  </tbody>\n",
       "</table>\n",
       "</div>"
      ],
      "text/plain": [
       "             Open        High         Low       Close        Volume  \\\n",
       "count  255.000000  255.000000  255.000000  255.000000  2.550000e+02   \n",
       "mean    17.233804   17.364001   17.126566   17.259327  6.180807e+06   \n",
       "std      1.427426    1.419908    1.425413    1.425055  2.229986e+06   \n",
       "min     13.595197   13.738303   13.455009   13.617098  0.000000e+00   \n",
       "25%     16.391627   16.570513   16.289409   16.439543  4.741434e+06   \n",
       "50%     17.344898   17.443028   17.182398   17.333290  5.805304e+06   \n",
       "75%     18.283140   18.428228   18.182544   18.312158  7.141672e+06   \n",
       "max     19.646974   19.685665   19.546381   19.658583  1.826625e+07   \n",
       "\n",
       "        Dividends  Stock Splits  \n",
       "count  255.000000         255.0  \n",
       "mean     0.005255           0.0  \n",
       "std      0.083914           0.0  \n",
       "min      0.000000           0.0  \n",
       "25%      0.000000           0.0  \n",
       "50%      0.000000           0.0  \n",
       "75%      0.000000           0.0  \n",
       "max      1.340000           0.0  "
      ]
     },
     "execution_count": 53,
     "metadata": {},
     "output_type": "execute_result"
    }
   ],
   "source": [
    "df_init.describe()"
   ]
  },
  {
   "cell_type": "markdown",
   "id": "8ad55627-e71f-405d-9708-2ba7f8b51a41",
   "metadata": {},
   "source": [
    "A première vue, il ne semble pas y avoir de valeur aberrante dans notre dataframe. Ce dataframe semble complet pour les informations que nous voulons utiliser. \n",
    "\n",
    "Il est difficile d'identifier des valeurs aberrantes dans la colonne Volume, car cela dépend énormément des transcations des différents acteurs financiers (rachat d'une partie de l'entreprise ce qui donnera une valeur élévée, mauvais résultat d'Axa ventent d'actions mais sans personnes qui ne voudraient racheter. \n",
    "\n",
    "Pour le reste des colonnes, on se rend compte que la colonnes Stock Splits est vide, ainsi il faudra la supprimer pour le reste du projet. \n",
    "\n",
    "Pour les colonnes qui indiques les prix de l'action jour par jour, à première vu, nous ne détectons pas de valeurs aberrantes notamment en regardant les moyennes, les prix maximaux et minimaux du cours des actions. \n",
    "\n",
    "Nous allons donc conserver ce jeu de donnée et le modifier un peu pour simplifier notre travail dans la suite du projet. "
   ]
  },
  {
   "cell_type": "markdown",
   "id": "ae194d86-ef5b-4dab-b2a5-bbd1819a22a2",
   "metadata": {
    "tags": []
   },
   "source": [
    "Nous remarquons que les dates peuvent poser un problème dans notre modélisation, car elles sont converties sous le format Unix, et que les heures ne nous intérèssent pas particulière dans notre projet. \n",
    "Ainsi nous allons d'abord convertir ces dates dans un format qui ne nous posera pas de problème pour se faire nous mettons les dates dans une nouvelle colonne car elles sont utilisés ici comme indexes puis nous effectons le changement que nous voulons avant de les remettre comme indexes.  "
   ]
  },
  {
   "cell_type": "code",
   "execution_count": 79,
   "id": "180b288c-9722-4917-a507-4d415c432d83",
   "metadata": {},
   "outputs": [
    {
     "data": {
      "text/html": [
       "<div>\n",
       "<style scoped>\n",
       "    .dataframe tbody tr th:only-of-type {\n",
       "        vertical-align: middle;\n",
       "    }\n",
       "\n",
       "    .dataframe tbody tr th {\n",
       "        vertical-align: top;\n",
       "    }\n",
       "\n",
       "    .dataframe thead th {\n",
       "        text-align: right;\n",
       "    }\n",
       "</style>\n",
       "<table border=\"1\" class=\"dataframe\">\n",
       "  <thead>\n",
       "    <tr style=\"text-align: right;\">\n",
       "      <th></th>\n",
       "      <th>Open</th>\n",
       "      <th>High</th>\n",
       "      <th>Low</th>\n",
       "      <th>Close</th>\n",
       "      <th>Volume</th>\n",
       "      <th>Dividends</th>\n",
       "      <th>Stock Splits</th>\n",
       "    </tr>\n",
       "    <tr>\n",
       "      <th>Date</th>\n",
       "      <th></th>\n",
       "      <th></th>\n",
       "      <th></th>\n",
       "      <th></th>\n",
       "      <th></th>\n",
       "      <th></th>\n",
       "      <th></th>\n",
       "    </tr>\n",
       "  </thead>\n",
       "  <tbody>\n",
       "    <tr>\n",
       "      <th>2019-01-02</th>\n",
       "      <td>13.595196</td>\n",
       "      <td>13.738302</td>\n",
       "      <td>13.455008</td>\n",
       "      <td>13.731001</td>\n",
       "      <td>8028529</td>\n",
       "      <td>0.0</td>\n",
       "      <td>0.0</td>\n",
       "    </tr>\n",
       "    <tr>\n",
       "      <th>2019-01-03</th>\n",
       "      <td>13.599576</td>\n",
       "      <td>13.836142</td>\n",
       "      <td>13.589354</td>\n",
       "      <td>13.617100</td>\n",
       "      <td>6583413</td>\n",
       "      <td>0.0</td>\n",
       "      <td>0.0</td>\n",
       "    </tr>\n",
       "    <tr>\n",
       "      <th>2019-01-04</th>\n",
       "      <td>13.720778</td>\n",
       "      <td>14.087309</td>\n",
       "      <td>13.666748</td>\n",
       "      <td>14.044960</td>\n",
       "      <td>11675578</td>\n",
       "      <td>0.0</td>\n",
       "      <td>0.0</td>\n",
       "    </tr>\n",
       "    <tr>\n",
       "      <th>2019-01-07</th>\n",
       "      <td>14.078548</td>\n",
       "      <td>14.150101</td>\n",
       "      <td>13.900394</td>\n",
       "      <td>13.982169</td>\n",
       "      <td>7530045</td>\n",
       "      <td>0.0</td>\n",
       "      <td>0.0</td>\n",
       "    </tr>\n",
       "    <tr>\n",
       "      <th>2019-01-08</th>\n",
       "      <td>14.027437</td>\n",
       "      <td>14.218734</td>\n",
       "      <td>13.988010</td>\n",
       "      <td>14.034739</td>\n",
       "      <td>7314687</td>\n",
       "      <td>0.0</td>\n",
       "      <td>0.0</td>\n",
       "    </tr>\n",
       "  </tbody>\n",
       "</table>\n",
       "</div>"
      ],
      "text/plain": [
       "                 Open       High        Low      Close    Volume  Dividends  \\\n",
       "Date                                                                          \n",
       "2019-01-02  13.595196  13.738302  13.455008  13.731001   8028529        0.0   \n",
       "2019-01-03  13.599576  13.836142  13.589354  13.617100   6583413        0.0   \n",
       "2019-01-04  13.720778  14.087309  13.666748  14.044960  11675578        0.0   \n",
       "2019-01-07  14.078548  14.150101  13.900394  13.982169   7530045        0.0   \n",
       "2019-01-08  14.027437  14.218734  13.988010  14.034739   7314687        0.0   \n",
       "\n",
       "            Stock Splits  \n",
       "Date                      \n",
       "2019-01-02           0.0  \n",
       "2019-01-03           0.0  \n",
       "2019-01-04           0.0  \n",
       "2019-01-07           0.0  \n",
       "2019-01-08           0.0  "
      ]
     },
     "execution_count": 79,
     "metadata": {},
     "output_type": "execute_result"
    }
   ],
   "source": [
    "df_init = df_init.reset_index()\n",
    "df_init[\"Date\"] = df_init[\"Date\"].dt.strftime('%Y-%m-%d')\n",
    "df_init = df_init.set_index('Date')\n",
    "df_init.head()\n"
   ]
  },
  {
   "cell_type": "markdown",
   "id": "ef41fd8d-d234-4aed-bbde-728499e9965b",
   "metadata": {},
   "source": [
    "Nous décidons donc de supprimer les colonnes que nous jugeons inutiles dans notre modèle, et même si la colone dividends n'est pas toujours nulle, elle ne nous servira pas pour le reste du projet. Ainsi, on utilise la fonction drop pour enlever ces colones en questions."
   ]
  },
  {
   "cell_type": "code",
   "execution_count": 80,
   "id": "fecf7ea8-1e61-4a19-b0f8-1b3127f36957",
   "metadata": {},
   "outputs": [
    {
     "data": {
      "text/html": [
       "<div>\n",
       "<style scoped>\n",
       "    .dataframe tbody tr th:only-of-type {\n",
       "        vertical-align: middle;\n",
       "    }\n",
       "\n",
       "    .dataframe tbody tr th {\n",
       "        vertical-align: top;\n",
       "    }\n",
       "\n",
       "    .dataframe thead th {\n",
       "        text-align: right;\n",
       "    }\n",
       "</style>\n",
       "<table border=\"1\" class=\"dataframe\">\n",
       "  <thead>\n",
       "    <tr style=\"text-align: right;\">\n",
       "      <th></th>\n",
       "      <th>Open</th>\n",
       "      <th>Close</th>\n",
       "      <th>Volume</th>\n",
       "    </tr>\n",
       "    <tr>\n",
       "      <th>Date</th>\n",
       "      <th></th>\n",
       "      <th></th>\n",
       "      <th></th>\n",
       "    </tr>\n",
       "  </thead>\n",
       "  <tbody>\n",
       "    <tr>\n",
       "      <th>2019-01-02</th>\n",
       "      <td>13.595196</td>\n",
       "      <td>13.731001</td>\n",
       "      <td>8028529</td>\n",
       "    </tr>\n",
       "    <tr>\n",
       "      <th>2019-01-03</th>\n",
       "      <td>13.599576</td>\n",
       "      <td>13.617100</td>\n",
       "      <td>6583413</td>\n",
       "    </tr>\n",
       "    <tr>\n",
       "      <th>2019-01-04</th>\n",
       "      <td>13.720778</td>\n",
       "      <td>14.044960</td>\n",
       "      <td>11675578</td>\n",
       "    </tr>\n",
       "    <tr>\n",
       "      <th>2019-01-07</th>\n",
       "      <td>14.078548</td>\n",
       "      <td>13.982169</td>\n",
       "      <td>7530045</td>\n",
       "    </tr>\n",
       "    <tr>\n",
       "      <th>2019-01-08</th>\n",
       "      <td>14.027437</td>\n",
       "      <td>14.034739</td>\n",
       "      <td>7314687</td>\n",
       "    </tr>\n",
       "  </tbody>\n",
       "</table>\n",
       "</div>"
      ],
      "text/plain": [
       "                 Open      Close    Volume\n",
       "Date                                      \n",
       "2019-01-02  13.595196  13.731001   8028529\n",
       "2019-01-03  13.599576  13.617100   6583413\n",
       "2019-01-04  13.720778  14.044960  11675578\n",
       "2019-01-07  14.078548  13.982169   7530045\n",
       "2019-01-08  14.027437  14.034739   7314687"
      ]
     },
     "execution_count": 80,
     "metadata": {},
     "output_type": "execute_result"
    }
   ],
   "source": [
    "df_init = df_init.drop(columns =  [\"Low\", \"High\", \"Dividends\",\"Stock Splits\"])\n",
    "df_init.head()"
   ]
  },
  {
   "cell_type": "markdown",
   "id": "0a81011b-67af-4e52-8879-4a7be354db22",
   "metadata": {},
   "source": [
    "Pour conclure sur cette première partie, nous avons importé des données qui étaient déjà traité, ce qui nous a facilité la tâche dans cette partie, puis nous avons du effectuer quelques modifications sur la base de donnée sinon cela faussait notre modélisation, puis nous avons enlever les colonnes que nous jugions inutiles pour le reste de notre projet. "
   ]
  },
  {
   "cell_type": "markdown",
   "id": "5da5b280-cc3b-410b-9c8c-e9410c7bb6dc",
   "metadata": {},
   "source": [
    "# Visualisation des données "
   ]
  },
  {
   "cell_type": "markdown",
   "id": "7c5e5ce5-ac2a-4343-a10b-f04707fb63b1",
   "metadata": {
    "tags": []
   },
   "source": [
    "Dans cette partie, nous vonlous afficher un graphique des prix de l'action Axa au cours de l'année 2019, puis de faire un histogramme de la somme de chaque volume échanger par mois pour voir s'il y a des périodes d'échange significative. "
   ]
  },
  {
   "cell_type": "markdown",
   "id": "ff2b26f3-ba28-4d8f-a15f-f7a47730e8ba",
   "metadata": {},
   "source": [
    "Pour commencer nous décidons de faire une copie de notre base de donnée. "
   ]
  },
  {
   "cell_type": "code",
   "execution_count": 81,
   "id": "dd300765-82d1-4010-8ebd-9689cdb0cc33",
   "metadata": {},
   "outputs": [],
   "source": [
    "df2 = df_init.copy()"
   ]
  },
  {
   "cell_type": "markdown",
   "id": "2c1487be-5b74-4fef-9479-01be696985e4",
   "metadata": {},
   "source": [
    "Ensuite, nous allons donc afficher un graphique des prix d'ouverture de l'action Axa sur cette période. "
   ]
  },
  {
   "cell_type": "code",
   "execution_count": 82,
   "id": "03708454-b7bb-4184-a960-3a62ac5131e3",
   "metadata": {},
   "outputs": [
    {
     "data": {
      "text/plain": [
       "Text(0.5, 0, 'Temps')"
      ]
     },
     "execution_count": 82,
     "metadata": {},
     "output_type": "execute_result"
    },
    {
     "data": {
      "image/png": "[encoded data removed]",
      "text/plain": [
       "<Figure size 640x480 with 2 Axes>"
      ]
     },
     "metadata": {},
     "output_type": "display_data"
    }
   ],
   "source": [
    "new_df = df2[['Open']]\n",
    "new_df2 = df2[['Close']]\n",
    "plt.subplot(211)\n",
    "plt.plot(new_df)\n",
    "plt.title(\"Evolution des prix d'ouverture des actions de AXA\")\n",
    "plt.ylabel(\"Valeurs\")\n",
    "plt.xlabel(\"Temps\")\n",
    "\n",
    "plt.subplot(212)\n",
    "plt.plot(new_df2)\n",
    "plt.title(\"Evolution des prix de fermeture des actions de AXA\")\n",
    "plt.ylabel(\"Valeurs\")\n",
    "plt.xlabel(\"Temps\")"
   ]
  },
  {
   "cell_type": "markdown",
   "id": "ef5014ec-8437-49ff-9ef1-8d939735730c",
   "metadata": {},
   "source": [
    "Nous voyons ici que les prix croissent à un certains rythme et que qu'il n'y a pas d'erreur dans nos données pour les prix d'ouverture. Nous n'avons pas de valeur abérante qui fausserait le graphique. Nous en concluons alors que nous pouvons utiliser cette base de donnée pour faire notre modèle.\n",
    "\n",
    "On veut aussi avoir un histogramme qui nous montre le nombre de transaction par mois de l'action AXA pour voir si il y a une évolution au cours de l'année 2019.\n",
    "Pour ce faire nous allons utiliser la méthode groupby de pandas pour créer des nouveaux tableaux qui correspondent à chaque mois de l'année. Nous allons donc changer les dates pour ne conserver uniquement le mois. Afin, nous devons aussi réorgarniser les indexes, car sinon nous auriont un groupby dans l'ordre alphabétique, ce qui peut fausser notre interprétation. Et nous sommons toutes les valeurs de chaque mois pour avoir un nombre de transaction effectuer ce qui correspond donc aux volumes échangers chaque mois.\n",
    "\n",
    "Une fois cela fait, nous affichons un histograme dans l'ordre chronologique et un camembert pour regarder si certains mois de l'année sont plus susceptible d'avoir plus ou moins de transaction. Comme nous savons que certaines périodes peuvent être plus creuse que d'autres comme pour la période allant de Juin à Août. \n",
    "\n",
    "Enfin, nous aimerions savoir s'il y a une corréalation entre les prix de fermeture et les volumes échangers. "
   ]
  },
  {
   "cell_type": "code",
   "execution_count": 83,
   "id": "9aa9ff56-ebb0-4079-84e6-603eca2fbd88",
   "metadata": {
    "tags": []
   },
   "outputs": [
    {
     "name": "stderr",
     "output_type": "stream",
     "text": [
      "/tmp/ipykernel_165/4027404993.py:13: FutureWarning: The default value of numeric_only in DataFrameGroupBy.sum is deprecated. In a future version, numeric_only will default to False. Either specify numeric_only or select only columns which should be valid for the function.\n",
      "  sums = df_grouped.sum().reindex(['January', 'February', 'March', 'April', 'May', 'June', 'July', 'August', 'September', 'October', 'November', 'December'])\n"
     ]
    },
    {
     "data": {
      "image/png": "[encoded data removed]",
      "text/plain": [
       "<Figure size 640x480 with 1 Axes>"
      ]
     },
     "metadata": {},
     "output_type": "display_data"
    },
    {
     "data": {
      "image/png": "[encoded data removed]",
      "text/plain": [
       "<Figure size 640x480 with 1 Axes>"
      ]
     },
     "metadata": {},
     "output_type": "display_data"
    },
    {
     "data": {
      "text/html": [
       "<div>\n",
       "<style scoped>\n",
       "    .dataframe tbody tr th:only-of-type {\n",
       "        vertical-align: middle;\n",
       "    }\n",
       "\n",
       "    .dataframe tbody tr th {\n",
       "        vertical-align: top;\n",
       "    }\n",
       "\n",
       "    .dataframe thead th {\n",
       "        text-align: right;\n",
       "    }\n",
       "</style>\n",
       "<table border=\"1\" class=\"dataframe\">\n",
       "  <thead>\n",
       "    <tr style=\"text-align: right;\">\n",
       "      <th></th>\n",
       "      <th>Open</th>\n",
       "      <th>Volume</th>\n",
       "    </tr>\n",
       "  </thead>\n",
       "  <tbody>\n",
       "    <tr>\n",
       "      <th>Open</th>\n",
       "      <td>1.00000</td>\n",
       "      <td>-0.24745</td>\n",
       "    </tr>\n",
       "    <tr>\n",
       "      <th>Volume</th>\n",
       "      <td>-0.24745</td>\n",
       "      <td>1.00000</td>\n",
       "    </tr>\n",
       "  </tbody>\n",
       "</table>\n",
       "</div>"
      ],
      "text/plain": [
       "           Open   Volume\n",
       "Open    1.00000 -0.24745\n",
       "Volume -0.24745  1.00000"
      ]
     },
     "execution_count": 83,
     "metadata": {},
     "output_type": "execute_result"
    }
   ],
   "source": [
    "new_df = df2[['Volume']]\n",
    "new_df\n",
    "new_df = new_df.reset_index()\n",
    "new_df['Month'] = pd.to_datetime(new_df['Date']).dt.strftime('%B')\n",
    "df_grouped = new_df.groupby(new_df['Month'])\n",
    "\n",
    "\n",
    "#for key, item in df_grouped:\n",
    "#    print(key)\n",
    "#    print(df_grouped.get_group(key))\n",
    "\n",
    "\n",
    "sums = df_grouped.sum().reindex(['January', 'February', 'March', 'April', 'May', 'June', 'July', 'August', 'September', 'October', 'November', 'December'])\n",
    "sums\n",
    "sums.plot.bar()\n",
    "plt.show()\n",
    "\n",
    "sums.plot.pie(subplots=True)\n",
    "plt.show()\n",
    "\n",
    "df2 = df2.drop(columns =  [\"Close\"])\n",
    "df2.corr()\n"
   ]
  },
  {
   "cell_type": "markdown",
   "id": "2aaa462e-d62b-46c6-9e66-7c0b684e189e",
   "metadata": {},
   "source": [
    "On remarque alors que les volommes échanger pendant cette année 2019 reste relativement similaire pour chaque mois, nous ne voyons pas d'écart significatif au cours de cette période. De plus, nous voyons aussi une corrélation négative entre le prix d'ouverture et les volumes échangers. Nous pouvions nous attendre à ce résultat en pensant à la loi de l'offre et de la demande pour fixer un prix. Donc pour l'instant nous ne voyons pas de grosse anomalie sur nos données. "
   ]
  },
  {
   "cell_type": "markdown",
   "id": "13e083bb-474c-488b-ad53-9a05468cf35e",
   "metadata": {},
   "source": [
    "# III Modélisation d'un modèle de régression linéaire pour prédire les prix de fermeture de l'action"
   ]
  },
  {
   "cell_type": "markdown",
   "id": "61a6800d-f155-4038-8930-bb58a71fec45",
   "metadata": {},
   "source": [
    "Dans cette partie, notre objectif est de faire une prédiction, grâce au prix d'ouverture du matin avec les prix de fermeture de la veille pour prédire le prix de fermeture du soir. "
   ]
  },
  {
   "cell_type": "markdown",
   "id": "e657dfca-a1e2-4806-b85c-e5d487d7b422",
   "metadata": {},
   "source": [
    "Ainsi, nous construisons une nouvelle colonnes qui s'appelle Close_veille et a qui on associe le prix de fermeture de la veille. "
   ]
  },
  {
   "cell_type": "code",
   "execution_count": 87,
   "id": "a0dbba87-9ce2-40d4-9a76-43da993690b8",
   "metadata": {},
   "outputs": [
    {
     "data": {
      "text/html": [
       "<div>\n",
       "<style scoped>\n",
       "    .dataframe tbody tr th:only-of-type {\n",
       "        vertical-align: middle;\n",
       "    }\n",
       "\n",
       "    .dataframe tbody tr th {\n",
       "        vertical-align: top;\n",
       "    }\n",
       "\n",
       "    .dataframe thead th {\n",
       "        text-align: right;\n",
       "    }\n",
       "</style>\n",
       "<table border=\"1\" class=\"dataframe\">\n",
       "  <thead>\n",
       "    <tr style=\"text-align: right;\">\n",
       "      <th></th>\n",
       "      <th>Open</th>\n",
       "      <th>Close</th>\n",
       "      <th>Volume</th>\n",
       "      <th>Close_veille</th>\n",
       "    </tr>\n",
       "    <tr>\n",
       "      <th>Date</th>\n",
       "      <th></th>\n",
       "      <th></th>\n",
       "      <th></th>\n",
       "      <th></th>\n",
       "    </tr>\n",
       "  </thead>\n",
       "  <tbody>\n",
       "    <tr>\n",
       "      <th>2019-01-02</th>\n",
       "      <td>13.595196</td>\n",
       "      <td>13.731001</td>\n",
       "      <td>8028529</td>\n",
       "      <td>NaN</td>\n",
       "    </tr>\n",
       "    <tr>\n",
       "      <th>2019-01-03</th>\n",
       "      <td>13.599576</td>\n",
       "      <td>13.617100</td>\n",
       "      <td>6583413</td>\n",
       "      <td>13.731001</td>\n",
       "    </tr>\n",
       "    <tr>\n",
       "      <th>2019-01-04</th>\n",
       "      <td>13.720778</td>\n",
       "      <td>14.044960</td>\n",
       "      <td>11675578</td>\n",
       "      <td>13.617100</td>\n",
       "    </tr>\n",
       "    <tr>\n",
       "      <th>2019-01-07</th>\n",
       "      <td>14.078548</td>\n",
       "      <td>13.982169</td>\n",
       "      <td>7530045</td>\n",
       "      <td>14.044960</td>\n",
       "    </tr>\n",
       "    <tr>\n",
       "      <th>2019-01-08</th>\n",
       "      <td>14.027437</td>\n",
       "      <td>14.034739</td>\n",
       "      <td>7314687</td>\n",
       "      <td>13.982169</td>\n",
       "    </tr>\n",
       "  </tbody>\n",
       "</table>\n",
       "</div>"
      ],
      "text/plain": [
       "                 Open      Close    Volume  Close_veille\n",
       "Date                                                    \n",
       "2019-01-02  13.595196  13.731001   8028529           NaN\n",
       "2019-01-03  13.599576  13.617100   6583413     13.731001\n",
       "2019-01-04  13.720778  14.044960  11675578     13.617100\n",
       "2019-01-07  14.078548  13.982169   7530045     14.044960\n",
       "2019-01-08  14.027437  14.034739   7314687     13.982169"
      ]
     },
     "execution_count": 87,
     "metadata": {},
     "output_type": "execute_result"
    }
   ],
   "source": [
    "dec=df_init[\"Close\"].shift(1)\n",
    "df_init= df_init.assign(Close_veille=dec)\n",
    "df_init.head()"
   ]
  },
  {
   "cell_type": "markdown",
   "id": "86ab5907-5370-4d42-93a3-86c1c659e404",
   "metadata": {},
   "source": [
    "Nous allons maint"
   ]
  },
  {
   "cell_type": "code",
   "execution_count": 88,
   "id": "1d73e7da-cec4-43c6-b807-a386d32692d9",
   "metadata": {},
   "outputs": [
    {
     "name": "stdout",
     "output_type": "stream",
     "text": [
      "[[0.85780487 0.12703089]]\n",
      "Mean squared error: 0.03\n",
      "Coefficient of determination: 0.97\n"
     ]
    },
    {
     "data": {
      "image/png": "[encoded data removed]",
      "text/plain": [
       "<Figure size 640x480 with 1 Axes>"
      ]
     },
     "metadata": {},
     "output_type": "display_data"
    }
   ],
   "source": [
    "#On fait alors une régression en gardant pour variable explicative les prix de Open et de la fermeture de la veille\n",
    "X = df_init[['Open', 'Close_veille']]\n",
    "Y = df_init[['Close']]\n",
    "X = X[1:len(X)]\n",
    "Y = Y[1:len(Y)]\n",
    "\n",
    "\n",
    "\n",
    "#On définit les tests, pour cela il nous faut une valeur ou arreter les données on la note p\n",
    "p = int((2/3)*len(X))\n",
    "X_train = X[:p]\n",
    "Y_train = Y[:p]\n",
    "X_test = X[p:]\n",
    "Y_test = Y[p:]\n",
    "\n",
    "#On passe désormais à la régression linéaire \n",
    "from sklearn import linear_model\n",
    "regr = linear_model.LinearRegression()\n",
    "regr.fit(X_train, Y_train)\n",
    "print(regr.coef_)\n",
    "\n",
    "y_pred = regr.predict(X_test)\n",
    "plt.plot(y_pred, color='green')\n",
    "plt.plot(Y_test, color='gray')\n",
    "plt.title(\"Prédiction du cours de l'action AXA\")\n",
    "\n",
    "from sklearn.metrics import mean_squared_error, r2_score\n",
    "print(\"Mean squared error: %.2f\" % mean_squared_error(Y_test, y_pred))\n",
    "print(\"Coefficient of determination: %.2f\" % r2_score(Y_test, y_pred))\n"
   ]
  },
  {
   "cell_type": "markdown",
   "id": "2e4e19f8-701b-4d24-89a1-116efb4d7f8d",
   "metadata": {},
   "source": []
  },
  {
   "cell_type": "code",
   "execution_count": 181,
   "id": "f94d82ce-075e-45cc-ae9e-941521051e93",
   "metadata": {},
   "outputs": [
    {
     "data": {
      "text/html": [
       "<div>\n",
       "<style scoped>\n",
       "    .dataframe tbody tr th:only-of-type {\n",
       "        vertical-align: middle;\n",
       "    }\n",
       "\n",
       "    .dataframe tbody tr th {\n",
       "        vertical-align: top;\n",
       "    }\n",
       "\n",
       "    .dataframe thead th {\n",
       "        text-align: right;\n",
       "    }\n",
       "</style>\n",
       "<table border=\"1\" class=\"dataframe\">\n",
       "  <thead>\n",
       "    <tr style=\"text-align: right;\">\n",
       "      <th></th>\n",
       "      <th>Open</th>\n",
       "      <th>High</th>\n",
       "      <th>Low</th>\n",
       "      <th>Close</th>\n",
       "      <th>Volume</th>\n",
       "      <th>Dividends</th>\n",
       "      <th>Close_veille</th>\n",
       "      <th>Log_Rdt</th>\n",
       "    </tr>\n",
       "    <tr>\n",
       "      <th>Date</th>\n",
       "      <th></th>\n",
       "      <th></th>\n",
       "      <th></th>\n",
       "      <th></th>\n",
       "      <th></th>\n",
       "      <th></th>\n",
       "      <th></th>\n",
       "      <th></th>\n",
       "    </tr>\n",
       "  </thead>\n",
       "  <tbody>\n",
       "    <tr>\n",
       "      <th>2019-01-02</th>\n",
       "      <td>13.595196</td>\n",
       "      <td>13.738302</td>\n",
       "      <td>13.455008</td>\n",
       "      <td>13.731001</td>\n",
       "      <td>8028529</td>\n",
       "      <td>0.0</td>\n",
       "      <td>NaN</td>\n",
       "      <td>NaN</td>\n",
       "    </tr>\n",
       "    <tr>\n",
       "      <th>2019-01-03</th>\n",
       "      <td>13.599576</td>\n",
       "      <td>13.836142</td>\n",
       "      <td>13.589354</td>\n",
       "      <td>13.617100</td>\n",
       "      <td>6583413</td>\n",
       "      <td>0.0</td>\n",
       "      <td>13.731001</td>\n",
       "      <td>-0.008330</td>\n",
       "    </tr>\n",
       "    <tr>\n",
       "      <th>2019-01-04</th>\n",
       "      <td>13.720778</td>\n",
       "      <td>14.087309</td>\n",
       "      <td>13.666748</td>\n",
       "      <td>14.044960</td>\n",
       "      <td>11675578</td>\n",
       "      <td>0.0</td>\n",
       "      <td>13.617100</td>\n",
       "      <td>0.030937</td>\n",
       "    </tr>\n",
       "    <tr>\n",
       "      <th>2019-01-07</th>\n",
       "      <td>14.078546</td>\n",
       "      <td>14.150099</td>\n",
       "      <td>13.900392</td>\n",
       "      <td>13.982167</td>\n",
       "      <td>7530045</td>\n",
       "      <td>0.0</td>\n",
       "      <td>14.044960</td>\n",
       "      <td>-0.004481</td>\n",
       "    </tr>\n",
       "    <tr>\n",
       "      <th>2019-01-08</th>\n",
       "      <td>14.027437</td>\n",
       "      <td>14.218734</td>\n",
       "      <td>13.988010</td>\n",
       "      <td>14.034739</td>\n",
       "      <td>7314687</td>\n",
       "      <td>0.0</td>\n",
       "      <td>13.982167</td>\n",
       "      <td>0.003753</td>\n",
       "    </tr>\n",
       "  </tbody>\n",
       "</table>\n",
       "</div>"
      ],
      "text/plain": [
       "                 Open       High        Low      Close    Volume  Dividends  \\\n",
       "Date                                                                          \n",
       "2019-01-02  13.595196  13.738302  13.455008  13.731001   8028529        0.0   \n",
       "2019-01-03  13.599576  13.836142  13.589354  13.617100   6583413        0.0   \n",
       "2019-01-04  13.720778  14.087309  13.666748  14.044960  11675578        0.0   \n",
       "2019-01-07  14.078546  14.150099  13.900392  13.982167   7530045        0.0   \n",
       "2019-01-08  14.027437  14.218734  13.988010  14.034739   7314687        0.0   \n",
       "\n",
       "            Close_veille   Log_Rdt  \n",
       "Date                                \n",
       "2019-01-02           NaN       NaN  \n",
       "2019-01-03     13.731001 -0.008330  \n",
       "2019-01-04     13.617100  0.030937  \n",
       "2019-01-07     14.044960 -0.004481  \n",
       "2019-01-08     13.982167  0.003753  "
      ]
     },
     "execution_count": 181,
     "metadata": {},
     "output_type": "execute_result"
    }
   ],
   "source": [
    "#Calcul des log-rendements\n",
    "Log_Rdt=np.log(df_init.Close/df_init.Close_veille)\n",
    "df_init= df_init.assign(Log_Rdt=Log_Rdt)\n",
    "df_init.head()"
   ]
  },
  {
   "cell_type": "code",
   "execution_count": 182,
   "id": "2aaf6757-25f3-48b4-988e-848c2bf18579",
   "metadata": {},
   "outputs": [
    {
     "data": {
      "text/html": [
       "<div>\n",
       "<style scoped>\n",
       "    .dataframe tbody tr th:only-of-type {\n",
       "        vertical-align: middle;\n",
       "    }\n",
       "\n",
       "    .dataframe tbody tr th {\n",
       "        vertical-align: top;\n",
       "    }\n",
       "\n",
       "    .dataframe thead th {\n",
       "        text-align: right;\n",
       "    }\n",
       "</style>\n",
       "<table border=\"1\" class=\"dataframe\">\n",
       "  <thead>\n",
       "    <tr style=\"text-align: right;\">\n",
       "      <th></th>\n",
       "      <th>Date</th>\n",
       "      <th>Open</th>\n",
       "      <th>High</th>\n",
       "      <th>Low</th>\n",
       "      <th>Close</th>\n",
       "      <th>Volume</th>\n",
       "      <th>Dividends</th>\n",
       "      <th>Close_veille</th>\n",
       "      <th>Log_Rdt</th>\n",
       "      <th>t</th>\n",
       "    </tr>\n",
       "  </thead>\n",
       "  <tbody>\n",
       "    <tr>\n",
       "      <th>0</th>\n",
       "      <td>2019-01-02</td>\n",
       "      <td>13.595196</td>\n",
       "      <td>13.738302</td>\n",
       "      <td>13.455008</td>\n",
       "      <td>13.731001</td>\n",
       "      <td>8028529</td>\n",
       "      <td>0.0</td>\n",
       "      <td>NaN</td>\n",
       "      <td>NaN</td>\n",
       "      <td>0</td>\n",
       "    </tr>\n",
       "    <tr>\n",
       "      <th>1</th>\n",
       "      <td>2019-01-03</td>\n",
       "      <td>13.599576</td>\n",
       "      <td>13.836142</td>\n",
       "      <td>13.589354</td>\n",
       "      <td>13.617100</td>\n",
       "      <td>6583413</td>\n",
       "      <td>0.0</td>\n",
       "      <td>13.731001</td>\n",
       "      <td>-0.008330</td>\n",
       "      <td>1</td>\n",
       "    </tr>\n",
       "    <tr>\n",
       "      <th>2</th>\n",
       "      <td>2019-01-04</td>\n",
       "      <td>13.720778</td>\n",
       "      <td>14.087309</td>\n",
       "      <td>13.666748</td>\n",
       "      <td>14.044960</td>\n",
       "      <td>11675578</td>\n",
       "      <td>0.0</td>\n",
       "      <td>13.617100</td>\n",
       "      <td>0.030937</td>\n",
       "      <td>2</td>\n",
       "    </tr>\n",
       "    <tr>\n",
       "      <th>3</th>\n",
       "      <td>2019-01-07</td>\n",
       "      <td>14.078546</td>\n",
       "      <td>14.150099</td>\n",
       "      <td>13.900392</td>\n",
       "      <td>13.982167</td>\n",
       "      <td>7530045</td>\n",
       "      <td>0.0</td>\n",
       "      <td>14.044960</td>\n",
       "      <td>-0.004481</td>\n",
       "      <td>3</td>\n",
       "    </tr>\n",
       "    <tr>\n",
       "      <th>4</th>\n",
       "      <td>2019-01-08</td>\n",
       "      <td>14.027437</td>\n",
       "      <td>14.218734</td>\n",
       "      <td>13.988010</td>\n",
       "      <td>14.034739</td>\n",
       "      <td>7314687</td>\n",
       "      <td>0.0</td>\n",
       "      <td>13.982167</td>\n",
       "      <td>0.003753</td>\n",
       "      <td>4</td>\n",
       "    </tr>\n",
       "  </tbody>\n",
       "</table>\n",
       "</div>"
      ],
      "text/plain": [
       "         Date       Open       High        Low      Close    Volume  \\\n",
       "0  2019-01-02  13.595196  13.738302  13.455008  13.731001   8028529   \n",
       "1  2019-01-03  13.599576  13.836142  13.589354  13.617100   6583413   \n",
       "2  2019-01-04  13.720778  14.087309  13.666748  14.044960  11675578   \n",
       "3  2019-01-07  14.078546  14.150099  13.900392  13.982167   7530045   \n",
       "4  2019-01-08  14.027437  14.218734  13.988010  14.034739   7314687   \n",
       "\n",
       "   Dividends  Close_veille   Log_Rdt  t  \n",
       "0        0.0           NaN       NaN  0  \n",
       "1        0.0     13.731001 -0.008330  1  \n",
       "2        0.0     13.617100  0.030937  2  \n",
       "3        0.0     14.044960 -0.004481  3  \n",
       "4        0.0     13.982167  0.003753  4  "
      ]
     },
     "execution_count": 182,
     "metadata": {},
     "output_type": "execute_result"
    }
   ],
   "source": [
    "#Rajout d'un indice temporel dans la base de données\n",
    "df_init.reset_index(level=None, inplace=True)\n",
    "df_init= df_init.assign(t=df_init.index)\n",
    "df_init.head()"
   ]
  },
  {
   "cell_type": "code",
   "execution_count": 8,
   "id": "7a0bfc2f-c95d-4d75-9de4-c27f123e64d9",
   "metadata": {},
   "outputs": [],
   "source": [
    "#Création d'une base de données d'apprentissage et d'une base de données de test"
   ]
  },
  {
   "cell_type": "code",
   "execution_count": 183,
   "id": "c605efb3-07ce-412f-a209-f38de36e5554",
   "metadata": {},
   "outputs": [],
   "source": [
    "df=df_init.dropna()\n",
    "X_BS=pd.DataFrame(df, columns=['Open','Close_veille','t','Log_Rdt'])\n",
    "y_BS=pd.Series(df.Close)\n",
    "X_BS_train, X_BS_test, y_BS_train, y_BS_test = train_test_split(X_BS, y_BS, test_size=0.2, random_state=0)"
   ]
  },
  {
   "cell_type": "code",
   "execution_count": 184,
   "id": "32bf253a-341a-4ef8-ad34-e218c507ed23",
   "metadata": {},
   "outputs": [
    {
     "data": {
      "text/plain": [
       "0.0012513736856738"
      ]
     },
     "execution_count": 184,
     "metadata": {},
     "output_type": "execute_result"
    }
   ],
   "source": [
    "#Calcul de la moyenne des log-rendements\n",
    "mu=np.mean(X_BS_train.Log_Rdt)\n",
    "mu"
   ]
  },
  {
   "cell_type": "code",
   "execution_count": 185,
   "id": "874b0c1d-88a3-4b5d-a4b9-d0ac2e83aed3",
   "metadata": {},
   "outputs": [
    {
     "data": {
      "text/plain": [
       "0.12558465487181"
      ]
     },
     "execution_count": 185,
     "metadata": {},
     "output_type": "execute_result"
    }
   ],
   "source": [
    "#Estimation de la volatilité des log-rendements : par souci de simplification, nous prenons l'écart-type des log-rendements\n",
    "sigma=np.std(X_BS_train.Log_Rdt)*np.sqrt(len(X_BS_train))\n",
    "sigma"
   ]
  },
  {
   "cell_type": "code",
   "execution_count": 186,
   "id": "e5f30941-118d-4ad1-997a-827687187f7f",
   "metadata": {},
   "outputs": [],
   "source": [
    "#Ecriture d'une fonction qui estime le cours de l'action AXA par la formule de Black & Scholes à horizon d jour(s)\n",
    "\n",
    "def Estim_cours_action(d):\n",
    "    \n",
    "    start_Date = datetime.datetime(2019, 1, 1)\n",
    "    end_Date = datetime.datetime(2019, 12, 31)\n",
    "\n",
    "    GetAXAInfo = yahooFinance.Ticker(\"CS.PA\")\n",
    "\n",
    "    df_init=GetAXAInfo.history(start=start_Date,end=end_Date)\n",
    "    \n",
    "    #Transformation du cours de l'action de la veille en une variable\n",
    "    dec=df_init[\"Close\"].shift(1)\n",
    "    df_init= df_init.assign(Close_veille=dec)\n",
    "    \n",
    "    #Calcul des log-rendements\n",
    "    Log_Rdt=np.log(df_init.Close/df_init.Close_veille)\n",
    "    df_init= df_init.assign(Log_Rdt=Log_Rdt)\n",
    "    \n",
    "    #Rajout d'un indice temporel dans la base de données\n",
    "    df_init.reset_index(level=0, inplace=True)\n",
    "    df_init= df_init.assign(t=df_init.index)\n",
    "    \n",
    "    #Création d'une base de données d'apprentissage et d'une base de données de test\n",
    "    df=df_init.dropna()\n",
    "    X_BS=pd.DataFrame(df, columns=['Open','Close_veille','t','Log_Rdt'])\n",
    "    y_BS=pd.Series(df.Close)\n",
    "    X_BS_train, X_BS_test, y_BS_train, y_BS_test = train_test_split(X_BS, y_BS, test_size=0.2, random_state=0)\n",
    "    \n",
    "    #Calcul de la moyenne des log-rendements\n",
    "    mu=np.mean(X_BS_train.Log_Rdt)\n",
    "    \n",
    "    #Estimation de la volatilité des log-rendements : par souci de simplification, nous prenons l'écart-type des log-rendements\n",
    "    sigma=np.std(X_BS_train.Log_Rdt)*np.sqrt(len(X_BS_train))\n",
    "    \n",
    "    np.random.seed(94)\n",
    "    val_norm=np.random.normal(0, 1)\n",
    "\n",
    "    Est_Close_BS=y_BS_train[min(y_BS_train.index)]*np.exp((mu-(sigma**2)/2)*(d) + sigma*val_norm*np.sqrt(d))\n",
    "    return Est_Close_BS"
   ]
  },
  {
   "cell_type": "code",
   "execution_count": 187,
   "id": "9f837c3b-0a82-482f-afff-013910990aff",
   "metadata": {},
   "outputs": [],
   "source": [
    "#Ecriture d'une fonction qui estime le cours de l'action AXA pour plusieurs horizons temporels donnés\n",
    "\n",
    "def Estim_cours_action_serie(y):\n",
    "    indexes=y.index\n",
    "    Est_Close_BS_serie=[None]*len(indexes)\n",
    "    j=0\n",
    "    for i in indexes:\n",
    "        Est_Close_BS_serie[j]=Estim_cours_action(i)\n",
    "        j+=1\n",
    "    Est_Close_BS_serie=pd.Series(Est_Close_BS_serie)\n",
    "    return Est_Close_BS_serie"
   ]
  },
  {
   "cell_type": "code",
   "execution_count": 188,
   "id": "a0179479-be50-4642-86d1-4ce9f432edd9",
   "metadata": {},
   "outputs": [],
   "source": [
    "Estimation=Estim_cours_action_serie(y_BS_test)\n",
    "indexes_0=Estimation.index"
   ]
  },
  {
   "cell_type": "code",
   "execution_count": 189,
   "id": "8657fd49-4169-44dd-a66c-39b21fd05bda",
   "metadata": {},
   "outputs": [
    {
     "data": {
      "text/plain": [
       "<matplotlib.lines.Line2D at 0x7fe69e4d5bd0>"
      ]
     },
     "execution_count": 189,
     "metadata": {},
     "output_type": "execute_result"
    },
    {
     "data": {
      "image/png": "[encoded data removed]",
      "text/plain": [
       "<Figure size 640x480 with 1 Axes>"
      ]
     },
     "metadata": {},
     "output_type": "display_data"
    }
   ],
   "source": [
    "#Représentation graphique dee l'erreur de prédiction entre B&S et série réelle \n",
    "\n",
    "y_BS_test.index=indexes_0\n",
    "Erreur=y_BS_test-Estimation\n",
    "plt.plot(indexes_0, Erreur)\n",
    "ay=plt.gca()\n",
    "ay.axhline(y=0, color='red')"
   ]
  },
  {
   "cell_type": "code",
   "execution_count": 190,
   "id": "11bea739-666f-427f-8a0c-08d9d6572c30",
   "metadata": {},
   "outputs": [
    {
     "data": {
      "text/plain": [
       "11.569678518126901"
      ]
     },
     "execution_count": 190,
     "metadata": {},
     "output_type": "execute_result"
    }
   ],
   "source": [
    "mse_BS=mean_squared_error(Estimation,y_BS_test)\n",
    "mse_BS"
   ]
  },
  {
   "cell_type": "code",
   "execution_count": null,
   "id": "adc3ea40-be2c-408d-8aa9-cba01bfdee5a",
   "metadata": {},
   "outputs": [],
   "source": [
    "#Mise en oeuvre d'un modèle SVM : on cherche à prédire Close en fonction de Open et de Close_veille"
   ]
  },
  {
   "cell_type": "code",
   "execution_count": 191,
   "id": "0c282b88-a36a-4751-a1e1-946dbe84a561",
   "metadata": {},
   "outputs": [],
   "source": [
    "#Base des variables dépendantes et normalisation des données\n",
    "X_train_init=pd.DataFrame(X_BS_train, columns=['Open','Close_veille'])\n",
    "X_test_init=pd.DataFrame(X_BS_test, columns=['Open','Close_veille'])\n",
    "scaler = StandardScaler()\n",
    "X_train = scaler.fit_transform(X_train_init)\n",
    "X_test = scaler.fit_transform(X_test_init)\n",
    "column_names_train = X_train_init.columns\n",
    "column_names_test = X_test_init.columns\n",
    "X_train=pd.DataFrame(X_train, columns=column_names_train)\n",
    "X_test=pd.DataFrame(X_test, columns=column_names_test)"
   ]
  },
  {
   "cell_type": "code",
   "execution_count": 192,
   "id": "5ebce1b7-8a16-42c9-aeba-6cb947857119",
   "metadata": {},
   "outputs": [],
   "source": [
    "#Vecteur de variable dépendante\n",
    "y_train=y_BS_train\n",
    "y_test=y_BS_test"
   ]
  },
  {
   "cell_type": "code",
   "execution_count": 193,
   "id": "d04045d4-8d4c-48b0-8fe7-a5a6ea54b94d",
   "metadata": {},
   "outputs": [
    {
     "data": {
      "text/html": [
       "<style>#sk-container-id-1 {color: black;background-color: white;}#sk-container-id-1 pre{padding: 0;}#sk-container-id-1 div.sk-toggleable {background-color: white;}#sk-container-id-1 label.sk-toggleable__label {cursor: pointer;display: block;width: 100%;margin-bottom: 0;padding: 0.3em;box-sizing: border-box;text-align: center;}#sk-container-id-1 label.sk-toggleable__label-arrow:before {content: \"▸\";float: left;margin-right: 0.25em;color: #696969;}#sk-container-id-1 label.sk-toggleable__label-arrow:hover:before {color: black;}#sk-container-id-1 div.sk-estimator:hover label.sk-toggleable__label-arrow:before {color: black;}#sk-container-id-1 div.sk-toggleable__content {max-height: 0;max-width: 0;overflow: hidden;text-align: left;background-color: #f0f8ff;}#sk-container-id-1 div.sk-toggleable__content pre {margin: 0.2em;color: black;border-radius: 0.25em;background-color: #f0f8ff;}#sk-container-id-1 input.sk-toggleable__control:checked~div.sk-toggleable__content {max-height: 200px;max-width: 100%;overflow: auto;}#sk-container-id-1 input.sk-toggleable__control:checked~label.sk-toggleable__label-arrow:before {content: \"▾\";}#sk-container-id-1 div.sk-estimator input.sk-toggleable__control:checked~label.sk-toggleable__label {background-color: #d4ebff;}#sk-container-id-1 div.sk-label input.sk-toggleable__control:checked~label.sk-toggleable__label {background-color: #d4ebff;}#sk-container-id-1 input.sk-hidden--visually {border: 0;clip: rect(1px 1px 1px 1px);clip: rect(1px, 1px, 1px, 1px);height: 1px;margin: -1px;overflow: hidden;padding: 0;position: absolute;width: 1px;}#sk-container-id-1 div.sk-estimator {font-family: monospace;background-color: #f0f8ff;border: 1px dotted black;border-radius: 0.25em;box-sizing: border-box;margin-bottom: 0.5em;}#sk-container-id-1 div.sk-estimator:hover {background-color: #d4ebff;}#sk-container-id-1 div.sk-parallel-item::after {content: \"\";width: 100%;border-bottom: 1px solid gray;flex-grow: 1;}#sk-container-id-1 div.sk-label:hover label.sk-toggleable__label {background-color: #d4ebff;}#sk-container-id-1 div.sk-serial::before {content: \"\";position: absolute;border-left: 1px solid gray;box-sizing: border-box;top: 0;bottom: 0;left: 50%;z-index: 0;}#sk-container-id-1 div.sk-serial {display: flex;flex-direction: column;align-items: center;background-color: white;padding-right: 0.2em;padding-left: 0.2em;position: relative;}#sk-container-id-1 div.sk-item {position: relative;z-index: 1;}#sk-container-id-1 div.sk-parallel {display: flex;align-items: stretch;justify-content: center;background-color: white;position: relative;}#sk-container-id-1 div.sk-item::before, #sk-container-id-1 div.sk-parallel-item::before {content: \"\";position: absolute;border-left: 1px solid gray;box-sizing: border-box;top: 0;bottom: 0;left: 50%;z-index: -1;}#sk-container-id-1 div.sk-parallel-item {display: flex;flex-direction: column;z-index: 1;position: relative;background-color: white;}#sk-container-id-1 div.sk-parallel-item:first-child::after {align-self: flex-end;width: 50%;}#sk-container-id-1 div.sk-parallel-item:last-child::after {align-self: flex-start;width: 50%;}#sk-container-id-1 div.sk-parallel-item:only-child::after {width: 0;}#sk-container-id-1 div.sk-dashed-wrapped {border: 1px dashed gray;margin: 0 0.4em 0.5em 0.4em;box-sizing: border-box;padding-bottom: 0.4em;background-color: white;}#sk-container-id-1 div.sk-label label {font-family: monospace;font-weight: bold;display: inline-block;line-height: 1.2em;}#sk-container-id-1 div.sk-label-container {text-align: center;}#sk-container-id-1 div.sk-container {/* jupyter's `normalize.less` sets `[hidden] { display: none; }` but bootstrap.min.css set `[hidden] { display: none !important; }` so we also need the `!important` here to be able to override the default hidden behavior on the sphinx rendered scikit-learn.org. See: https://github.com/scikit-learn/scikit-learn/issues/21755 */display: inline-block !important;position: relative;}#sk-container-id-1 div.sk-text-repr-fallback {display: none;}</style><div id=\"sk-container-id-1\" class=\"sk-top-container\"><div class=\"sk-text-repr-fallback\"><pre>SVR()</pre><b>In a Jupyter environment, please rerun this cell to show the HTML representation or trust the notebook. <br />On GitHub, the HTML representation is unable to render, please try loading this page with nbviewer.org.</b></div><div class=\"sk-container\" hidden><div class=\"sk-item\"><div class=\"sk-estimator sk-toggleable\"><input class=\"sk-toggleable__control sk-hidden--visually\" id=\"sk-estimator-id-1\" type=\"checkbox\" checked><label for=\"sk-estimator-id-1\" class=\"sk-toggleable__label sk-toggleable__label-arrow\">SVR</label><div class=\"sk-toggleable__content\"><pre>SVR()</pre></div></div></div></div></div>"
      ],
      "text/plain": [
       "SVR()"
      ]
     },
     "execution_count": 193,
     "metadata": {},
     "output_type": "execute_result"
    }
   ],
   "source": [
    "#Mise en oeuvre du modèle\n",
    "m1=svm.SVR()\n",
    "m1.fit(X_train, y_train)"
   ]
  },
  {
   "cell_type": "code",
   "execution_count": 23,
   "id": "00761f71-fffc-4436-8f55-c5f201ba9dd3",
   "metadata": {},
   "outputs": [
    {
     "data": {
      "text/plain": [
       "0.953806196610228"
      ]
     },
     "execution_count": 23,
     "metadata": {},
     "output_type": "execute_result"
    }
   ],
   "source": [
    "#Evaluation du modèle SVM : calcul de : accuracy\n",
    "accuracy = m1.score(X_test, y_test)\n",
    "accuracy"
   ]
  },
  {
   "cell_type": "code",
   "execution_count": 24,
   "id": "f5589c70-e5f1-4358-ad72-16abc40c6eec",
   "metadata": {},
   "outputs": [
    {
     "data": {
      "text/plain": [
       "0.0681112844461976"
      ]
     },
     "execution_count": 24,
     "metadata": {},
     "output_type": "execute_result"
    }
   ],
   "source": [
    "#Evaluation du modèle SVM : calcul du MSE\n",
    "y_pred=m1.predict(X_test)\n",
    "mse=mean_squared_error(y_pred,y_test)\n",
    "mse"
   ]
  },
  {
   "cell_type": "code",
   "execution_count": null,
   "id": "ee2e28fb-5632-4d71-a11c-e0e2130166df",
   "metadata": {},
   "outputs": [],
   "source": [
    "#En comparant les deux modèles (sur la base du critère MSE), il ressort que le modèle SVM (pour régression) est plus performant que la formule de B&S pour estimer le cours de l'action AXA à la clôture.\n",
    "#Le modèle SVM a en effet produit un MSE beaucoup plus faible.\n",
    "\n",
    "#On note également la bonne qualité de l'ajustement par modèle SVM, avec un accuracy à plus de 95%."
   ]
  },
  {
   "cell_type": "code",
   "execution_count": 82,
   "id": "2c4d6a8f-4c37-4227-a9ea-c158a3fa1d99",
   "metadata": {},
   "outputs": [
    {
     "data": {
      "text/plain": [
       "0.29929814397553406"
      ]
     },
     "execution_count": 82,
     "metadata": {},
     "output_type": "execute_result"
    }
   ],
   "source": [
    "np.random.seed(111111000)\n",
    "val_n=np.random.normal(0, 1)\n",
    "val_n"
   ]
  },
  {
   "cell_type": "code",
   "execution_count": null,
   "id": "3523579b-bda5-4826-adc6-ee3a651bb91d",
   "metadata": {},
   "outputs": [],
   "source": []
  }
 ],
 "metadata": {
  "kernelspec": {
   "display_name": "Python 3 (ipykernel)",
   "language": "python",
   "name": "python3"
  },
  "language_info": {
   "codemirror_mode": {
    "name": "ipython",
    "version": 3
   },
   "file_extension": ".py",
   "mimetype": "text/x-python",
   "name": "python",
   "nbconvert_exporter": "python",
   "pygments_lexer": "ipython3",
   "version": "3.10.4"
  }
 },
 "nbformat": 4,
 "nbformat_minor": 5
}
