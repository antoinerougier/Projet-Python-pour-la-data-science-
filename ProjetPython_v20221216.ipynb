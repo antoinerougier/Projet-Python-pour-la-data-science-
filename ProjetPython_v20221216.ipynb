{
 "cells": [
  {
   "cell_type": "code",
   "execution_count": 1,
   "id": "983d2492-7dd3-41a9-a784-dfeb76726530",
   "metadata": {},
   "outputs": [
    {
     "name": "stdout",
     "output_type": "stream",
     "text": [
      "Requirement already satisfied: yfinance in /opt/mamba/lib/python3.10/site-packages (0.1.90)\n",
      "Requirement already satisfied: pandas>=1.3.0 in /opt/mamba/lib/python3.10/site-packages (from yfinance) (1.5.1)\n",
      "Requirement already satisfied: lxml>=4.9.1 in /opt/mamba/lib/python3.10/site-packages (from yfinance) (4.9.2)\n",
      "Requirement already satisfied: appdirs>=1.4.4 in /opt/mamba/lib/python3.10/site-packages (from yfinance) (1.4.4)\n",
      "Requirement already satisfied: multitasking>=0.0.7 in /opt/mamba/lib/python3.10/site-packages (from yfinance) (0.0.11)\n",
      "Requirement already satisfied: numpy>=1.16.5 in /opt/mamba/lib/python3.10/site-packages (from yfinance) (1.23.5)\n",
      "Requirement already satisfied: requests>=2.26 in /opt/mamba/lib/python3.10/site-packages (from yfinance) (2.28.1)\n",
      "Requirement already satisfied: python-dateutil>=2.8.1 in /opt/mamba/lib/python3.10/site-packages (from pandas>=1.3.0->yfinance) (2.8.2)\n",
      "Requirement already satisfied: pytz>=2020.1 in /opt/mamba/lib/python3.10/site-packages (from pandas>=1.3.0->yfinance) (2022.6)\n",
      "Requirement already satisfied: certifi>=2017.4.17 in /opt/mamba/lib/python3.10/site-packages (from requests>=2.26->yfinance) (2022.9.24)\n",
      "Requirement already satisfied: idna<4,>=2.5 in /opt/mamba/lib/python3.10/site-packages (from requests>=2.26->yfinance) (3.4)\n",
      "Requirement already satisfied: urllib3<1.27,>=1.21.1 in /opt/mamba/lib/python3.10/site-packages (from requests>=2.26->yfinance) (1.26.11)\n",
      "Requirement already satisfied: charset-normalizer<3,>=2 in /opt/mamba/lib/python3.10/site-packages (from requests>=2.26->yfinance) (2.1.1)\n",
      "Requirement already satisfied: six>=1.5 in /opt/mamba/lib/python3.10/site-packages (from python-dateutil>=2.8.1->pandas>=1.3.0->yfinance) (1.16.0)\n",
      "Requirement already satisfied: matplotlib in /opt/mamba/lib/python3.10/site-packages (3.6.2)\n",
      "Requirement already satisfied: kiwisolver>=1.0.1 in /opt/mamba/lib/python3.10/site-packages (from matplotlib) (1.4.4)\n",
      "Requirement already satisfied: fonttools>=4.22.0 in /opt/mamba/lib/python3.10/site-packages (from matplotlib) (4.38.0)\n",
      "Requirement already satisfied: numpy>=1.19 in /opt/mamba/lib/python3.10/site-packages (from matplotlib) (1.23.5)\n",
      "Requirement already satisfied: packaging>=20.0 in /opt/mamba/lib/python3.10/site-packages (from matplotlib) (21.3)\n",
      "Requirement already satisfied: pillow>=6.2.0 in /opt/mamba/lib/python3.10/site-packages (from matplotlib) (9.2.0)\n",
      "Requirement already satisfied: pyparsing>=2.2.1 in /opt/mamba/lib/python3.10/site-packages (from matplotlib) (3.0.9)\n",
      "Requirement already satisfied: contourpy>=1.0.1 in /opt/mamba/lib/python3.10/site-packages (from matplotlib) (1.0.6)\n",
      "Requirement already satisfied: cycler>=0.10 in /opt/mamba/lib/python3.10/site-packages (from matplotlib) (0.11.0)\n",
      "Requirement already satisfied: python-dateutil>=2.7 in /opt/mamba/lib/python3.10/site-packages (from matplotlib) (2.8.2)\n",
      "Requirement already satisfied: six>=1.5 in /opt/mamba/lib/python3.10/site-packages (from python-dateutil>=2.7->matplotlib) (1.16.0)\n"
     ]
    }
   ],
   "source": [
    "#installation de yfinance et matplotolib pour la récupération des données sur yahoo finance\n",
    "!pip install yfinance\n",
    "!pip install matplotlib\n",
    "import yfinance as yahooFinance\n",
    "import datetime\n",
    "import math\n",
    "import matplotlib.pyplot as plt\n",
    "import seaborn as sns\n",
    "import numpy as np\n",
    "import pandas as pd\n",
    "from sklearn.preprocessing import StandardScaler\n",
    "from sklearn.model_selection import train_test_split\n",
    "from sklearn.utils import check_X_y\n",
    "from sklearn import svm\n",
    "from sklearn.metrics import mean_squared_error\n",
    "import sklearn.metrics\n",
    "from sklearn.model_selection import cross_val_score"
   ]
  },
  {
   "cell_type": "code",
   "execution_count": 2,
   "id": "d6ddd70c-1c0b-4d05-8d13-d97b8c293fea",
   "metadata": {},
   "outputs": [],
   "source": [
    "#Importation du cours de l'action de l'entreprise d'assurance AXA\n",
    "\n",
    "start_Date = datetime.datetime(2019, 1, 1)\n",
    "end_Date = datetime.datetime(2019, 12, 31)\n",
    "\n",
    "GetAXAInfo = yahooFinance.Ticker(\"CS.PA\")\n",
    "df_init=GetAXAInfo.history(start=start_Date,end=end_Date)"
   ]
  },
  {
   "cell_type": "code",
   "execution_count": 3,
   "id": "a6c6c222-0f2b-4807-ae6e-b0a70918530f",
   "metadata": {},
   "outputs": [
    {
     "data": {
      "text/plain": [
       "255"
      ]
     },
     "execution_count": 3,
     "metadata": {},
     "output_type": "execute_result"
    }
   ],
   "source": [
    "len(df_init)"
   ]
  },
  {
   "cell_type": "code",
   "execution_count": 4,
   "id": "6c8547f3-5e00-401b-8bce-00eaa1e62114",
   "metadata": {},
   "outputs": [
    {
     "data": {
      "text/plain": [
       "Index(['Open', 'High', 'Low', 'Close', 'Volume', 'Dividends', 'Stock Splits'], dtype='object')"
      ]
     },
     "execution_count": 4,
     "metadata": {},
     "output_type": "execute_result"
    }
   ],
   "source": [
    "df_init.columns"
   ]
  },
  {
   "cell_type": "code",
   "execution_count": 5,
   "id": "936d7d60-089b-456b-857d-bc5c1cc01221",
   "metadata": {},
   "outputs": [
    {
     "data": {
      "text/html": [
       "<div>\n",
       "<style scoped>\n",
       "    .dataframe tbody tr th:only-of-type {\n",
       "        vertical-align: middle;\n",
       "    }\n",
       "\n",
       "    .dataframe tbody tr th {\n",
       "        vertical-align: top;\n",
       "    }\n",
       "\n",
       "    .dataframe thead th {\n",
       "        text-align: right;\n",
       "    }\n",
       "</style>\n",
       "<table border=\"1\" class=\"dataframe\">\n",
       "  <thead>\n",
       "    <tr style=\"text-align: right;\">\n",
       "      <th></th>\n",
       "      <th>Open</th>\n",
       "      <th>High</th>\n",
       "      <th>Low</th>\n",
       "      <th>Close</th>\n",
       "      <th>Volume</th>\n",
       "      <th>Dividends</th>\n",
       "      <th>Stock Splits</th>\n",
       "      <th>Close_veille</th>\n",
       "    </tr>\n",
       "    <tr>\n",
       "      <th>Date</th>\n",
       "      <th></th>\n",
       "      <th></th>\n",
       "      <th></th>\n",
       "      <th></th>\n",
       "      <th></th>\n",
       "      <th></th>\n",
       "      <th></th>\n",
       "      <th></th>\n",
       "    </tr>\n",
       "  </thead>\n",
       "  <tbody>\n",
       "    <tr>\n",
       "      <th>2019-01-02 00:00:00+01:00</th>\n",
       "      <td>13.595197</td>\n",
       "      <td>13.738303</td>\n",
       "      <td>13.455009</td>\n",
       "      <td>13.731002</td>\n",
       "      <td>8028529</td>\n",
       "      <td>0.0</td>\n",
       "      <td>0</td>\n",
       "      <td>NaN</td>\n",
       "    </tr>\n",
       "    <tr>\n",
       "      <th>2019-01-03 00:00:00+01:00</th>\n",
       "      <td>13.599575</td>\n",
       "      <td>13.836141</td>\n",
       "      <td>13.589353</td>\n",
       "      <td>13.617099</td>\n",
       "      <td>6583413</td>\n",
       "      <td>0.0</td>\n",
       "      <td>0</td>\n",
       "      <td>13.731002</td>\n",
       "    </tr>\n",
       "    <tr>\n",
       "      <th>2019-01-04 00:00:00+01:00</th>\n",
       "      <td>13.720779</td>\n",
       "      <td>14.087309</td>\n",
       "      <td>13.666749</td>\n",
       "      <td>14.044961</td>\n",
       "      <td>11675578</td>\n",
       "      <td>0.0</td>\n",
       "      <td>0</td>\n",
       "      <td>13.617099</td>\n",
       "    </tr>\n",
       "    <tr>\n",
       "      <th>2019-01-07 00:00:00+01:00</th>\n",
       "      <td>14.078547</td>\n",
       "      <td>14.150100</td>\n",
       "      <td>13.900393</td>\n",
       "      <td>13.982168</td>\n",
       "      <td>7530045</td>\n",
       "      <td>0.0</td>\n",
       "      <td>0</td>\n",
       "      <td>14.044961</td>\n",
       "    </tr>\n",
       "    <tr>\n",
       "      <th>2019-01-08 00:00:00+01:00</th>\n",
       "      <td>14.027437</td>\n",
       "      <td>14.218734</td>\n",
       "      <td>13.988010</td>\n",
       "      <td>14.034739</td>\n",
       "      <td>7314687</td>\n",
       "      <td>0.0</td>\n",
       "      <td>0</td>\n",
       "      <td>13.982168</td>\n",
       "    </tr>\n",
       "  </tbody>\n",
       "</table>\n",
       "</div>"
      ],
      "text/plain": [
       "                                Open       High        Low      Close  \\\n",
       "Date                                                                    \n",
       "2019-01-02 00:00:00+01:00  13.595197  13.738303  13.455009  13.731002   \n",
       "2019-01-03 00:00:00+01:00  13.599575  13.836141  13.589353  13.617099   \n",
       "2019-01-04 00:00:00+01:00  13.720779  14.087309  13.666749  14.044961   \n",
       "2019-01-07 00:00:00+01:00  14.078547  14.150100  13.900393  13.982168   \n",
       "2019-01-08 00:00:00+01:00  14.027437  14.218734  13.988010  14.034739   \n",
       "\n",
       "                             Volume  Dividends  Stock Splits  Close_veille  \n",
       "Date                                                                        \n",
       "2019-01-02 00:00:00+01:00   8028529        0.0             0           NaN  \n",
       "2019-01-03 00:00:00+01:00   6583413        0.0             0     13.731002  \n",
       "2019-01-04 00:00:00+01:00  11675578        0.0             0     13.617099  \n",
       "2019-01-07 00:00:00+01:00   7530045        0.0             0     14.044961  \n",
       "2019-01-08 00:00:00+01:00   7314687        0.0             0     13.982168  "
      ]
     },
     "execution_count": 5,
     "metadata": {},
     "output_type": "execute_result"
    }
   ],
   "source": [
    "dec=df_init[\"Close\"].shift(1)\n",
    "df_init= df_init.assign(Close_veille=dec)\n",
    "df_init.head()"
   ]
  },
  {
   "cell_type": "code",
   "execution_count": 6,
   "id": "f94d82ce-075e-45cc-ae9e-941521051e93",
   "metadata": {},
   "outputs": [
    {
     "data": {
      "text/html": [
       "<div>\n",
       "<style scoped>\n",
       "    .dataframe tbody tr th:only-of-type {\n",
       "        vertical-align: middle;\n",
       "    }\n",
       "\n",
       "    .dataframe tbody tr th {\n",
       "        vertical-align: top;\n",
       "    }\n",
       "\n",
       "    .dataframe thead th {\n",
       "        text-align: right;\n",
       "    }\n",
       "</style>\n",
       "<table border=\"1\" class=\"dataframe\">\n",
       "  <thead>\n",
       "    <tr style=\"text-align: right;\">\n",
       "      <th></th>\n",
       "      <th>Open</th>\n",
       "      <th>High</th>\n",
       "      <th>Low</th>\n",
       "      <th>Close</th>\n",
       "      <th>Volume</th>\n",
       "      <th>Dividends</th>\n",
       "      <th>Stock Splits</th>\n",
       "      <th>Close_veille</th>\n",
       "      <th>Log_Rdt</th>\n",
       "    </tr>\n",
       "    <tr>\n",
       "      <th>Date</th>\n",
       "      <th></th>\n",
       "      <th></th>\n",
       "      <th></th>\n",
       "      <th></th>\n",
       "      <th></th>\n",
       "      <th></th>\n",
       "      <th></th>\n",
       "      <th></th>\n",
       "      <th></th>\n",
       "    </tr>\n",
       "  </thead>\n",
       "  <tbody>\n",
       "    <tr>\n",
       "      <th>2019-01-02 00:00:00+01:00</th>\n",
       "      <td>13.595197</td>\n",
       "      <td>13.738303</td>\n",
       "      <td>13.455009</td>\n",
       "      <td>13.731002</td>\n",
       "      <td>8028529</td>\n",
       "      <td>0.0</td>\n",
       "      <td>0</td>\n",
       "      <td>NaN</td>\n",
       "      <td>NaN</td>\n",
       "    </tr>\n",
       "    <tr>\n",
       "      <th>2019-01-03 00:00:00+01:00</th>\n",
       "      <td>13.599575</td>\n",
       "      <td>13.836141</td>\n",
       "      <td>13.589353</td>\n",
       "      <td>13.617099</td>\n",
       "      <td>6583413</td>\n",
       "      <td>0.0</td>\n",
       "      <td>0</td>\n",
       "      <td>13.731002</td>\n",
       "      <td>-0.008330</td>\n",
       "    </tr>\n",
       "    <tr>\n",
       "      <th>2019-01-04 00:00:00+01:00</th>\n",
       "      <td>13.720779</td>\n",
       "      <td>14.087309</td>\n",
       "      <td>13.666749</td>\n",
       "      <td>14.044961</td>\n",
       "      <td>11675578</td>\n",
       "      <td>0.0</td>\n",
       "      <td>0</td>\n",
       "      <td>13.617099</td>\n",
       "      <td>0.030937</td>\n",
       "    </tr>\n",
       "    <tr>\n",
       "      <th>2019-01-07 00:00:00+01:00</th>\n",
       "      <td>14.078547</td>\n",
       "      <td>14.150100</td>\n",
       "      <td>13.900393</td>\n",
       "      <td>13.982168</td>\n",
       "      <td>7530045</td>\n",
       "      <td>0.0</td>\n",
       "      <td>0</td>\n",
       "      <td>14.044961</td>\n",
       "      <td>-0.004481</td>\n",
       "    </tr>\n",
       "    <tr>\n",
       "      <th>2019-01-08 00:00:00+01:00</th>\n",
       "      <td>14.027437</td>\n",
       "      <td>14.218734</td>\n",
       "      <td>13.988010</td>\n",
       "      <td>14.034739</td>\n",
       "      <td>7314687</td>\n",
       "      <td>0.0</td>\n",
       "      <td>0</td>\n",
       "      <td>13.982168</td>\n",
       "      <td>0.003753</td>\n",
       "    </tr>\n",
       "  </tbody>\n",
       "</table>\n",
       "</div>"
      ],
      "text/plain": [
       "                                Open       High        Low      Close  \\\n",
       "Date                                                                    \n",
       "2019-01-02 00:00:00+01:00  13.595197  13.738303  13.455009  13.731002   \n",
       "2019-01-03 00:00:00+01:00  13.599575  13.836141  13.589353  13.617099   \n",
       "2019-01-04 00:00:00+01:00  13.720779  14.087309  13.666749  14.044961   \n",
       "2019-01-07 00:00:00+01:00  14.078547  14.150100  13.900393  13.982168   \n",
       "2019-01-08 00:00:00+01:00  14.027437  14.218734  13.988010  14.034739   \n",
       "\n",
       "                             Volume  Dividends  Stock Splits  Close_veille  \\\n",
       "Date                                                                         \n",
       "2019-01-02 00:00:00+01:00   8028529        0.0             0           NaN   \n",
       "2019-01-03 00:00:00+01:00   6583413        0.0             0     13.731002   \n",
       "2019-01-04 00:00:00+01:00  11675578        0.0             0     13.617099   \n",
       "2019-01-07 00:00:00+01:00   7530045        0.0             0     14.044961   \n",
       "2019-01-08 00:00:00+01:00   7314687        0.0             0     13.982168   \n",
       "\n",
       "                            Log_Rdt  \n",
       "Date                                 \n",
       "2019-01-02 00:00:00+01:00       NaN  \n",
       "2019-01-03 00:00:00+01:00 -0.008330  \n",
       "2019-01-04 00:00:00+01:00  0.030937  \n",
       "2019-01-07 00:00:00+01:00 -0.004481  \n",
       "2019-01-08 00:00:00+01:00  0.003753  "
      ]
     },
     "execution_count": 6,
     "metadata": {},
     "output_type": "execute_result"
    }
   ],
   "source": [
    "#Calcul des log-rendements\n",
    "Log_Rdt=np.log(df_init.Close/df_init.Close_veille)\n",
    "df_init= df_init.assign(Log_Rdt=Log_Rdt)\n",
    "df_init.head()"
   ]
  },
  {
   "cell_type": "code",
   "execution_count": 7,
   "id": "2aaf6757-25f3-48b4-988e-848c2bf18579",
   "metadata": {},
   "outputs": [
    {
     "data": {
      "text/html": [
       "<div>\n",
       "<style scoped>\n",
       "    .dataframe tbody tr th:only-of-type {\n",
       "        vertical-align: middle;\n",
       "    }\n",
       "\n",
       "    .dataframe tbody tr th {\n",
       "        vertical-align: top;\n",
       "    }\n",
       "\n",
       "    .dataframe thead th {\n",
       "        text-align: right;\n",
       "    }\n",
       "</style>\n",
       "<table border=\"1\" class=\"dataframe\">\n",
       "  <thead>\n",
       "    <tr style=\"text-align: right;\">\n",
       "      <th></th>\n",
       "      <th>Date</th>\n",
       "      <th>Open</th>\n",
       "      <th>High</th>\n",
       "      <th>Low</th>\n",
       "      <th>Close</th>\n",
       "      <th>Volume</th>\n",
       "      <th>Dividends</th>\n",
       "      <th>Stock Splits</th>\n",
       "      <th>Close_veille</th>\n",
       "      <th>Log_Rdt</th>\n",
       "      <th>t</th>\n",
       "    </tr>\n",
       "  </thead>\n",
       "  <tbody>\n",
       "    <tr>\n",
       "      <th>0</th>\n",
       "      <td>2019-01-02 00:00:00+01:00</td>\n",
       "      <td>13.595197</td>\n",
       "      <td>13.738303</td>\n",
       "      <td>13.455009</td>\n",
       "      <td>13.731002</td>\n",
       "      <td>8028529</td>\n",
       "      <td>0.0</td>\n",
       "      <td>0</td>\n",
       "      <td>NaN</td>\n",
       "      <td>NaN</td>\n",
       "      <td>0</td>\n",
       "    </tr>\n",
       "    <tr>\n",
       "      <th>1</th>\n",
       "      <td>2019-01-03 00:00:00+01:00</td>\n",
       "      <td>13.599575</td>\n",
       "      <td>13.836141</td>\n",
       "      <td>13.589353</td>\n",
       "      <td>13.617099</td>\n",
       "      <td>6583413</td>\n",
       "      <td>0.0</td>\n",
       "      <td>0</td>\n",
       "      <td>13.731002</td>\n",
       "      <td>-0.008330</td>\n",
       "      <td>1</td>\n",
       "    </tr>\n",
       "    <tr>\n",
       "      <th>2</th>\n",
       "      <td>2019-01-04 00:00:00+01:00</td>\n",
       "      <td>13.720779</td>\n",
       "      <td>14.087309</td>\n",
       "      <td>13.666749</td>\n",
       "      <td>14.044961</td>\n",
       "      <td>11675578</td>\n",
       "      <td>0.0</td>\n",
       "      <td>0</td>\n",
       "      <td>13.617099</td>\n",
       "      <td>0.030937</td>\n",
       "      <td>2</td>\n",
       "    </tr>\n",
       "    <tr>\n",
       "      <th>3</th>\n",
       "      <td>2019-01-07 00:00:00+01:00</td>\n",
       "      <td>14.078547</td>\n",
       "      <td>14.150100</td>\n",
       "      <td>13.900393</td>\n",
       "      <td>13.982168</td>\n",
       "      <td>7530045</td>\n",
       "      <td>0.0</td>\n",
       "      <td>0</td>\n",
       "      <td>14.044961</td>\n",
       "      <td>-0.004481</td>\n",
       "      <td>3</td>\n",
       "    </tr>\n",
       "    <tr>\n",
       "      <th>4</th>\n",
       "      <td>2019-01-08 00:00:00+01:00</td>\n",
       "      <td>14.027437</td>\n",
       "      <td>14.218734</td>\n",
       "      <td>13.988010</td>\n",
       "      <td>14.034739</td>\n",
       "      <td>7314687</td>\n",
       "      <td>0.0</td>\n",
       "      <td>0</td>\n",
       "      <td>13.982168</td>\n",
       "      <td>0.003753</td>\n",
       "      <td>4</td>\n",
       "    </tr>\n",
       "  </tbody>\n",
       "</table>\n",
       "</div>"
      ],
      "text/plain": [
       "                       Date       Open       High        Low      Close  \\\n",
       "0 2019-01-02 00:00:00+01:00  13.595197  13.738303  13.455009  13.731002   \n",
       "1 2019-01-03 00:00:00+01:00  13.599575  13.836141  13.589353  13.617099   \n",
       "2 2019-01-04 00:00:00+01:00  13.720779  14.087309  13.666749  14.044961   \n",
       "3 2019-01-07 00:00:00+01:00  14.078547  14.150100  13.900393  13.982168   \n",
       "4 2019-01-08 00:00:00+01:00  14.027437  14.218734  13.988010  14.034739   \n",
       "\n",
       "     Volume  Dividends  Stock Splits  Close_veille   Log_Rdt  t  \n",
       "0   8028529        0.0             0           NaN       NaN  0  \n",
       "1   6583413        0.0             0     13.731002 -0.008330  1  \n",
       "2  11675578        0.0             0     13.617099  0.030937  2  \n",
       "3   7530045        0.0             0     14.044961 -0.004481  3  \n",
       "4   7314687        0.0             0     13.982168  0.003753  4  "
      ]
     },
     "execution_count": 7,
     "metadata": {},
     "output_type": "execute_result"
    }
   ],
   "source": [
    "#Rajout d'un indice temporel dans la base de données\n",
    "df_init.reset_index(level=None, inplace=True)\n",
    "df_init= df_init.assign(t=df_init.index)\n",
    "df_init.head()"
   ]
  },
  {
   "cell_type": "code",
   "execution_count": 8,
   "id": "7a0bfc2f-c95d-4d75-9de4-c27f123e64d9",
   "metadata": {},
   "outputs": [],
   "source": [
    "#Création d'une base de données d'apprentissage et d'une base de données de test"
   ]
  },
  {
   "cell_type": "code",
   "execution_count": 9,
   "id": "c605efb3-07ce-412f-a209-f38de36e5554",
   "metadata": {},
   "outputs": [],
   "source": [
    "df=df_init.dropna()\n",
    "X_BS=pd.DataFrame(df, columns=['Open','Close_veille','t','Log_Rdt'])\n",
    "y_BS=pd.Series(df.Close)\n",
    "X_BS_train, X_BS_test, y_BS_train, y_BS_test = train_test_split(X_BS, y_BS, test_size=0.2, random_state=0)"
   ]
  },
  {
   "cell_type": "code",
   "execution_count": 10,
   "id": "32bf253a-341a-4ef8-ad34-e218c507ed23",
   "metadata": {},
   "outputs": [
    {
     "data": {
      "text/plain": [
       "0.001251375431457566"
      ]
     },
     "execution_count": 10,
     "metadata": {},
     "output_type": "execute_result"
    }
   ],
   "source": [
    "#Calcul de la moyenne des log-rendements\n",
    "mu=np.mean(X_BS_train.Log_Rdt)\n",
    "mu"
   ]
  },
  {
   "cell_type": "code",
   "execution_count": 11,
   "id": "874b0c1d-88a3-4b5d-a4b9-d0ac2e83aed3",
   "metadata": {},
   "outputs": [
    {
     "data": {
      "text/plain": [
       "0.12558459926260576"
      ]
     },
     "execution_count": 11,
     "metadata": {},
     "output_type": "execute_result"
    }
   ],
   "source": [
    "#Estimation de la volatilité des log-rendements : par souci de simplification, nous prenons l'écart-type des log-rendements\n",
    "sigma=np.std(X_BS_train.Log_Rdt)*np.sqrt(len(X_BS_train))\n",
    "sigma"
   ]
  },
  {
   "cell_type": "code",
   "execution_count": 87,
   "id": "e5f30941-118d-4ad1-997a-827687187f7f",
   "metadata": {},
   "outputs": [],
   "source": [
    "#Ecriture d'une fonction qui estime le cours de l'action AXA par la formule de Black & Scholes à horizon d jour(s)\n",
    "\n",
    "def Estim_cours_action(d):\n",
    "    \n",
    "    start_Date = datetime.datetime(2019, 1, 1)\n",
    "    end_Date = datetime.datetime(2019, 12, 31)\n",
    "\n",
    "    GetAXAInfo = yahooFinance.Ticker(\"CS.PA\")\n",
    "\n",
    "    df_init=GetAXAInfo.history(start=start_Date,end=end_Date)\n",
    "    \n",
    "    #Transformation du cours de l'action de la veille en une variable\n",
    "    dec=df_init[\"Close\"].shift(1)\n",
    "    df_init= df_init.assign(Close_veille=dec)\n",
    "    \n",
    "    #Calcul des log-rendements\n",
    "    Log_Rdt=np.log(df_init.Close/df_init.Close_veille)\n",
    "    df_init= df_init.assign(Log_Rdt=Log_Rdt)\n",
    "    \n",
    "    #Rajout d'un indice temporel dans la base de données\n",
    "    df_init.reset_index(level=0, inplace=True)\n",
    "    df_init= df_init.assign(t=df_init.index)\n",
    "    \n",
    "    #Création d'une base de données d'apprentissage et d'une base de données de test\n",
    "    df=df_init.dropna()\n",
    "    X_BS=pd.DataFrame(df, columns=['Open','Close_veille','t','Log_Rdt'])\n",
    "    y_BS=pd.Series(df.Close)\n",
    "    X_BS_train, X_BS_test, y_BS_train, y_BS_test = train_test_split(X_BS, y_BS, test_size=0.2, random_state=0)\n",
    "    \n",
    "    #Calcul de la moyenne des log-rendements\n",
    "    mu=np.mean(X_BS_train.Log_Rdt)\n",
    "    \n",
    "    #Estimation de la volatilité des log-rendements : par souci de simplification, nous prenons l'écart-type des log-rendements\n",
    "    sigma=np.std(X_BS_train.Log_Rdt)*np.sqrt(len(X_BS_train))\n",
    "    \n",
    "    np.random.seed(94)\n",
    "    val_norm=np.random.normal(0, 1)\n",
    "\n",
    "    Est_Close_BS=y_BS_train[min(y_BS_train.index)]*np.exp((mu-(sigma**2)/2)*(d) + sigma*val_norm*np.sqrt(d))\n",
    "    return Est_Close_BS"
   ]
  },
  {
   "cell_type": "code",
   "execution_count": 88,
   "id": "9f837c3b-0a82-482f-afff-013910990aff",
   "metadata": {},
   "outputs": [],
   "source": [
    "#Ecriture d'une fonction qui estime le cours de l'action AXA pour plusieurs horizons temporels donnés\n",
    "\n",
    "def Estim_cours_action_serie(y):\n",
    "    indexes=y.index\n",
    "    Est_Close_BS_serie=[None]*len(indexes)\n",
    "    j=0\n",
    "    for i in indexes:\n",
    "        Est_Close_BS_serie[j]=Estim_cours_action(i)\n",
    "        j+=1\n",
    "    Est_Close_BS_serie=pd.Series(Est_Close_BS_serie)\n",
    "    return Est_Close_BS_serie"
   ]
  },
  {
   "cell_type": "code",
   "execution_count": 89,
   "id": "a0179479-be50-4642-86d1-4ce9f432edd9",
   "metadata": {},
   "outputs": [],
   "source": [
    "Estimation=Estim_cours_action_serie(y_BS_test)\n",
    "indexes_0=Estimation.index"
   ]
  },
  {
   "cell_type": "code",
   "execution_count": 90,
   "id": "8657fd49-4169-44dd-a66c-39b21fd05bda",
   "metadata": {},
   "outputs": [
    {
     "data": {
      "text/plain": [
       "<matplotlib.lines.Line2D at 0x7f622b6e9840>"
      ]
     },
     "execution_count": 90,
     "metadata": {},
     "output_type": "execute_result"
    },
    {
     "data": {
      "image/png": "[encoded data removed]",
      "text/plain": [
       "<Figure size 640x480 with 1 Axes>"
      ]
     },
     "metadata": {},
     "output_type": "display_data"
    }
   ],
   "source": [
    "#Représentation graphique dee l'erreur de prédiction entre B&S et série réelle \n",
    "\n",
    "y_BS_test.index=indexes_0\n",
    "Erreur=y_BS_test-Estimation\n",
    "plt.plot(indexes_0, Erreur)\n",
    "ay=plt.gca()\n",
    "ay.axhline(y=0, color='red')"
   ]
  },
  {
   "cell_type": "code",
   "execution_count": 16,
   "id": "11bea739-666f-427f-8a0c-08d9d6572c30",
   "metadata": {},
   "outputs": [
    {
     "data": {
      "text/plain": [
       "11.569699236845965"
      ]
     },
     "execution_count": 16,
     "metadata": {},
     "output_type": "execute_result"
    }
   ],
   "source": [
    "mse_BS=mean_squared_error(Estimation,y_BS_test)\n",
    "mse_BS"
   ]
  },
  {
   "cell_type": "code",
   "execution_count": null,
   "id": "adc3ea40-be2c-408d-8aa9-cba01bfdee5a",
   "metadata": {},
   "outputs": [],
   "source": [
    "#Mise en oeuvre d'un modèle SVM : on cherche à prédire Close en fonction de Open et de Close_veille"
   ]
  },
  {
   "cell_type": "code",
   "execution_count": 17,
   "id": "0c282b88-a36a-4751-a1e1-946dbe84a561",
   "metadata": {},
   "outputs": [],
   "source": [
    "#Base des variables dépendantes et normalisation des données\n",
    "X_train_init=pd.DataFrame(X_BS_train, columns=['Open','Close_veille'])\n",
    "X_test_init=pd.DataFrame(X_BS_test, columns=['Open','Close_veille'])\n",
    "scaler = StandardScaler()\n",
    "X_train = scaler.fit_transform(X_train_init)\n",
    "X_test = scaler.fit_transform(X_test_init)\n",
    "column_names_train = X_train_init.columns\n",
    "column_names_test = X_test_init.columns\n",
    "X_train=pd.DataFrame(X_train, columns=column_names_train)\n",
    "X_test=pd.DataFrame(X_test, columns=column_names_test)"
   ]
  },
  {
   "cell_type": "code",
   "execution_count": 21,
   "id": "5ebce1b7-8a16-42c9-aeba-6cb947857119",
   "metadata": {},
   "outputs": [],
   "source": [
    "#Vecteur de variable dépendante\n",
    "y_train=y_BS_train\n",
    "y_test=y_BS_test"
   ]
  },
  {
   "cell_type": "code",
   "execution_count": 22,
   "id": "d04045d4-8d4c-48b0-8fe7-a5a6ea54b94d",
   "metadata": {},
   "outputs": [
    {
     "data": {
      "text/html": [
       "<style>#sk-container-id-1 {color: black;background-color: white;}#sk-container-id-1 pre{padding: 0;}#sk-container-id-1 div.sk-toggleable {background-color: white;}#sk-container-id-1 label.sk-toggleable__label {cursor: pointer;display: block;width: 100%;margin-bottom: 0;padding: 0.3em;box-sizing: border-box;text-align: center;}#sk-container-id-1 label.sk-toggleable__label-arrow:before {content: \"▸\";float: left;margin-right: 0.25em;color: #696969;}#sk-container-id-1 label.sk-toggleable__label-arrow:hover:before {color: black;}#sk-container-id-1 div.sk-estimator:hover label.sk-toggleable__label-arrow:before {color: black;}#sk-container-id-1 div.sk-toggleable__content {max-height: 0;max-width: 0;overflow: hidden;text-align: left;background-color: #f0f8ff;}#sk-container-id-1 div.sk-toggleable__content pre {margin: 0.2em;color: black;border-radius: 0.25em;background-color: #f0f8ff;}#sk-container-id-1 input.sk-toggleable__control:checked~div.sk-toggleable__content {max-height: 200px;max-width: 100%;overflow: auto;}#sk-container-id-1 input.sk-toggleable__control:checked~label.sk-toggleable__label-arrow:before {content: \"▾\";}#sk-container-id-1 div.sk-estimator input.sk-toggleable__control:checked~label.sk-toggleable__label {background-color: #d4ebff;}#sk-container-id-1 div.sk-label input.sk-toggleable__control:checked~label.sk-toggleable__label {background-color: #d4ebff;}#sk-container-id-1 input.sk-hidden--visually {border: 0;clip: rect(1px 1px 1px 1px);clip: rect(1px, 1px, 1px, 1px);height: 1px;margin: -1px;overflow: hidden;padding: 0;position: absolute;width: 1px;}#sk-container-id-1 div.sk-estimator {font-family: monospace;background-color: #f0f8ff;border: 1px dotted black;border-radius: 0.25em;box-sizing: border-box;margin-bottom: 0.5em;}#sk-container-id-1 div.sk-estimator:hover {background-color: #d4ebff;}#sk-container-id-1 div.sk-parallel-item::after {content: \"\";width: 100%;border-bottom: 1px solid gray;flex-grow: 1;}#sk-container-id-1 div.sk-label:hover label.sk-toggleable__label {background-color: #d4ebff;}#sk-container-id-1 div.sk-serial::before {content: \"\";position: absolute;border-left: 1px solid gray;box-sizing: border-box;top: 0;bottom: 0;left: 50%;z-index: 0;}#sk-container-id-1 div.sk-serial {display: flex;flex-direction: column;align-items: center;background-color: white;padding-right: 0.2em;padding-left: 0.2em;position: relative;}#sk-container-id-1 div.sk-item {position: relative;z-index: 1;}#sk-container-id-1 div.sk-parallel {display: flex;align-items: stretch;justify-content: center;background-color: white;position: relative;}#sk-container-id-1 div.sk-item::before, #sk-container-id-1 div.sk-parallel-item::before {content: \"\";position: absolute;border-left: 1px solid gray;box-sizing: border-box;top: 0;bottom: 0;left: 50%;z-index: -1;}#sk-container-id-1 div.sk-parallel-item {display: flex;flex-direction: column;z-index: 1;position: relative;background-color: white;}#sk-container-id-1 div.sk-parallel-item:first-child::after {align-self: flex-end;width: 50%;}#sk-container-id-1 div.sk-parallel-item:last-child::after {align-self: flex-start;width: 50%;}#sk-container-id-1 div.sk-parallel-item:only-child::after {width: 0;}#sk-container-id-1 div.sk-dashed-wrapped {border: 1px dashed gray;margin: 0 0.4em 0.5em 0.4em;box-sizing: border-box;padding-bottom: 0.4em;background-color: white;}#sk-container-id-1 div.sk-label label {font-family: monospace;font-weight: bold;display: inline-block;line-height: 1.2em;}#sk-container-id-1 div.sk-label-container {text-align: center;}#sk-container-id-1 div.sk-container {/* jupyter's `normalize.less` sets `[hidden] { display: none; }` but bootstrap.min.css set `[hidden] { display: none !important; }` so we also need the `!important` here to be able to override the default hidden behavior on the sphinx rendered scikit-learn.org. See: https://github.com/scikit-learn/scikit-learn/issues/21755 */display: inline-block !important;position: relative;}#sk-container-id-1 div.sk-text-repr-fallback {display: none;}</style><div id=\"sk-container-id-1\" class=\"sk-top-container\"><div class=\"sk-text-repr-fallback\"><pre>SVR()</pre><b>In a Jupyter environment, please rerun this cell to show the HTML representation or trust the notebook. <br />On GitHub, the HTML representation is unable to render, please try loading this page with nbviewer.org.</b></div><div class=\"sk-container\" hidden><div class=\"sk-item\"><div class=\"sk-estimator sk-toggleable\"><input class=\"sk-toggleable__control sk-hidden--visually\" id=\"sk-estimator-id-1\" type=\"checkbox\" checked><label for=\"sk-estimator-id-1\" class=\"sk-toggleable__label sk-toggleable__label-arrow\">SVR</label><div class=\"sk-toggleable__content\"><pre>SVR()</pre></div></div></div></div></div>"
      ],
      "text/plain": [
       "SVR()"
      ]
     },
     "execution_count": 22,
     "metadata": {},
     "output_type": "execute_result"
    }
   ],
   "source": [
    "#Mise en oeuvre du modèle\n",
    "m1=svm.SVR()\n",
    "m1.fit(X_train, y_train)"
   ]
  },
  {
   "cell_type": "code",
   "execution_count": 23,
   "id": "00761f71-fffc-4436-8f55-c5f201ba9dd3",
   "metadata": {},
   "outputs": [
    {
     "data": {
      "text/plain": [
       "0.953806196610228"
      ]
     },
     "execution_count": 23,
     "metadata": {},
     "output_type": "execute_result"
    }
   ],
   "source": [
    "#Evaluation du modèle SVM : calcul de : accuracy\n",
    "accuracy = m1.score(X_test, y_test)\n",
    "accuracy"
   ]
  },
  {
   "cell_type": "code",
   "execution_count": 24,
   "id": "f5589c70-e5f1-4358-ad72-16abc40c6eec",
   "metadata": {},
   "outputs": [
    {
     "data": {
      "text/plain": [
       "0.0681112844461976"
      ]
     },
     "execution_count": 24,
     "metadata": {},
     "output_type": "execute_result"
    }
   ],
   "source": [
    "#Evaluation du modèle SVM : calcul du MSE\n",
    "y_pred=m1.predict(X_test)\n",
    "mse=mean_squared_error(y_pred,y_test)\n",
    "mse"
   ]
  },
  {
   "cell_type": "code",
   "execution_count": null,
   "id": "ee2e28fb-5632-4d71-a11c-e0e2130166df",
   "metadata": {},
   "outputs": [],
   "source": [
    "#En comparant les deux modèles (sur la base du critère MSE), il ressort que le modèle SVM (pour régression) est plus performant que la formule de B&S pour estimer le cours de l'action AXA à la clôture.\n",
    "#Le modèle SVM a en effet produit un MSE beaucoup plus faible.\n",
    "\n",
    "#On note également la bonne qualité de l'ajustement par modèle SVM, avec un accuracy à plus de 95%."
   ]
  },
  {
   "cell_type": "code",
   "execution_count": 82,
   "id": "2c4d6a8f-4c37-4227-a9ea-c158a3fa1d99",
   "metadata": {},
   "outputs": [
    {
     "data": {
      "text/plain": [
       "0.29929814397553406"
      ]
     },
     "execution_count": 82,
     "metadata": {},
     "output_type": "execute_result"
    }
   ],
   "source": [
    "np.random.seed(111111000)\n",
    "val_n=np.random.normal(0, 1)\n",
    "val_n"
   ]
  },
  {
   "cell_type": "code",
   "execution_count": null,
   "id": "3523579b-bda5-4826-adc6-ee3a651bb91d",
   "metadata": {},
   "outputs": [],
   "source": []
  }
 ],
 "metadata": {
  "kernelspec": {
   "display_name": "Python 3 (ipykernel)",
   "language": "python",
   "name": "python3"
  },
  "language_info": {
   "codemirror_mode": {
    "name": "ipython",
    "version": 3
   },
   "file_extension": ".py",
   "mimetype": "text/x-python",
   "name": "python",
   "nbconvert_exporter": "python",
   "pygments_lexer": "ipython3",
   "version": "3.10.4"
  }
 },
 "nbformat": 4,
 "nbformat_minor": 5
}
