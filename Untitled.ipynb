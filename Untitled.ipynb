{
 "cells": [
  {
   "cell_type": "code",
   "execution_count": 1,
   "id": "400ec5ce-bc55-4763-8f1b-1c482471f4a1",
   "metadata": {},
   "outputs": [
    {
     "name": "stdout",
     "output_type": "stream",
     "text": [
      "Collecting yfinance\n",
      "  Downloading yfinance-0.1.87-py2.py3-none-any.whl (29 kB)\n",
      "Collecting appdirs>=1.4.4\n",
      "  Downloading appdirs-1.4.4-py2.py3-none-any.whl (9.6 kB)\n",
      "Requirement already satisfied: requests>=2.26 in /opt/mamba/lib/python3.10/site-packages (from yfinance) (2.28.1)\n",
      "Collecting multitasking>=0.0.7\n",
      "  Downloading multitasking-0.0.11-py3-none-any.whl (8.5 kB)\n",
      "Collecting lxml>=4.5.1\n",
      "  Downloading lxml-4.9.1-cp310-cp310-manylinux_2_17_x86_64.manylinux2014_x86_64.manylinux_2_24_x86_64.whl (6.9 MB)\n",
      "\u001b[2K     \u001b[90m━━━━━━━━━━━━━━━━━━━━━━━━━━━━━━━━━━━━━━━━\u001b[0m \u001b[32m6.9/6.9 MB\u001b[0m \u001b[31m19.0 MB/s\u001b[0m eta \u001b[36m0:00:00\u001b[0m00:01\u001b[0m00:01\u001b[0m\n",
      "\u001b[?25hRequirement already satisfied: numpy>=1.15 in /opt/mamba/lib/python3.10/site-packages (from yfinance) (1.23.5)\n",
      "Requirement already satisfied: pandas>=0.24.0 in /opt/mamba/lib/python3.10/site-packages (from yfinance) (1.5.1)\n",
      "Requirement already satisfied: python-dateutil>=2.8.1 in /opt/mamba/lib/python3.10/site-packages (from pandas>=0.24.0->yfinance) (2.8.2)\n",
      "Requirement already satisfied: pytz>=2020.1 in /opt/mamba/lib/python3.10/site-packages (from pandas>=0.24.0->yfinance) (2022.6)\n",
      "Requirement already satisfied: urllib3<1.27,>=1.21.1 in /opt/mamba/lib/python3.10/site-packages (from requests>=2.26->yfinance) (1.26.11)\n",
      "Requirement already satisfied: certifi>=2017.4.17 in /opt/mamba/lib/python3.10/site-packages (from requests>=2.26->yfinance) (2022.9.24)\n",
      "Requirement already satisfied: charset-normalizer<3,>=2 in /opt/mamba/lib/python3.10/site-packages (from requests>=2.26->yfinance) (2.1.1)\n",
      "Requirement already satisfied: idna<4,>=2.5 in /opt/mamba/lib/python3.10/site-packages (from requests>=2.26->yfinance) (3.4)\n",
      "Requirement already satisfied: six>=1.5 in /opt/mamba/lib/python3.10/site-packages (from python-dateutil>=2.8.1->pandas>=0.24.0->yfinance) (1.16.0)\n",
      "Installing collected packages: multitasking, appdirs, lxml, yfinance\n",
      "Successfully installed appdirs-1.4.4 lxml-4.9.1 multitasking-0.0.11 yfinance-0.1.87\n",
      "Requirement already satisfied: matplotlib in /opt/mamba/lib/python3.10/site-packages (3.6.2)\n",
      "Requirement already satisfied: kiwisolver>=1.0.1 in /opt/mamba/lib/python3.10/site-packages (from matplotlib) (1.4.4)\n",
      "Requirement already satisfied: python-dateutil>=2.7 in /opt/mamba/lib/python3.10/site-packages (from matplotlib) (2.8.2)\n",
      "Requirement already satisfied: contourpy>=1.0.1 in /opt/mamba/lib/python3.10/site-packages (from matplotlib) (1.0.6)\n",
      "Requirement already satisfied: pillow>=6.2.0 in /opt/mamba/lib/python3.10/site-packages (from matplotlib) (9.2.0)\n",
      "Requirement already satisfied: numpy>=1.19 in /opt/mamba/lib/python3.10/site-packages (from matplotlib) (1.23.5)\n",
      "Requirement already satisfied: fonttools>=4.22.0 in /opt/mamba/lib/python3.10/site-packages (from matplotlib) (4.38.0)\n",
      "Requirement already satisfied: packaging>=20.0 in /opt/mamba/lib/python3.10/site-packages (from matplotlib) (21.3)\n",
      "Requirement already satisfied: pyparsing>=2.2.1 in /opt/mamba/lib/python3.10/site-packages (from matplotlib) (3.0.9)\n",
      "Requirement already satisfied: cycler>=0.10 in /opt/mamba/lib/python3.10/site-packages (from matplotlib) (0.11.0)\n",
      "Requirement already satisfied: six>=1.5 in /opt/mamba/lib/python3.10/site-packages (from python-dateutil>=2.7->matplotlib) (1.16.0)\n"
     ]
    },
    {
     "ename": "NameError",
     "evalue": "name 'startDate' is not defined",
     "output_type": "error",
     "traceback": [
      "\u001b[0;31m---------------------------------------------------------------------------\u001b[0m",
      "\u001b[0;31mNameError\u001b[0m                                 Traceback (most recent call last)",
      "Cell \u001b[0;32mIn [1], line 15\u001b[0m\n\u001b[1;32m     11\u001b[0m end_Date \u001b[38;5;241m=\u001b[39m datetime\u001b[38;5;241m.\u001b[39mdatetime(\u001b[38;5;241m2022\u001b[39m, \u001b[38;5;241m12\u001b[39m, \u001b[38;5;241m9\u001b[39m)\n\u001b[1;32m     13\u001b[0m GetAXAInfo \u001b[38;5;241m=\u001b[39m yahooFinance\u001b[38;5;241m.\u001b[39mTicker(\u001b[38;5;124m\"\u001b[39m\u001b[38;5;124mAXA\u001b[39m\u001b[38;5;124m\"\u001b[39m)\n\u001b[0;32m---> 15\u001b[0m \u001b[38;5;28mprint\u001b[39m(GetAXAInfo\u001b[38;5;241m.\u001b[39mhistory(start\u001b[38;5;241m=\u001b[39m\u001b[43mstartDate\u001b[49m,end\u001b[38;5;241m=\u001b[39mendDate))\n\u001b[1;32m     17\u001b[0m df\u001b[38;5;241m=\u001b[39mGetAXAInfo\u001b[38;5;241m.\u001b[39mhistory(start\u001b[38;5;241m=\u001b[39mstartDate,end\u001b[38;5;241m=\u001b[39mendDate)\n\u001b[1;32m     19\u001b[0m \u001b[38;5;28mtype\u001b[39m(df)\n",
      "\u001b[0;31mNameError\u001b[0m: name 'startDate' is not defined"
     ]
    }
   ],
   "source": [
    "#installation de yfinance et matplotolib pour la récupération des données sur yahoo finance\n",
    "!pip install yfinance\n",
    "!pip install matplotlib\n",
    "import yfinance as yahooFinance\n",
    "import datetime\n",
    "\n",
    "\n",
    "#Importation du cours de l'action de l'entreprise d'assurance AXA\n",
    "\n",
    "start_Date = datetime.datetime(2010, 1, 1)\n",
    "end_Date = datetime.datetime(2022, 12, 9)\n",
    "\n",
    "GetAXAInfo = yahooFinance.Ticker(\"AXA\")\n",
    "\n",
    "print(GetAXAInfo.history(start=startDate,end=endDate))\n",
    "\n",
    "df=GetAXAInfo.history(start=startDate,end=endDate)\n",
    "\n",
    "type(df)"
   ]
  },
  {
   "cell_type": "code",
   "execution_count": null,
   "id": "0ee4f2e4-5333-4252-bf6f-2b74961ae2f4",
   "metadata": {},
   "outputs": [],
   "source": [
    "df.columns"
   ]
  },
  {
   "cell_type": "code",
   "execution_count": null,
   "id": "49f023bf-3a25-4a16-9757-702a584d7f4c",
   "metadata": {},
   "outputs": [],
   "source": [
    "dec=df[\"Close\"].shift(1)\n",
    "dec"
   ]
  },
  {
   "cell_type": "code",
   "execution_count": null,
   "id": "f43a31fd-79e1-4b48-acf4-4795ff403be0",
   "metadata": {},
   "outputs": [],
   "source": [
    "df= df.assign(close_veille=dec)\n",
    "df"
   ]
  },
  {
   "cell_type": "code",
   "execution_count": null,
   "id": "9e5d4cc9-7b7a-4728-bb17-81e5d285181c",
   "metadata": {},
   "outputs": [],
   "source": [
    "import math"
   ]
  },
  {
   "cell_type": "code",
   "execution_count": null,
   "id": "f54e6aee-4d49-41b2-a0fa-ee154f97683b",
   "metadata": {},
   "outputs": [],
   "source": [
    "rdt1=df[\"Close\"].pct_change() #on ne peut pas calculer les logrendements car on a des rendements négatifs\n",
    "df=df.assign(rdt_close=rdt1)\n",
    "df"
   ]
  },
  {
   "cell_type": "code",
   "execution_count": null,
   "id": "a9fac7b6-d2ad-434e-bf2b-216201463da4",
   "metadata": {},
   "outputs": [],
   "source": [
    "rdt2=df[\"Open\"].pct_change() \n",
    "df=df.assign(rdt_open=rdt2)\n",
    "df"
   ]
  },
  {
   "cell_type": "code",
   "execution_count": null,
   "id": "eded0342-d85a-4d68-a902-fbf0395f8cf7",
   "metadata": {},
   "outputs": [],
   "source": [
    "stat_rdt= df[[\"rdt_open\", \"rdt_close\"]].describe()\n",
    "print(stat_rdt)"
   ]
  },
  {
   "cell_type": "code",
   "execution_count": null,
   "id": "9592fa81-263c-4113-8e21-849ce60c6a4c",
   "metadata": {},
   "outputs": [],
   "source": [
    "cor = df[[\"Close\",\"Open\", \"rdt_close\",\"rdt_open\"]].corr() #correlation entre les trois\n",
    "cor "
   ]
  },
  {
   "cell_type": "code",
   "execution_count": null,
   "id": "0f2bb4a3-9a64-4d7b-bebc-8d3e1d260efa",
   "metadata": {},
   "outputs": [],
   "source": [
    "import matplotlib.pyplot as plt\n",
    "import seaborn as sns\n",
    "plt.figure(figsize=(10,6))\n",
    "plt.hist(df[\"Close\"], bins=15, density=True)\n",
    "sns.kdeplot(df[\"Close\"], shade=True)"
   ]
  },
  {
   "cell_type": "code",
   "execution_count": null,
   "id": "1fbef731-b8fd-4159-a54c-1e082fa884f4",
   "metadata": {},
   "outputs": [],
   "source": [
    "plt.figure(figsize=(10,6))\n",
    "plt.hist(df[\"rdt_close\"], bins=15, density=True)\n",
    "sns.kdeplot(df[\"rdt_close\"], shade=True)"
   ]
  },
  {
   "cell_type": "code",
   "execution_count": null,
   "id": "d26ccb35-9d95-4858-bb9f-8eb68a9c50f5",
   "metadata": {},
   "outputs": [],
   "source": [
    "stat, p_close = stats.shapiro(df.Close) # test de Shapiro-Wilk pour vérifier la normalité des rendements\n",
    "print(\"P-valeur_close: {:.4f}\".format(p_close)) # affiche la p-valeur avec 4 chiffres significatifs après la virgule\n",
    "#L'hypothèse de normalité n'est pas vérifiée au seuil de signification 0.05"
   ]
  },
  {
   "cell_type": "code",
   "execution_count": null,
   "id": "69e3b0c2-02bf-4e19-af92-4ce9492fe575",
   "metadata": {},
   "outputs": [],
   "source": [
    "plt.figure(figsize=(10,6))\n",
    "plt.hist(df[\"Open\"], bins=15, density=True)\n",
    "sns.kdeplot(df[\"Open\"], shade=True)"
   ]
  },
  {
   "cell_type": "code",
   "execution_count": null,
   "id": "2cde2982-f0dc-4924-865b-dc4c00a74a53",
   "metadata": {},
   "outputs": [],
   "source": [
    "plt.figure(figsize=(10,6))\n",
    "plt.hist(df[\"rdt_open\"], bins=15, density=True)\n",
    "sns.kdeplot(df[\"rdt_open\"], shade=True)"
   ]
  },
  {
   "cell_type": "code",
   "execution_count": null,
   "id": "1dd9493e-db0c-43f4-85ee-d572994bab48",
   "metadata": {},
   "outputs": [],
   "source": [
    "stat, p_open = stats.shapiro(df.Open) # test de Shapiro-Wilk pour vérifier la normalité des rendements\n",
    "print(\"P-valeur_open: {:.4f}\".format(p_open)) # affiche la p-valeur avec 4 chiffres significatifs après la virgule\n",
    "#L'hypothèse de normalité n'est pas vérifiée au seuil de signification 0.05"
   ]
  },
  {
   "cell_type": "code",
   "execution_count": null,
   "id": "63e68b7b-9a7d-4137-89ef-b11ae57f901f",
   "metadata": {},
   "outputs": [],
   "source": [
    "import scipy.stats as stats\n",
    "\n",
    "stat, p1 = stats.shapiro(df.rdt_close) # test de Shapiro-Wilk pour vérifier la normalité des rendements\n",
    "print(\"P-valeur_rdt_close: {:.4f}\".format(p1)) # affiche la p-valeur avec 4 chiffres significatifs après la virgule\n",
    "#L'hypothèse de normalité des rendemnts est vérifiée au seuil de signification 0.05"
   ]
  },
  {
   "cell_type": "code",
   "execution_count": null,
   "id": "d9125db0-7fbb-4aa5-80a9-2595012d073c",
   "metadata": {},
   "outputs": [],
   "source": [
    "stat, p2 = stats.shapiro(df.rdt_open) # test de Shapiro-Wilk pour vérifier la normalité des rendements\n",
    "print(\"P-valeur_rdt_open: {:.4f}\".format(p2)) # affiche la p-valeur avec 4 chiffres significatifs après la virgule\n",
    "#L'hypothèse de normalité des rendemnts est vérifiée au seuil de signification 0.05"
   ]
  },
  {
   "cell_type": "code",
   "execution_count": null,
   "id": "0bef50b1-93cd-4263-839f-a033b79229f7",
   "metadata": {},
   "outputs": [],
   "source": []
  },
  {
   "cell_type": "code",
   "execution_count": null,
   "id": "5b947ba1-c347-4223-8408-3752ac8df691",
   "metadata": {},
   "outputs": [],
   "source": []
  },
  {
   "cell_type": "code",
   "execution_count": null,
   "id": "a2000652-0e54-485d-b022-9a9409fec4ab",
   "metadata": {},
   "outputs": [],
   "source": []
  },
  {
   "cell_type": "code",
   "execution_count": null,
   "id": "646c87fb-bae8-43df-9fb4-3264ebe2106a",
   "metadata": {},
   "outputs": [],
   "source": []
  }
 ],
 "metadata": {
  "kernelspec": {
   "display_name": "Python 3 (ipykernel)",
   "language": "python",
   "name": "python3"
  },
  "language_info": {
   "codemirror_mode": {
    "name": "ipython",
    "version": 3
   },
   "file_extension": ".py",
   "mimetype": "text/x-python",
   "name": "python",
   "nbconvert_exporter": "python",
   "pygments_lexer": "ipython3",
   "version": "3.10.4"
  }
 },
 "nbformat": 4,
 "nbformat_minor": 5
}
