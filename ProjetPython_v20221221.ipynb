{
 "cells": [
  {
   "cell_type": "markdown",
   "id": "7c9a4dec-fada-484d-a03f-398592a142c9",
   "metadata": {},
   "source": [
    "# **PROJET PYTHON POUR LA DATA SCIENCE : Machine Learning vs Black-Scholes**\n",
    "##        ***Les algorithmes de machine learning prédiraient-ils mieux le cours des actions financières que le célèbre modèle économétrique Black-Scholes?***\n",
    "\n",
    "## **Auteurs:** \n",
    "### **<center> NGUEMOGNE Sandra, Rougier Antoine</center>**\n",
    "\n",
    "####     L'objectif de ce notebook est de présenter le projet que nous avons effectué dans le cadre de l'unité d'enseignement Python pour la data science dispensée à l'ENSAE. Ce projet a été élaboré de manière libre et comporte, comme attendu, un jeu de données récupéré et traité, une partie visualisation et une partie modélisation."
   ]
  },
  {
   "cell_type": "raw",
   "id": "dfc9babc-d828-498f-a48e-5b8bcc2be1af",
   "metadata": {},
   "source": []
  },
  {
   "cell_type": "raw",
   "id": "7c7ada79-af42-43d8-b4ee-49e81ab7d951",
   "metadata": {},
   "source": []
  },
  {
   "cell_type": "markdown",
   "id": "912cd75d-3858-4e19-a7fa-38c41ec36114",
   "metadata": {},
   "source": [
    "# **Plan du travail**\n",
    "\n",
    "## **A) Problématique**\n",
    "## **B) Installations préalables et importation des modules**\n",
    "## **I. Récupération, visualisation et traitement de données**\n",
    "## **II. Analyses descriptives et représentations graphiques**\n",
    "## **III. Modélisation**\n",
    "### **III.1 Algorithmes de Machine Learning**\n",
    "#### **a) Regression linéaire**\n",
    "#### **b) Modèle SVM** \n",
    "### **III.2 Modèle Black-Scholes**\n",
    "## **C) Ce qu'on retient**"
   ]
  },
  {
   "cell_type": "raw",
   "id": "4752f058-b1f7-40c5-b27e-19950658c771",
   "metadata": {},
   "source": []
  },
  {
   "cell_type": "raw",
   "id": "1f41fb36-dfe2-4457-9ffa-b61c4d3faf90",
   "metadata": {},
   "source": []
  },
  {
   "cell_type": "markdown",
   "id": "7d5a2021-32b4-4e67-b88b-548bcb093678",
   "metadata": {},
   "source": [
    "## **A) Problématique**\n",
    "### Ce projet s'articule autour de la problématique suivante :\n",
    "\n",
    "#### ***<center>Lequel des algorithmes de Machine Learning et du modèle économétrique de Black-Scholes prédit-il le mieux le cours de l'action de la compagnie d'Assurance AXA?</center>***"
   ]
  },
  {
   "cell_type": "raw",
   "id": "e76a475a-f0b8-4f4a-8f4b-e78bc88c342c",
   "metadata": {},
   "source": []
  },
  {
   "cell_type": "markdown",
   "id": "40ee1044-2c9f-49b6-9bbd-e7d1c8968522",
   "metadata": {},
   "source": [
    "## **B) Installations préalables et importation des modules** \n",
    "\n",
    "Avant d'exécuter ce code, veuillez procéder aux installations et importations des modules nécessaires à son bon fonctionnement: exécutez la cellule ci-dessous."
   ]
  },
  {
   "cell_type": "code",
   "execution_count": 1,
   "id": "4792a520-81b8-4005-a261-e5f6747473f1",
   "metadata": {},
   "outputs": [
    {
     "name": "stdout",
     "output_type": "stream",
     "text": [
      "Collecting yfinance\n",
      "  Downloading yfinance-0.2.3-py2.py3-none-any.whl (50 kB)\n",
      "\u001b[2K     \u001b[90m━━━━━━━━━━━━━━━━━━━━━━━━━━━━━━━━━━━━━━━━\u001b[0m \u001b[32m50.4/50.4 kB\u001b[0m \u001b[31m6.2 MB/s\u001b[0m eta \u001b[36m0:00:00\u001b[0m\n",
      "\u001b[?25hRequirement already satisfied: numpy>=1.16.5 in /opt/mamba/lib/python3.10/site-packages (from yfinance) (1.23.5)\n",
      "Requirement already satisfied: pytz>=2022.5 in /opt/mamba/lib/python3.10/site-packages (from yfinance) (2022.6)\n",
      "Collecting lxml>=4.9.1\n",
      "  Downloading lxml-4.9.2-cp310-cp310-manylinux_2_17_x86_64.manylinux2014_x86_64.manylinux_2_24_x86_64.whl (7.1 MB)\n",
      "\u001b[2K     \u001b[90m━━━━━━━━━━━━━━━━━━━━━━━━━━━━━━━━━━━━━━━━\u001b[0m \u001b[32m7.1/7.1 MB\u001b[0m \u001b[31m17.1 MB/s\u001b[0m eta \u001b[36m0:00:00\u001b[0m00:01\u001b[0m00:01\u001b[0m\n",
      "\u001b[?25hRequirement already satisfied: requests>=2.26 in /opt/mamba/lib/python3.10/site-packages (from yfinance) (2.28.1)\n",
      "Collecting appdirs>=1.4.4\n",
      "  Downloading appdirs-1.4.4-py2.py3-none-any.whl (9.6 kB)\n",
      "Requirement already satisfied: beautifulsoup4>=4.11.1 in /opt/mamba/lib/python3.10/site-packages (from yfinance) (4.11.1)\n",
      "Collecting frozendict>=2.3.4\n",
      "  Downloading frozendict-2.3.4-cp310-cp310-manylinux_2_17_x86_64.manylinux2014_x86_64.whl (113 kB)\n",
      "\u001b[2K     \u001b[90m━━━━━━━━━━━━━━━━━━━━━━━━━━━━━━━━━━━━━━\u001b[0m \u001b[32m113.2/113.2 kB\u001b[0m \u001b[31m29.9 MB/s\u001b[0m eta \u001b[36m0:00:00\u001b[0m\n",
      "\u001b[?25hRequirement already satisfied: pandas>=1.3.0 in /opt/mamba/lib/python3.10/site-packages (from yfinance) (1.5.1)\n",
      "Collecting html5lib>=1.1\n",
      "  Downloading html5lib-1.1-py2.py3-none-any.whl (112 kB)\n",
      "\u001b[2K     \u001b[90m━━━━━━━━━━━━━━━━━━━━━━━━━━━━━━━━━━━━━━\u001b[0m \u001b[32m112.2/112.2 kB\u001b[0m \u001b[31m20.9 MB/s\u001b[0m eta \u001b[36m0:00:00\u001b[0m\n",
      "\u001b[?25hRequirement already satisfied: cryptography>=3.3.2 in /opt/mamba/lib/python3.10/site-packages (from yfinance) (38.0.3)\n",
      "Collecting multitasking>=0.0.7\n",
      "  Downloading multitasking-0.0.11-py3-none-any.whl (8.5 kB)\n",
      "Requirement already satisfied: soupsieve>1.2 in /opt/mamba/lib/python3.10/site-packages (from beautifulsoup4>=4.11.1->yfinance) (2.3.2.post1)\n",
      "Requirement already satisfied: cffi>=1.12 in /opt/mamba/lib/python3.10/site-packages (from cryptography>=3.3.2->yfinance) (1.15.1)\n",
      "Requirement already satisfied: webencodings in /opt/mamba/lib/python3.10/site-packages (from html5lib>=1.1->yfinance) (0.5.1)\n",
      "Requirement already satisfied: six>=1.9 in /opt/mamba/lib/python3.10/site-packages (from html5lib>=1.1->yfinance) (1.16.0)\n",
      "Requirement already satisfied: python-dateutil>=2.8.1 in /opt/mamba/lib/python3.10/site-packages (from pandas>=1.3.0->yfinance) (2.8.2)\n",
      "Requirement already satisfied: urllib3<1.27,>=1.21.1 in /opt/mamba/lib/python3.10/site-packages (from requests>=2.26->yfinance) (1.26.11)\n",
      "Requirement already satisfied: charset-normalizer<3,>=2 in /opt/mamba/lib/python3.10/site-packages (from requests>=2.26->yfinance) (2.1.1)\n",
      "Requirement already satisfied: certifi>=2017.4.17 in /opt/mamba/lib/python3.10/site-packages (from requests>=2.26->yfinance) (2022.9.24)\n",
      "Requirement already satisfied: idna<4,>=2.5 in /opt/mamba/lib/python3.10/site-packages (from requests>=2.26->yfinance) (3.4)\n",
      "Requirement already satisfied: pycparser in /opt/mamba/lib/python3.10/site-packages (from cffi>=1.12->cryptography>=3.3.2->yfinance) (2.21)\n",
      "Installing collected packages: multitasking, appdirs, lxml, html5lib, frozendict, yfinance\n",
      "Successfully installed appdirs-1.4.4 frozendict-2.3.4 html5lib-1.1 lxml-4.9.2 multitasking-0.0.11 yfinance-0.2.3\n",
      "Requirement already satisfied: matplotlib in /opt/mamba/lib/python3.10/site-packages (3.6.2)\n",
      "Requirement already satisfied: cycler>=0.10 in /opt/mamba/lib/python3.10/site-packages (from matplotlib) (0.11.0)\n",
      "Requirement already satisfied: pyparsing>=2.2.1 in /opt/mamba/lib/python3.10/site-packages (from matplotlib) (3.0.9)\n",
      "Requirement already satisfied: fonttools>=4.22.0 in /opt/mamba/lib/python3.10/site-packages (from matplotlib) (4.38.0)\n",
      "Requirement already satisfied: pillow>=6.2.0 in /opt/mamba/lib/python3.10/site-packages (from matplotlib) (9.2.0)\n",
      "Requirement already satisfied: numpy>=1.19 in /opt/mamba/lib/python3.10/site-packages (from matplotlib) (1.23.5)\n",
      "Requirement already satisfied: contourpy>=1.0.1 in /opt/mamba/lib/python3.10/site-packages (from matplotlib) (1.0.6)\n",
      "Requirement already satisfied: kiwisolver>=1.0.1 in /opt/mamba/lib/python3.10/site-packages (from matplotlib) (1.4.4)\n",
      "Requirement already satisfied: python-dateutil>=2.7 in /opt/mamba/lib/python3.10/site-packages (from matplotlib) (2.8.2)\n",
      "Requirement already satisfied: packaging>=20.0 in /opt/mamba/lib/python3.10/site-packages (from matplotlib) (21.3)\n",
      "Requirement already satisfied: six>=1.5 in /opt/mamba/lib/python3.10/site-packages (from python-dateutil>=2.7->matplotlib) (1.16.0)\n"
     ]
    }
   ],
   "source": [
    "!pip install yfinance\n",
    "!pip install matplotlib\n",
    "import yfinance as yahooFinance\n",
    "import datetime\n",
    "import math\n",
    "import matplotlib.pyplot as plt\n",
    "import seaborn as sns\n",
    "import numpy as np\n",
    "import pandas as pd\n",
    "from sklearn.preprocessing import StandardScaler\n",
    "from sklearn.model_selection import train_test_split\n",
    "from sklearn.utils import check_X_y\n",
    "from sklearn import svm\n",
    "import sklearn.metrics\n",
    "from sklearn.model_selection import cross_val_score\n",
    "from sklearn.linear_model import LinearRegression\n",
    "from sklearn.metrics import mean_squared_error, r2_score\n",
    "from sklearn import linear_model\n",
    "from sklearn.metrics import mean_squared_error, r2_score"
   ]
  },
  {
   "cell_type": "raw",
   "id": "8b141bba-215e-49fe-a655-f22aa2a87e84",
   "metadata": {},
   "source": []
  },
  {
   "cell_type": "markdown",
   "id": "e8af35d7-5f0d-4575-b871-a4125c6eec49",
   "metadata": {},
   "source": [
    "## **I. Récupération, visualisation et traitement de données** \n",
    "\n",
    "Dans cette partie, nous récupérons et traitons les données portant sur le cours de l'action de la compagnie d'Assurance AXA. Nous avons choisi de  les récupérer directement sur le site  de référence: ***Yahoo Finance***. Nous récupérons ainsi les données allant du 1er janvier 2019 au 31 décembre de la meme annnée. Pour cela nous avons eu besoin d'un identifiant communément appélé ****ticker***, celui d'AXA correspondant ainsi à \n",
    "**CS.PA**.\n",
    "Comme vous pourez le voir en excutant les prochaines cellules, notre jeu de données est un ensemble de 255 observations et 7 variables: ***Open, High, Low, Close, Volume, Dividends et Stock Splits.*** Les 2 dernières variables ne nous seront pas d'un intéret particulier, raison pour laquelle nous allons les supprimer en chemin.\n",
    "Pour une journée donnée: \n",
    "+ La varialble ***Open (respectivement Close)*** correspond au prix, au matin (respectivement dans la soirée/en fin de journée) de l'action d'AXA sur le marché boursier.\n",
    "- La variable ***High (respectivement Low)*** correspond au prix le plus élevé (respectivement le plus bas) qu'a atteind la valeur de l'action dans la journée.\n",
    "+ La variable ***Volume*** représente le nombre d'actions échangées sur le marché dans la journée."
   ]
  },
  {
   "cell_type": "markdown",
   "id": "5fa31457-c731-4e13-9878-c5a0b9e1c86a",
   "metadata": {},
   "source": [
    "#### ***Récupération***"
   ]
  },
  {
   "cell_type": "code",
   "execution_count": 2,
   "id": "827e3246-9e95-418a-a801-4cfb30893c3a",
   "metadata": {},
   "outputs": [],
   "source": [
    "start_Date = datetime.datetime(2019, 1, 1) #Précise la date de début\n",
    "end_Date = datetime.datetime(2019, 12, 31) #Précise la date de fin\n",
    "\n",
    "GetAXAInfo = yahooFinance.Ticker(\"CS.PA\") #Localise les données du cours de l'action d'AXA\n",
    "df_init=GetAXAInfo.history(start=start_Date,end=end_Date) #parmi ces données, on récupère celles correspondant aux dates qui nous interessent"
   ]
  },
  {
   "cell_type": "markdown",
   "id": "b6ca0cf1-50c8-4cc5-997d-5e73f695a7f4",
   "metadata": {},
   "source": [
    "#### ***Visualisation et traitement de données*** "
   ]
  },
  {
   "cell_type": "code",
   "execution_count": 3,
   "id": "936d7d60-089b-456b-857d-bc5c1cc01221",
   "metadata": {},
   "outputs": [
    {
     "name": "stdout",
     "output_type": "stream",
     "text": [
      "255\n",
      "Index(['Open', 'High', 'Low', 'Close', 'Volume', 'Dividends', 'Stock Splits'], dtype='object')\n"
     ]
    },
    {
     "data": {
      "text/html": [
       "<div>\n",
       "<style scoped>\n",
       "    .dataframe tbody tr th:only-of-type {\n",
       "        vertical-align: middle;\n",
       "    }\n",
       "\n",
       "    .dataframe tbody tr th {\n",
       "        vertical-align: top;\n",
       "    }\n",
       "\n",
       "    .dataframe thead th {\n",
       "        text-align: right;\n",
       "    }\n",
       "</style>\n",
       "<table border=\"1\" class=\"dataframe\">\n",
       "  <thead>\n",
       "    <tr style=\"text-align: right;\">\n",
       "      <th></th>\n",
       "      <th>Open</th>\n",
       "      <th>High</th>\n",
       "      <th>Low</th>\n",
       "      <th>Close</th>\n",
       "      <th>Volume</th>\n",
       "      <th>Dividends</th>\n",
       "      <th>Stock Splits</th>\n",
       "    </tr>\n",
       "    <tr>\n",
       "      <th>Date</th>\n",
       "      <th></th>\n",
       "      <th></th>\n",
       "      <th></th>\n",
       "      <th></th>\n",
       "      <th></th>\n",
       "      <th></th>\n",
       "      <th></th>\n",
       "    </tr>\n",
       "  </thead>\n",
       "  <tbody>\n",
       "    <tr>\n",
       "      <th>2019-01-02 00:00:00+01:00</th>\n",
       "      <td>13.595197</td>\n",
       "      <td>13.738303</td>\n",
       "      <td>13.455009</td>\n",
       "      <td>13.731002</td>\n",
       "      <td>8028529</td>\n",
       "      <td>0.0</td>\n",
       "      <td>0.0</td>\n",
       "    </tr>\n",
       "    <tr>\n",
       "      <th>2019-01-03 00:00:00+01:00</th>\n",
       "      <td>13.599576</td>\n",
       "      <td>13.836142</td>\n",
       "      <td>13.589354</td>\n",
       "      <td>13.617100</td>\n",
       "      <td>6583413</td>\n",
       "      <td>0.0</td>\n",
       "      <td>0.0</td>\n",
       "    </tr>\n",
       "    <tr>\n",
       "      <th>2019-01-04 00:00:00+01:00</th>\n",
       "      <td>13.720778</td>\n",
       "      <td>14.087309</td>\n",
       "      <td>13.666748</td>\n",
       "      <td>14.044960</td>\n",
       "      <td>11675578</td>\n",
       "      <td>0.0</td>\n",
       "      <td>0.0</td>\n",
       "    </tr>\n",
       "    <tr>\n",
       "      <th>2019-01-07 00:00:00+01:00</th>\n",
       "      <td>14.078548</td>\n",
       "      <td>14.150101</td>\n",
       "      <td>13.900394</td>\n",
       "      <td>13.982169</td>\n",
       "      <td>7530045</td>\n",
       "      <td>0.0</td>\n",
       "      <td>0.0</td>\n",
       "    </tr>\n",
       "    <tr>\n",
       "      <th>2019-01-08 00:00:00+01:00</th>\n",
       "      <td>14.027437</td>\n",
       "      <td>14.218734</td>\n",
       "      <td>13.988010</td>\n",
       "      <td>14.034739</td>\n",
       "      <td>7314687</td>\n",
       "      <td>0.0</td>\n",
       "      <td>0.0</td>\n",
       "    </tr>\n",
       "  </tbody>\n",
       "</table>\n",
       "</div>"
      ],
      "text/plain": [
       "                                Open       High        Low      Close  \\\n",
       "Date                                                                    \n",
       "2019-01-02 00:00:00+01:00  13.595197  13.738303  13.455009  13.731002   \n",
       "2019-01-03 00:00:00+01:00  13.599576  13.836142  13.589354  13.617100   \n",
       "2019-01-04 00:00:00+01:00  13.720778  14.087309  13.666748  14.044960   \n",
       "2019-01-07 00:00:00+01:00  14.078548  14.150101  13.900394  13.982169   \n",
       "2019-01-08 00:00:00+01:00  14.027437  14.218734  13.988010  14.034739   \n",
       "\n",
       "                             Volume  Dividends  Stock Splits  \n",
       "Date                                                          \n",
       "2019-01-02 00:00:00+01:00   8028529        0.0           0.0  \n",
       "2019-01-03 00:00:00+01:00   6583413        0.0           0.0  \n",
       "2019-01-04 00:00:00+01:00  11675578        0.0           0.0  \n",
       "2019-01-07 00:00:00+01:00   7530045        0.0           0.0  \n",
       "2019-01-08 00:00:00+01:00   7314687        0.0           0.0  "
      ]
     },
     "execution_count": 3,
     "metadata": {},
     "output_type": "execute_result"
    }
   ],
   "source": [
    "print(len(df_init)) #  affiche le nombre d'observations\n",
    "print(df_init.columns) # affiche la liste des variables\n",
    "df_init.head() # Affiche les 5 premières lignes du dataframe pour un apercu fluide"
   ]
  },
  {
   "cell_type": "markdown",
   "id": "ff6f5f10-3ff9-4a03-8713-bc843685d0ed",
   "metadata": {},
   "source": [
    "On remarque que les dates peuvent poser un problème dans notre modélisation, car elles sont converties sous le format Unix, et que les heures ne nous intérèssent pas particulière dans notre projet. Nous allons d'abord convertir ces dates dans un format qui ne nous posera pas de problème. De plus, en visualisant les valeurs minimales et maximales des 2 dernièrres colonnes, nous remarquons que la colonne ***Dividends*** n'est pas toujours nulle contrairement à ce qu'on pouvait penser. Tandis que ***stock splits l'est***. Dans la suite de notre projet, nous n'utiliserons plus ces colonnes car elle ne sont pas pertinentes donc nous décidons de les supprimer. "
   ]
  },
  {
   "cell_type": "code",
   "execution_count": 4,
   "id": "0c43a996-270a-4d02-83c8-75fe93796d00",
   "metadata": {},
   "outputs": [
    {
     "data": {
      "text/html": [
       "<div>\n",
       "<style scoped>\n",
       "    .dataframe tbody tr th:only-of-type {\n",
       "        vertical-align: middle;\n",
       "    }\n",
       "\n",
       "    .dataframe tbody tr th {\n",
       "        vertical-align: top;\n",
       "    }\n",
       "\n",
       "    .dataframe thead th {\n",
       "        text-align: right;\n",
       "    }\n",
       "</style>\n",
       "<table border=\"1\" class=\"dataframe\">\n",
       "  <thead>\n",
       "    <tr style=\"text-align: right;\">\n",
       "      <th></th>\n",
       "      <th>Open</th>\n",
       "      <th>High</th>\n",
       "      <th>Low</th>\n",
       "      <th>Close</th>\n",
       "      <th>Volume</th>\n",
       "      <th>Dividends</th>\n",
       "      <th>Stock Splits</th>\n",
       "    </tr>\n",
       "    <tr>\n",
       "      <th>Date</th>\n",
       "      <th></th>\n",
       "      <th></th>\n",
       "      <th></th>\n",
       "      <th></th>\n",
       "      <th></th>\n",
       "      <th></th>\n",
       "      <th></th>\n",
       "    </tr>\n",
       "  </thead>\n",
       "  <tbody>\n",
       "    <tr>\n",
       "      <th>2019-01-02</th>\n",
       "      <td>13.595197</td>\n",
       "      <td>13.738303</td>\n",
       "      <td>13.455009</td>\n",
       "      <td>13.731002</td>\n",
       "      <td>8028529</td>\n",
       "      <td>0.0</td>\n",
       "      <td>0.0</td>\n",
       "    </tr>\n",
       "    <tr>\n",
       "      <th>2019-01-03</th>\n",
       "      <td>13.599576</td>\n",
       "      <td>13.836142</td>\n",
       "      <td>13.589354</td>\n",
       "      <td>13.617100</td>\n",
       "      <td>6583413</td>\n",
       "      <td>0.0</td>\n",
       "      <td>0.0</td>\n",
       "    </tr>\n",
       "    <tr>\n",
       "      <th>2019-01-04</th>\n",
       "      <td>13.720778</td>\n",
       "      <td>14.087309</td>\n",
       "      <td>13.666748</td>\n",
       "      <td>14.044960</td>\n",
       "      <td>11675578</td>\n",
       "      <td>0.0</td>\n",
       "      <td>0.0</td>\n",
       "    </tr>\n",
       "    <tr>\n",
       "      <th>2019-01-07</th>\n",
       "      <td>14.078548</td>\n",
       "      <td>14.150101</td>\n",
       "      <td>13.900394</td>\n",
       "      <td>13.982169</td>\n",
       "      <td>7530045</td>\n",
       "      <td>0.0</td>\n",
       "      <td>0.0</td>\n",
       "    </tr>\n",
       "    <tr>\n",
       "      <th>2019-01-08</th>\n",
       "      <td>14.027437</td>\n",
       "      <td>14.218734</td>\n",
       "      <td>13.988010</td>\n",
       "      <td>14.034739</td>\n",
       "      <td>7314687</td>\n",
       "      <td>0.0</td>\n",
       "      <td>0.0</td>\n",
       "    </tr>\n",
       "  </tbody>\n",
       "</table>\n",
       "</div>"
      ],
      "text/plain": [
       "                 Open       High        Low      Close    Volume  Dividends  \\\n",
       "Date                                                                          \n",
       "2019-01-02  13.595197  13.738303  13.455009  13.731002   8028529        0.0   \n",
       "2019-01-03  13.599576  13.836142  13.589354  13.617100   6583413        0.0   \n",
       "2019-01-04  13.720778  14.087309  13.666748  14.044960  11675578        0.0   \n",
       "2019-01-07  14.078548  14.150101  13.900394  13.982169   7530045        0.0   \n",
       "2019-01-08  14.027437  14.218734  13.988010  14.034739   7314687        0.0   \n",
       "\n",
       "            Stock Splits  \n",
       "Date                      \n",
       "2019-01-02           0.0  \n",
       "2019-01-03           0.0  \n",
       "2019-01-04           0.0  \n",
       "2019-01-07           0.0  \n",
       "2019-01-08           0.0  "
      ]
     },
     "execution_count": 4,
     "metadata": {},
     "output_type": "execute_result"
    }
   ],
   "source": [
    "#Formatage des dates\n",
    "df_init = df_init.reset_index()\n",
    "df_init[\"Date\"] = df_init[\"Date\"].dt.strftime('%Y-%m-%d')\n",
    "df_init = df_init.set_index('Date')\n",
    "df_init.head()\n"
   ]
  },
  {
   "cell_type": "code",
   "execution_count": 5,
   "id": "e7921a86-627b-416f-b425-92c8ebf52af7",
   "metadata": {
    "tags": []
   },
   "outputs": [
    {
     "name": "stdout",
     "output_type": "stream",
     "text": [
      "0.0\n",
      "1.34\n"
     ]
    },
    {
     "data": {
      "text/html": [
       "<div>\n",
       "<style scoped>\n",
       "    .dataframe tbody tr th:only-of-type {\n",
       "        vertical-align: middle;\n",
       "    }\n",
       "\n",
       "    .dataframe tbody tr th {\n",
       "        vertical-align: top;\n",
       "    }\n",
       "\n",
       "    .dataframe thead th {\n",
       "        text-align: right;\n",
       "    }\n",
       "</style>\n",
       "<table border=\"1\" class=\"dataframe\">\n",
       "  <thead>\n",
       "    <tr style=\"text-align: right;\">\n",
       "      <th></th>\n",
       "      <th>Open</th>\n",
       "      <th>High</th>\n",
       "      <th>Low</th>\n",
       "      <th>Close</th>\n",
       "      <th>Volume</th>\n",
       "    </tr>\n",
       "    <tr>\n",
       "      <th>Date</th>\n",
       "      <th></th>\n",
       "      <th></th>\n",
       "      <th></th>\n",
       "      <th></th>\n",
       "      <th></th>\n",
       "    </tr>\n",
       "  </thead>\n",
       "  <tbody>\n",
       "    <tr>\n",
       "      <th>2019-01-02</th>\n",
       "      <td>13.595197</td>\n",
       "      <td>13.738303</td>\n",
       "      <td>13.455009</td>\n",
       "      <td>13.731002</td>\n",
       "      <td>8028529</td>\n",
       "    </tr>\n",
       "    <tr>\n",
       "      <th>2019-01-03</th>\n",
       "      <td>13.599576</td>\n",
       "      <td>13.836142</td>\n",
       "      <td>13.589354</td>\n",
       "      <td>13.617100</td>\n",
       "      <td>6583413</td>\n",
       "    </tr>\n",
       "    <tr>\n",
       "      <th>2019-01-04</th>\n",
       "      <td>13.720778</td>\n",
       "      <td>14.087309</td>\n",
       "      <td>13.666748</td>\n",
       "      <td>14.044960</td>\n",
       "      <td>11675578</td>\n",
       "    </tr>\n",
       "    <tr>\n",
       "      <th>2019-01-07</th>\n",
       "      <td>14.078548</td>\n",
       "      <td>14.150101</td>\n",
       "      <td>13.900394</td>\n",
       "      <td>13.982169</td>\n",
       "      <td>7530045</td>\n",
       "    </tr>\n",
       "    <tr>\n",
       "      <th>2019-01-08</th>\n",
       "      <td>14.027437</td>\n",
       "      <td>14.218734</td>\n",
       "      <td>13.988010</td>\n",
       "      <td>14.034739</td>\n",
       "      <td>7314687</td>\n",
       "    </tr>\n",
       "  </tbody>\n",
       "</table>\n",
       "</div>"
      ],
      "text/plain": [
       "                 Open       High        Low      Close    Volume\n",
       "Date                                                            \n",
       "2019-01-02  13.595197  13.738303  13.455009  13.731002   8028529\n",
       "2019-01-03  13.599576  13.836142  13.589354  13.617100   6583413\n",
       "2019-01-04  13.720778  14.087309  13.666748  14.044960  11675578\n",
       "2019-01-07  14.078548  14.150101  13.900394  13.982169   7530045\n",
       "2019-01-08  14.027437  14.218734  13.988010  14.034739   7314687"
      ]
     },
     "execution_count": 5,
     "metadata": {},
     "output_type": "execute_result"
    }
   ],
   "source": [
    "#Visualisation des maxima des deux dernières colonnes\n",
    "print(max(df_init['Stock Splits']))\n",
    "print(max(df_init['Dividends']))\n",
    "\n",
    "#Suppression des 2 dernières colonnes \n",
    "df_init = df_init.drop(columns =  [\"Dividends\",\"Stock Splits\"])\n",
    "df_init.head()"
   ]
  },
  {
   "cell_type": "raw",
   "id": "b05cb4b0-79cf-426c-80cc-6fe5d1a78212",
   "metadata": {},
   "source": [
    "\n"
   ]
  },
  {
   "cell_type": "markdown",
   "id": "9c672de4-0483-446f-9ecb-3b0ad8da6b42",
   "metadata": {},
   "source": [
    "## **II. Analyses descriptives et représentations graphiques**"
   ]
  },
  {
   "cell_type": "markdown",
   "id": "5ab201e9-3065-488a-9994-5649818fa03b",
   "metadata": {},
   "source": [
    "Nous allons d'abord regarder le graphique des prix de l'action Axa sur l'année 2019. Puis nous analyserons le volume échangé sur chaque mois, pour voir s'il n'existerait pas une corrélation entre le volume échangé et le prix de l'action. "
   ]
  },
  {
   "cell_type": "code",
   "execution_count": null,
   "id": "6564aabd-658f-45ca-a3bd-3f4ec045684e",
   "metadata": {},
   "outputs": [],
   "source": [
    "df2 = df_init.copy()\n",
    "new_df = df2[['Open']]\n",
    "new_df2 = df2[['Close']]\n",
    "plt.subplot(211)\n",
    "plt.plot(new_df)\n",
    "plt.title(\"Evolution des prix d'ouverture des actions de AXA\")\n",
    "plt.ylabel(\"Valeurs\")\n",
    "plt.xlabel(\"Temps\")\n",
    "\n",
    "plt.subplot(212)\n",
    "plt.plot(new_df2)\n",
    "plt.title(\"Evolution des prix de fermeture des actions de AXA\")\n",
    "plt.ylabel(\"Valeurs\")\n",
    "plt.xlabel(\"Temps\")"
   ]
  },
  {
   "cell_type": "markdown",
   "id": "7c5e5ce5-ac2a-4343-a10b-f04707fb63b1",
   "metadata": {
    "tags": []
   },
   "source": [
    "Nous voyons sur les graphiques ci-dessus que les prix croissent à un certains rythme et que qu'il n'y a pas d'incohérence dans nos données pour les prix d'ouverture. Nous n'avons pas de valeur abérante qui attirerait particulièrement l'attention. Nous concluons alors que nous pouvons utiliser cette base de donnée pour faire notre modèle.\n",
    "\n",
    "Par la suite (prochains grapfiques), nous avons aussi représenté un histogramme qui nous montre le nombre de transaction par mois de l'action AXA pour voir si il y a une évolution. On remarque alors que les volumes échangés pendant cette année 2019 restent relativement similaires pour chaque mois, nous ne voyons pas d'écart significatif au cours de cette période. Cela se confirme par le diagramme circulaire juste en-bas où on remarque que les parts correspondant à chaque mois ont quaisiment la même surface.\n",
    " "
   ]
  },
  {
   "cell_type": "markdown",
   "id": "ff2b26f3-ba28-4d8f-a15f-f7a47730e8ba",
   "metadata": {},
   "source": [
    " "
   ]
  },
  {
   "cell_type": "code",
   "execution_count": null,
   "id": "dd300765-82d1-4010-8ebd-9689cdb0cc33",
   "metadata": {},
   "outputs": [],
   "source": [
    "new_df = df2[['Volume']]\n",
    "new_df\n",
    "new_df = new_df.reset_index()\n",
    "new_df['Month'] = pd.to_datetime(new_df['Date']).dt.strftime('%B')\n",
    "df_grouped = new_df.groupby(new_df['Month'])\n",
    "\n",
    "\n",
    "#for key, item in df_grouped:\n",
    "#    print(key)\n",
    "#    print(df_grouped.get_group(key))\n",
    "\n",
    "\n",
    "sums = df_grouped.sum().reindex(['January', 'February', 'March', 'April', 'May', 'June', 'July', 'August', 'September', 'October', 'November', 'December'])\n",
    "sums\n",
    "sums.plot.bar()\n",
    "plt.show()\n",
    "\n",
    "sums.plot.pie(subplots=True)\n",
    "plt.show()\n",
    "\n",
    "df2 = df2.drop(columns =  [\"Close\"])\n",
    "df2.corr()\n"
   ]
  },
  {
   "cell_type": "markdown",
   "id": "2c1487be-5b74-4fef-9479-01be696985e4",
   "metadata": {},
   "source": [
    "En ce qui concerne les corrélations éventuelles entre les variables hors mis la variable ***Close*** qui est la variable que l'on cherche à expliquer dans ce travail, nous voyons une corrélation négative entre le prix d'ouverture et les volumes échangés. Nous pouvions nous attendre à ce résultat en pensant à la loi de l'offre et de la demande pour fixer un prix sur en marché. Donc, pas d'anomalie pour l'instant. Nous pouvons aussi constater que le prix de l'action à l'ouverture est fortement correlé positivement aux valeurs minimale et maximale que le prix atteind dans la journée."
   ]
  },
  {
   "cell_type": "code",
   "execution_count": null,
   "id": "03708454-b7bb-4184-a960-3a62ac5131e3",
   "metadata": {},
   "outputs": [],
   "source": [
    "#Matrice des correlations sans la variable à expliquer\n",
    "df2 = df2.drop(columns =  [\"Close\"]) #supression de la variable à expliquer dans la base clonée\n",
    "df2.corr() #affichage de la matrice des correlations"
   ]
  },
  {
   "cell_type": "markdown",
   "id": "ef5014ec-8437-49ff-9ef1-8d939735730c",
   "metadata": {},
   "source": [
    " "
   ]
  },
  {
   "cell_type": "raw",
   "id": "eed797df-dd12-452a-86ab-e3ec8eb7ce99",
   "metadata": {
    "tags": []
   },
   "source": []
  },
  {
   "cell_type": "markdown",
   "id": "2aaa462e-d62b-46c6-9e66-7c0b684e189e",
   "metadata": {},
   "source": [
    "## **III. Modélisation**"
   ]
  },
  {
   "cell_type": "markdown",
   "id": "61a6800d-f155-4038-8930-bb58a71fec45",
   "metadata": {},
   "source": [
    "A présent nous passons à la partie modélisation de notre travail. Rappellons que notre variable dépendante (à expliquer) est Close qui représente le prix de l'action en fin de journée."
   ]
  },
  {
   "cell_type": "markdown",
   "id": "e657dfca-a1e2-4806-b85c-e5d487d7b422",
   "metadata": {},
   "source": [
    "### **III.1 Algorithmes de Machine Learning**\n",
    "#### **a) Regression linéaire**"
   ]
  },
  {
   "cell_type": "markdown",
   "id": "86ab5907-5370-4d42-93a3-86c1c659e404",
   "metadata": {},
   "source": [
    "On commence par faire un modèle de prédiction en s'appuyant uniquement sur la valeur des prix d'ouverture de l'action pour prédire le prix de fermeture de la journée. Nous allons utiliser scikit-learn pour cette modélisation. "
   ]
  },
  {
   "cell_type": "code",
   "execution_count": null,
   "id": "544ed0d0-aebe-4965-9fcb-717633a5d0a5",
   "metadata": {},
   "outputs": [],
   "source": [
    "reg = LinearRegression()\n",
    "\n",
    "X= df2[['Open']]\n",
    "X = X[1:(len(X))]\n",
    "p = int((2/3)*len(X))\n",
    "X_train = X[:p]\n",
    "X_test = X[p:]\n",
    "reg = linear_model.LinearRegression()\n",
    "reg.fit(X_train, Y_train)\n",
    "print(reg.coef_)\n",
    "\n",
    "y_pred = reg.predict(X_test)\n",
    "plt.subplot(121)\n",
    "plt.plot(y_pred, color='green')\n",
    "plt.plot(Y_test, color='gray')\n",
    "plt.title(\"Prédiction du cours de l'action AXA\")\n",
    "\n",
    "plt.subplot(122)\n",
    "plt.scatter(X_test, Y_test, color=\"black\")\n",
    "plt.plot(X_test, y_pred, color=\"blue\", linewidth=3)\n",
    "plt.xticks(())\n",
    "plt.yticks(())\n",
    "plt.show()\n",
    "\n",
    "print(\"Mean squared error: %.2f\" % mean_squared_error(Y_test, y_pred))\n",
    "print(\"Coefficient of determination: %.2f\" % r2_score(Y_test, y_pred))"
   ]
  },
  {
   "cell_type": "markdown",
   "id": "b753ce7d-ca63-4b3d-8e68-50b65af27ab6",
   "metadata": {},
   "source": [
    "On remarque ici que les courbes vertes et grises se chevauchent assez régulièrement, ce qui montrent que la régression est possible.\n",
    "\n",
    "Mais nous voulons voir si nous ne pouvons pas aller plus loin dans cette modélisation en rajoutant une nouvelle variable qui prendrait en compte les prix de fermeture de la veille. Nous allons donc créer cette nouvelle colonne dans notre tableau pour faire la modélisation."
   ]
  },
  {
   "cell_type": "code",
   "execution_count": null,
   "id": "ee2e28fb-5632-4d71-a11c-e0e2130166df",
   "metadata": {},
   "outputs": [],
   "source": [
    "dec=df_init[\"Close\"].shift(1)\n",
    "df_init= df_init.assign(Close_veille=dec)\n",
    "df_init.head()"
   ]
  },
  {
   "cell_type": "markdown",
   "id": "fd16c3cb-b01a-4613-b097-cb50aa97a8bc",
   "metadata": {},
   "source": [
    "###### ***Modélisation en ajoutant la variable que l'on vient de créer***"
   ]
  },
  {
   "cell_type": "code",
   "execution_count": null,
   "id": "4423a48d-de0e-4f44-aa95-767f62004d60",
   "metadata": {},
   "outputs": [],
   "source": [
    "#On fait alors une régression avec commes variables explicatives les prix d'ouverture et de fermeture la veille\n",
    "X = df_init[['Open', 'Close_veille']]\n",
    "Y = df_init[['Close']]\n",
    "X = X[1:len(X)]\n",
    "Y = Y[1:len(Y)]\n",
    "\n",
    "\n",
    "\n",
    "#On définit l'échantillon des tests, pour cela il nous faut une proportion de prélèvement des données pour les tests; on la note p\n",
    "p = int((2/3)*len(X))\n",
    "X_train = X[:p]\n",
    "Y_train = Y[:p]\n",
    "X_test = X[p:]\n",
    "Y_test = Y[p:]\n",
    "\n",
    "#On passe désormais à l'entrainement et la prédiction \n",
    "regr = linear_model.LinearRegression()\n",
    "regr.fit(X_train, Y_train)\n",
    "print(regr.coef_)\n",
    "\n",
    "y_pred = regr.predict(X_test)\n",
    "plt.plot(y_pred, color='green')\n",
    "plt.plot(Y_test, color='gray')\n",
    "plt.title(\"Prédiction du cours de l'action AXA\")\n",
    "\n",
    "print(\"Mean squared error: %.2f\" % mean_squared_error(Y_test, y_pred))\n",
    "print(\"Coefficient of determination: %.2f\" % r2_score(Y_test, y_pred))"
   ]
  },
  {
   "cell_type": "code",
   "execution_count": null,
   "id": "3afc21f7-e159-4ae2-a48e-6918b6b52c95",
   "metadata": {},
   "outputs": [],
   "source": []
  },
  {
   "cell_type": "code",
   "execution_count": null,
   "id": "fb9e3f07-a229-4da6-9067-ea165abd577f",
   "metadata": {},
   "outputs": [],
   "source": []
  }
 ],
 "metadata": {
  "kernelspec": {
   "display_name": "Python 3 (ipykernel)",
   "language": "python",
   "name": "python3"
  },
  "language_info": {
   "codemirror_mode": {
    "name": "ipython",
    "version": 3
   },
   "file_extension": ".py",
   "mimetype": "text/x-python",
   "name": "python",
   "nbconvert_exporter": "python",
   "pygments_lexer": "ipython3",
   "version": "3.10.4"
  }
 },
 "nbformat": 4,
 "nbformat_minor": 5
}
