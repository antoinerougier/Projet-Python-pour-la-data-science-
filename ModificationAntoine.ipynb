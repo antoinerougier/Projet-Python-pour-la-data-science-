{
 "cells": [
  {
   "cell_type": "code",
   "execution_count": 1,
   "id": "400ec5ce-bc55-4763-8f1b-1c482471f4a1",
   "metadata": {},
   "outputs": [
    {
     "name": "stdout",
     "output_type": "stream",
     "text": [
      "Collecting yfinance\n",
      "  Downloading yfinance-0.1.90-py2.py3-none-any.whl (29 kB)\n",
      "Requirement already satisfied: requests>=2.26 in /opt/mamba/lib/python3.10/site-packages (from yfinance) (2.28.1)\n",
      "Requirement already satisfied: pandas>=1.3.0 in /opt/mamba/lib/python3.10/site-packages (from yfinance) (1.5.1)\n",
      "Collecting lxml>=4.9.1\n",
      "  Downloading lxml-4.9.2-cp310-cp310-manylinux_2_17_x86_64.manylinux2014_x86_64.manylinux_2_24_x86_64.whl (7.1 MB)\n",
      "\u001b[2K     \u001b[90m━━━━━━━━━━━━━━━━━━━━━━━━━━━━━━━━━━━━━━━━\u001b[0m \u001b[32m7.1/7.1 MB\u001b[0m \u001b[31m18.7 MB/s\u001b[0m eta \u001b[36m0:00:00\u001b[0m00:01\u001b[0m00:01\u001b[0m\n",
      "\u001b[?25hRequirement already satisfied: numpy>=1.16.5 in /opt/mamba/lib/python3.10/site-packages (from yfinance) (1.23.5)\n",
      "Collecting appdirs>=1.4.4\n",
      "  Downloading appdirs-1.4.4-py2.py3-none-any.whl (9.6 kB)\n",
      "Collecting multitasking>=0.0.7\n",
      "  Downloading multitasking-0.0.11-py3-none-any.whl (8.5 kB)\n",
      "Requirement already satisfied: python-dateutil>=2.8.1 in /opt/mamba/lib/python3.10/site-packages (from pandas>=1.3.0->yfinance) (2.8.2)\n",
      "Requirement already satisfied: pytz>=2020.1 in /opt/mamba/lib/python3.10/site-packages (from pandas>=1.3.0->yfinance) (2022.6)\n",
      "Requirement already satisfied: urllib3<1.27,>=1.21.1 in /opt/mamba/lib/python3.10/site-packages (from requests>=2.26->yfinance) (1.26.11)\n",
      "Requirement already satisfied: charset-normalizer<3,>=2 in /opt/mamba/lib/python3.10/site-packages (from requests>=2.26->yfinance) (2.1.1)\n",
      "Requirement already satisfied: certifi>=2017.4.17 in /opt/mamba/lib/python3.10/site-packages (from requests>=2.26->yfinance) (2022.9.24)\n",
      "Requirement already satisfied: idna<4,>=2.5 in /opt/mamba/lib/python3.10/site-packages (from requests>=2.26->yfinance) (3.4)\n",
      "Requirement already satisfied: six>=1.5 in /opt/mamba/lib/python3.10/site-packages (from python-dateutil>=2.8.1->pandas>=1.3.0->yfinance) (1.16.0)\n",
      "Installing collected packages: multitasking, appdirs, lxml, yfinance\n",
      "Successfully installed appdirs-1.4.4 lxml-4.9.2 multitasking-0.0.11 yfinance-0.1.90\n",
      "Requirement already satisfied: matplotlib in /opt/mamba/lib/python3.10/site-packages (3.6.2)\n",
      "Requirement already satisfied: packaging>=20.0 in /opt/mamba/lib/python3.10/site-packages (from matplotlib) (21.3)\n",
      "Requirement already satisfied: numpy>=1.19 in /opt/mamba/lib/python3.10/site-packages (from matplotlib) (1.23.5)\n",
      "Requirement already satisfied: pillow>=6.2.0 in /opt/mamba/lib/python3.10/site-packages (from matplotlib) (9.2.0)\n",
      "Requirement already satisfied: pyparsing>=2.2.1 in /opt/mamba/lib/python3.10/site-packages (from matplotlib) (3.0.9)\n",
      "Requirement already satisfied: contourpy>=1.0.1 in /opt/mamba/lib/python3.10/site-packages (from matplotlib) (1.0.6)\n",
      "Requirement already satisfied: kiwisolver>=1.0.1 in /opt/mamba/lib/python3.10/site-packages (from matplotlib) (1.4.4)\n",
      "Requirement already satisfied: cycler>=0.10 in /opt/mamba/lib/python3.10/site-packages (from matplotlib) (0.11.0)\n",
      "Requirement already satisfied: python-dateutil>=2.7 in /opt/mamba/lib/python3.10/site-packages (from matplotlib) (2.8.2)\n",
      "Requirement already satisfied: fonttools>=4.22.0 in /opt/mamba/lib/python3.10/site-packages (from matplotlib) (4.38.0)\n",
      "Requirement already satisfied: six>=1.5 in /opt/mamba/lib/python3.10/site-packages (from python-dateutil>=2.7->matplotlib) (1.16.0)\n",
      "                                Open       High        Low      Close  Volume  \\\n",
      "Date                                                                            \n",
      "2010-01-05 00:00:00-05:00  16.719999  17.020000  16.719999  17.020000     400   \n",
      "2010-01-07 00:00:00-05:00  17.180000  17.180000  17.045000  17.045000     236   \n",
      "2010-01-08 00:00:00-05:00  17.200001  17.200001  17.200001  17.200001     403   \n",
      "2010-01-22 00:00:00-05:00  15.900000  15.980000  15.900000  15.980000     300   \n",
      "2010-01-26 00:00:00-05:00  15.400000  15.400000  15.280000  15.280000     100   \n",
      "...                              ...        ...        ...        ...     ...   \n",
      "2018-02-28 00:00:00-05:00  25.945000  26.139999  25.945000  26.070000    3688   \n",
      "2018-05-31 00:00:00-04:00  27.600000  27.680000  26.459999  26.920000  457483   \n",
      "2018-06-01 00:00:00-04:00  26.920000  27.379999  26.799999  27.360001  310787   \n",
      "2018-12-27 00:00:00-05:00  19.379999  19.908001  18.200001  18.250000  334839   \n",
      "2018-12-28 00:00:00-05:00  19.000000  19.100000  18.430000  18.650000  408449   \n",
      "\n",
      "                           Dividends  Stock Splits  \n",
      "Date                                                \n",
      "2010-01-05 00:00:00-05:00          0             0  \n",
      "2010-01-07 00:00:00-05:00          0             0  \n",
      "2010-01-08 00:00:00-05:00          0             0  \n",
      "2010-01-22 00:00:00-05:00          0             0  \n",
      "2010-01-26 00:00:00-05:00          0             0  \n",
      "...                              ...           ...  \n",
      "2018-02-28 00:00:00-05:00          0             0  \n",
      "2018-05-31 00:00:00-04:00          0             0  \n",
      "2018-06-01 00:00:00-04:00          0             0  \n",
      "2018-12-27 00:00:00-05:00          0             0  \n",
      "2018-12-28 00:00:00-05:00          0             0  \n",
      "\n",
      "[1823 rows x 7 columns]\n"
     ]
    },
    {
     "data": {
      "text/plain": [
       "pandas.core.frame.DataFrame"
      ]
     },
     "execution_count": 1,
     "metadata": {},
     "output_type": "execute_result"
    }
   ],
   "source": [
    "#installation de yfinance et matplotolib pour la récupération des données sur yahoo finance\n",
    "!pip install yfinance\n",
    "!pip install matplotlib\n",
    "import yfinance as yahooFinance\n",
    "import datetime\n",
    "import math\n",
    "import matplotlib.pyplot as plt\n",
    "import seaborn as sns\n",
    "import numpy as np\n",
    "from sklearn.linear_model import LinearRegression\n",
    "\n",
    "\n",
    "#Importation du cours de l'action de l'entreprise d'assurance AXA\n",
    "\n",
    "start_Date = datetime.datetime(2010, 1, 1)\n",
    "end_Date = datetime.datetime(2022, 12, 9)\n",
    "\n",
    "GetAXAInfo = yahooFinance.Ticker(\"AXA\")\n",
    "\n",
    "print(GetAXAInfo.history(start=start_Date,end=end_Date))\n",
    "\n",
    "df=GetAXAInfo.history(start=start_Date,end=end_Date)\n",
    "\n",
    "type(df)"
   ]
  },
  {
   "cell_type": "code",
   "execution_count": 2,
   "id": "0ee4f2e4-5333-4252-bf6f-2b74961ae2f4",
   "metadata": {},
   "outputs": [
    {
     "data": {
      "text/plain": [
       "Index(['Open', 'High', 'Low', 'Close', 'Volume', 'Dividends', 'Stock Splits'], dtype='object')"
      ]
     },
     "execution_count": 2,
     "metadata": {},
     "output_type": "execute_result"
    }
   ],
   "source": [
    "df.columns"
   ]
  },
  {
   "cell_type": "code",
   "execution_count": 3,
   "id": "49f023bf-3a25-4a16-9757-702a584d7f4c",
   "metadata": {},
   "outputs": [
    {
     "data": {
      "text/plain": [
       "Date\n",
       "2010-01-05 00:00:00-05:00          NaN\n",
       "2010-01-07 00:00:00-05:00    17.020000\n",
       "2010-01-08 00:00:00-05:00    17.045000\n",
       "2010-01-22 00:00:00-05:00    17.200001\n",
       "2010-01-26 00:00:00-05:00    15.980000\n",
       "                               ...    \n",
       "2018-02-28 00:00:00-05:00    26.000000\n",
       "2018-05-31 00:00:00-04:00    26.070000\n",
       "2018-06-01 00:00:00-04:00    26.920000\n",
       "2018-12-27 00:00:00-05:00    27.360001\n",
       "2018-12-28 00:00:00-05:00    18.250000\n",
       "Name: Close, Length: 1823, dtype: float64"
      ]
     },
     "execution_count": 3,
     "metadata": {},
     "output_type": "execute_result"
    }
   ],
   "source": [
    "dec=df[\"Close\"].shift(1)\n",
    "dec"
   ]
  },
  {
   "cell_type": "code",
   "execution_count": 4,
   "id": "f43a31fd-79e1-4b48-acf4-4795ff403be0",
   "metadata": {},
   "outputs": [
    {
     "data": {
      "text/html": [
       "<div>\n",
       "<style scoped>\n",
       "    .dataframe tbody tr th:only-of-type {\n",
       "        vertical-align: middle;\n",
       "    }\n",
       "\n",
       "    .dataframe tbody tr th {\n",
       "        vertical-align: top;\n",
       "    }\n",
       "\n",
       "    .dataframe thead th {\n",
       "        text-align: right;\n",
       "    }\n",
       "</style>\n",
       "<table border=\"1\" class=\"dataframe\">\n",
       "  <thead>\n",
       "    <tr style=\"text-align: right;\">\n",
       "      <th></th>\n",
       "      <th>Open</th>\n",
       "      <th>High</th>\n",
       "      <th>Low</th>\n",
       "      <th>Close</th>\n",
       "      <th>Volume</th>\n",
       "      <th>Dividends</th>\n",
       "      <th>Stock Splits</th>\n",
       "      <th>close_veille</th>\n",
       "    </tr>\n",
       "    <tr>\n",
       "      <th>Date</th>\n",
       "      <th></th>\n",
       "      <th></th>\n",
       "      <th></th>\n",
       "      <th></th>\n",
       "      <th></th>\n",
       "      <th></th>\n",
       "      <th></th>\n",
       "      <th></th>\n",
       "    </tr>\n",
       "  </thead>\n",
       "  <tbody>\n",
       "    <tr>\n",
       "      <th>2010-01-05 00:00:00-05:00</th>\n",
       "      <td>16.719999</td>\n",
       "      <td>17.020000</td>\n",
       "      <td>16.719999</td>\n",
       "      <td>17.020000</td>\n",
       "      <td>400</td>\n",
       "      <td>0</td>\n",
       "      <td>0</td>\n",
       "      <td>NaN</td>\n",
       "    </tr>\n",
       "    <tr>\n",
       "      <th>2010-01-07 00:00:00-05:00</th>\n",
       "      <td>17.180000</td>\n",
       "      <td>17.180000</td>\n",
       "      <td>17.045000</td>\n",
       "      <td>17.045000</td>\n",
       "      <td>236</td>\n",
       "      <td>0</td>\n",
       "      <td>0</td>\n",
       "      <td>17.020000</td>\n",
       "    </tr>\n",
       "    <tr>\n",
       "      <th>2010-01-08 00:00:00-05:00</th>\n",
       "      <td>17.200001</td>\n",
       "      <td>17.200001</td>\n",
       "      <td>17.200001</td>\n",
       "      <td>17.200001</td>\n",
       "      <td>403</td>\n",
       "      <td>0</td>\n",
       "      <td>0</td>\n",
       "      <td>17.045000</td>\n",
       "    </tr>\n",
       "    <tr>\n",
       "      <th>2010-01-22 00:00:00-05:00</th>\n",
       "      <td>15.900000</td>\n",
       "      <td>15.980000</td>\n",
       "      <td>15.900000</td>\n",
       "      <td>15.980000</td>\n",
       "      <td>300</td>\n",
       "      <td>0</td>\n",
       "      <td>0</td>\n",
       "      <td>17.200001</td>\n",
       "    </tr>\n",
       "    <tr>\n",
       "      <th>2010-01-26 00:00:00-05:00</th>\n",
       "      <td>15.400000</td>\n",
       "      <td>15.400000</td>\n",
       "      <td>15.280000</td>\n",
       "      <td>15.280000</td>\n",
       "      <td>100</td>\n",
       "      <td>0</td>\n",
       "      <td>0</td>\n",
       "      <td>15.980000</td>\n",
       "    </tr>\n",
       "    <tr>\n",
       "      <th>...</th>\n",
       "      <td>...</td>\n",
       "      <td>...</td>\n",
       "      <td>...</td>\n",
       "      <td>...</td>\n",
       "      <td>...</td>\n",
       "      <td>...</td>\n",
       "      <td>...</td>\n",
       "      <td>...</td>\n",
       "    </tr>\n",
       "    <tr>\n",
       "      <th>2018-02-28 00:00:00-05:00</th>\n",
       "      <td>25.945000</td>\n",
       "      <td>26.139999</td>\n",
       "      <td>25.945000</td>\n",
       "      <td>26.070000</td>\n",
       "      <td>3688</td>\n",
       "      <td>0</td>\n",
       "      <td>0</td>\n",
       "      <td>26.000000</td>\n",
       "    </tr>\n",
       "    <tr>\n",
       "      <th>2018-05-31 00:00:00-04:00</th>\n",
       "      <td>27.600000</td>\n",
       "      <td>27.680000</td>\n",
       "      <td>26.459999</td>\n",
       "      <td>26.920000</td>\n",
       "      <td>457483</td>\n",
       "      <td>0</td>\n",
       "      <td>0</td>\n",
       "      <td>26.070000</td>\n",
       "    </tr>\n",
       "    <tr>\n",
       "      <th>2018-06-01 00:00:00-04:00</th>\n",
       "      <td>26.920000</td>\n",
       "      <td>27.379999</td>\n",
       "      <td>26.799999</td>\n",
       "      <td>27.360001</td>\n",
       "      <td>310787</td>\n",
       "      <td>0</td>\n",
       "      <td>0</td>\n",
       "      <td>26.920000</td>\n",
       "    </tr>\n",
       "    <tr>\n",
       "      <th>2018-12-27 00:00:00-05:00</th>\n",
       "      <td>19.379999</td>\n",
       "      <td>19.908001</td>\n",
       "      <td>18.200001</td>\n",
       "      <td>18.250000</td>\n",
       "      <td>334839</td>\n",
       "      <td>0</td>\n",
       "      <td>0</td>\n",
       "      <td>27.360001</td>\n",
       "    </tr>\n",
       "    <tr>\n",
       "      <th>2018-12-28 00:00:00-05:00</th>\n",
       "      <td>19.000000</td>\n",
       "      <td>19.100000</td>\n",
       "      <td>18.430000</td>\n",
       "      <td>18.650000</td>\n",
       "      <td>408449</td>\n",
       "      <td>0</td>\n",
       "      <td>0</td>\n",
       "      <td>18.250000</td>\n",
       "    </tr>\n",
       "  </tbody>\n",
       "</table>\n",
       "<p>1823 rows × 8 columns</p>\n",
       "</div>"
      ],
      "text/plain": [
       "                                Open       High        Low      Close  Volume  \\\n",
       "Date                                                                            \n",
       "2010-01-05 00:00:00-05:00  16.719999  17.020000  16.719999  17.020000     400   \n",
       "2010-01-07 00:00:00-05:00  17.180000  17.180000  17.045000  17.045000     236   \n",
       "2010-01-08 00:00:00-05:00  17.200001  17.200001  17.200001  17.200001     403   \n",
       "2010-01-22 00:00:00-05:00  15.900000  15.980000  15.900000  15.980000     300   \n",
       "2010-01-26 00:00:00-05:00  15.400000  15.400000  15.280000  15.280000     100   \n",
       "...                              ...        ...        ...        ...     ...   \n",
       "2018-02-28 00:00:00-05:00  25.945000  26.139999  25.945000  26.070000    3688   \n",
       "2018-05-31 00:00:00-04:00  27.600000  27.680000  26.459999  26.920000  457483   \n",
       "2018-06-01 00:00:00-04:00  26.920000  27.379999  26.799999  27.360001  310787   \n",
       "2018-12-27 00:00:00-05:00  19.379999  19.908001  18.200001  18.250000  334839   \n",
       "2018-12-28 00:00:00-05:00  19.000000  19.100000  18.430000  18.650000  408449   \n",
       "\n",
       "                           Dividends  Stock Splits  close_veille  \n",
       "Date                                                              \n",
       "2010-01-05 00:00:00-05:00          0             0           NaN  \n",
       "2010-01-07 00:00:00-05:00          0             0     17.020000  \n",
       "2010-01-08 00:00:00-05:00          0             0     17.045000  \n",
       "2010-01-22 00:00:00-05:00          0             0     17.200001  \n",
       "2010-01-26 00:00:00-05:00          0             0     15.980000  \n",
       "...                              ...           ...           ...  \n",
       "2018-02-28 00:00:00-05:00          0             0     26.000000  \n",
       "2018-05-31 00:00:00-04:00          0             0     26.070000  \n",
       "2018-06-01 00:00:00-04:00          0             0     26.920000  \n",
       "2018-12-27 00:00:00-05:00          0             0     27.360001  \n",
       "2018-12-28 00:00:00-05:00          0             0     18.250000  \n",
       "\n",
       "[1823 rows x 8 columns]"
      ]
     },
     "execution_count": 4,
     "metadata": {},
     "output_type": "execute_result"
    }
   ],
   "source": [
    "df= df.assign(close_veille=dec)\n",
    "df"
   ]
  },
  {
   "cell_type": "code",
   "execution_count": 22,
   "id": "7467573b-2db5-4f85-80b4-e7e306ccd9db",
   "metadata": {},
   "outputs": [
    {
     "data": {
      "text/html": [
       "<div>\n",
       "<style scoped>\n",
       "    .dataframe tbody tr th:only-of-type {\n",
       "        vertical-align: middle;\n",
       "    }\n",
       "\n",
       "    .dataframe tbody tr th {\n",
       "        vertical-align: top;\n",
       "    }\n",
       "\n",
       "    .dataframe thead th {\n",
       "        text-align: right;\n",
       "    }\n",
       "</style>\n",
       "<table border=\"1\" class=\"dataframe\">\n",
       "  <thead>\n",
       "    <tr style=\"text-align: right;\">\n",
       "      <th></th>\n",
       "      <th>Open</th>\n",
       "      <th>High</th>\n",
       "      <th>Low</th>\n",
       "      <th>Close</th>\n",
       "      <th>Volume</th>\n",
       "      <th>close_veille</th>\n",
       "    </tr>\n",
       "    <tr>\n",
       "      <th>Date</th>\n",
       "      <th></th>\n",
       "      <th></th>\n",
       "      <th></th>\n",
       "      <th></th>\n",
       "      <th></th>\n",
       "      <th></th>\n",
       "    </tr>\n",
       "  </thead>\n",
       "  <tbody>\n",
       "    <tr>\n",
       "      <th>2010-01-05 00:00:00-05:00</th>\n",
       "      <td>16.719999</td>\n",
       "      <td>17.020000</td>\n",
       "      <td>16.719999</td>\n",
       "      <td>17.020000</td>\n",
       "      <td>400</td>\n",
       "      <td>NaN</td>\n",
       "    </tr>\n",
       "    <tr>\n",
       "      <th>2010-01-07 00:00:00-05:00</th>\n",
       "      <td>17.180000</td>\n",
       "      <td>17.180000</td>\n",
       "      <td>17.045000</td>\n",
       "      <td>17.045000</td>\n",
       "      <td>236</td>\n",
       "      <td>17.020000</td>\n",
       "    </tr>\n",
       "    <tr>\n",
       "      <th>2010-01-08 00:00:00-05:00</th>\n",
       "      <td>17.200001</td>\n",
       "      <td>17.200001</td>\n",
       "      <td>17.200001</td>\n",
       "      <td>17.200001</td>\n",
       "      <td>403</td>\n",
       "      <td>17.045000</td>\n",
       "    </tr>\n",
       "    <tr>\n",
       "      <th>2010-01-22 00:00:00-05:00</th>\n",
       "      <td>15.900000</td>\n",
       "      <td>15.980000</td>\n",
       "      <td>15.900000</td>\n",
       "      <td>15.980000</td>\n",
       "      <td>300</td>\n",
       "      <td>17.200001</td>\n",
       "    </tr>\n",
       "    <tr>\n",
       "      <th>2010-01-26 00:00:00-05:00</th>\n",
       "      <td>15.400000</td>\n",
       "      <td>15.400000</td>\n",
       "      <td>15.280000</td>\n",
       "      <td>15.280000</td>\n",
       "      <td>100</td>\n",
       "      <td>15.980000</td>\n",
       "    </tr>\n",
       "    <tr>\n",
       "      <th>...</th>\n",
       "      <td>...</td>\n",
       "      <td>...</td>\n",
       "      <td>...</td>\n",
       "      <td>...</td>\n",
       "      <td>...</td>\n",
       "      <td>...</td>\n",
       "    </tr>\n",
       "    <tr>\n",
       "      <th>2018-02-28 00:00:00-05:00</th>\n",
       "      <td>25.945000</td>\n",
       "      <td>26.139999</td>\n",
       "      <td>25.945000</td>\n",
       "      <td>26.070000</td>\n",
       "      <td>3688</td>\n",
       "      <td>26.000000</td>\n",
       "    </tr>\n",
       "    <tr>\n",
       "      <th>2018-05-31 00:00:00-04:00</th>\n",
       "      <td>27.600000</td>\n",
       "      <td>27.680000</td>\n",
       "      <td>26.459999</td>\n",
       "      <td>26.920000</td>\n",
       "      <td>457483</td>\n",
       "      <td>26.070000</td>\n",
       "    </tr>\n",
       "    <tr>\n",
       "      <th>2018-06-01 00:00:00-04:00</th>\n",
       "      <td>26.920000</td>\n",
       "      <td>27.379999</td>\n",
       "      <td>26.799999</td>\n",
       "      <td>27.360001</td>\n",
       "      <td>310787</td>\n",
       "      <td>26.920000</td>\n",
       "    </tr>\n",
       "    <tr>\n",
       "      <th>2018-12-27 00:00:00-05:00</th>\n",
       "      <td>19.379999</td>\n",
       "      <td>19.908001</td>\n",
       "      <td>18.200001</td>\n",
       "      <td>18.250000</td>\n",
       "      <td>334839</td>\n",
       "      <td>27.360001</td>\n",
       "    </tr>\n",
       "    <tr>\n",
       "      <th>2018-12-28 00:00:00-05:00</th>\n",
       "      <td>19.000000</td>\n",
       "      <td>19.100000</td>\n",
       "      <td>18.430000</td>\n",
       "      <td>18.650000</td>\n",
       "      <td>408449</td>\n",
       "      <td>18.250000</td>\n",
       "    </tr>\n",
       "  </tbody>\n",
       "</table>\n",
       "<p>1823 rows × 6 columns</p>\n",
       "</div>"
      ],
      "text/plain": [
       "                                Open       High        Low      Close  Volume  \\\n",
       "Date                                                                            \n",
       "2010-01-05 00:00:00-05:00  16.719999  17.020000  16.719999  17.020000     400   \n",
       "2010-01-07 00:00:00-05:00  17.180000  17.180000  17.045000  17.045000     236   \n",
       "2010-01-08 00:00:00-05:00  17.200001  17.200001  17.200001  17.200001     403   \n",
       "2010-01-22 00:00:00-05:00  15.900000  15.980000  15.900000  15.980000     300   \n",
       "2010-01-26 00:00:00-05:00  15.400000  15.400000  15.280000  15.280000     100   \n",
       "...                              ...        ...        ...        ...     ...   \n",
       "2018-02-28 00:00:00-05:00  25.945000  26.139999  25.945000  26.070000    3688   \n",
       "2018-05-31 00:00:00-04:00  27.600000  27.680000  26.459999  26.920000  457483   \n",
       "2018-06-01 00:00:00-04:00  26.920000  27.379999  26.799999  27.360001  310787   \n",
       "2018-12-27 00:00:00-05:00  19.379999  19.908001  18.200001  18.250000  334839   \n",
       "2018-12-28 00:00:00-05:00  19.000000  19.100000  18.430000  18.650000  408449   \n",
       "\n",
       "                           close_veille  \n",
       "Date                                     \n",
       "2010-01-05 00:00:00-05:00           NaN  \n",
       "2010-01-07 00:00:00-05:00     17.020000  \n",
       "2010-01-08 00:00:00-05:00     17.045000  \n",
       "2010-01-22 00:00:00-05:00     17.200001  \n",
       "2010-01-26 00:00:00-05:00     15.980000  \n",
       "...                                 ...  \n",
       "2018-02-28 00:00:00-05:00     26.000000  \n",
       "2018-05-31 00:00:00-04:00     26.070000  \n",
       "2018-06-01 00:00:00-04:00     26.920000  \n",
       "2018-12-27 00:00:00-05:00     27.360001  \n",
       "2018-12-28 00:00:00-05:00     18.250000  \n",
       "\n",
       "[1823 rows x 6 columns]"
      ]
     },
     "execution_count": 22,
     "metadata": {},
     "output_type": "execute_result"
    }
   ],
   "source": [
    "#On décide d'enlever les colonnes dividends et stock split\n",
    "df = df.drop(columns = [\"Dividends\", \"Stock Splits\"])\n",
    "df"
   ]
  },
  {
   "cell_type": "code",
   "execution_count": 5,
   "id": "954aa922-9545-47b7-b679-3c47d47eaa4b",
   "metadata": {},
   "outputs": [
    {
     "data": {
      "text/plain": [
       "0.004999999888241291"
      ]
     },
     "execution_count": 5,
     "metadata": {},
     "output_type": "execute_result"
    },
    {
     "data": {
      "image/png": "[encoded data removed]",
      "text/plain": [
       "<Figure size 640x480 with 1 Axes>"
      ]
     },
     "metadata": {},
     "output_type": "display_data"
    }
   ],
   "source": [
    "#On fait un tableau pour voir l'évolution des prix au cours du temps\n",
    "df2 = df.copy()\n",
    "new_df = df2[['Open']]\n",
    "plt.plot(new_df)\n",
    "plt.title(\"Evolution des prix des actions de AXA\")\n",
    "plt.ylabel(\"Valeurs\")\n",
    "plt.xlabel(\"Temps\")\n",
    "min(new_df['Open'])"
   ]
  },
  {
   "cell_type": "code",
   "execution_count": 40,
   "id": "2c2bf346-b182-4bf1-ba75-591dca71fdaa",
   "metadata": {},
   "outputs": [
    {
     "data": {
      "image/png": "[encoded data removed]",
      "text/plain": [
       "<Figure size 640x480 with 1 Axes>"
      ]
     },
     "metadata": {},
     "output_type": "display_data"
    },
    {
     "data": {
      "image/png": "[encoded data removed]",
      "text/plain": [
       "<Figure size 640x480 with 1 Axes>"
      ]
     },
     "metadata": {},
     "output_type": "display_data"
    }
   ],
   "source": [
    "#On veut aussi avoir un histogramme qui nous montre le nombre de transaction par année de l'action AXA \n",
    "new_df = df2[['Volume']]\n",
    "new_df\n",
    "\n",
    "new_df = new_df.reset_index()\n",
    "new_df[\"Date\"] = new_df[\"Date\"].apply(lambda x: x.strftime(\"%Y\"))\n",
    "\n",
    "df_grouped = new_df.groupby(new_df['Date'])\n",
    "\n",
    "#for key, item in df_grouped:\n",
    "#    print(key)\n",
    "#    print(df_grouped.get_group(key))\n",
    "\n",
    "sums = df_grouped.sum()\n",
    "\n",
    "sums.plot.bar()\n",
    "plt.show()\n",
    "\n",
    "sums.plot.pie(subplots=True)\n",
    "plt.show()"
   ]
  },
  {
   "cell_type": "code",
   "execution_count": null,
   "id": "8ff41393-620a-460f-8e12-a1cc98815345",
   "metadata": {},
   "outputs": [],
   "source": [
    "#Donc faire une analyse de ces données "
   ]
  },
  {
   "cell_type": "code",
   "execution_count": 26,
   "id": "dac2a6a1-fcdd-4934-9ef2-21ebd43eba18",
   "metadata": {
    "tags": []
   },
   "outputs": [
    {
     "name": "stdout",
     "output_type": "stream",
     "text": [
      "[[0.95455878 0.04068387]]\n",
      "Mean squared error: 0.03\n",
      "Coefficient of determination: 1.00\n"
     ]
    },
    {
     "data": {
      "image/png": "[encoded data removed]",
      "text/plain": [
       "<Figure size 640x480 with 1 Axes>"
      ]
     },
     "metadata": {},
     "output_type": "display_data"
    }
   ],
   "source": [
    "#Lobjectif ici est donc de faire une régression linéaire pour prédire la valeur des prix des actifs à la fin de la journée\n",
    "#On utilise les prix d'ouverture et les prix de fermeture de la veille\n",
    "#on utilise alors le programme d'une seule régression ic \n",
    "new_df = df.copy()\n",
    "new_df = new_df.reset_index()\n",
    "new_df[\"Date\"] = new_df[\"Date\"].dt.strftime('%Y-%m-%d')\n",
    "new_df = new_df.set_index('Date')\n",
    "\n",
    "\n",
    "\n",
    "X = df2[['Open', 'close_veille']]\n",
    "Y = df2[['Close']]\n",
    "X = X[1:len(X)]\n",
    "Y = Y[1:len(Y)]\n",
    "\n",
    "#On définit les tests, pour cela il nous faut une valeur ou arreter les données on la note p\n",
    "p = int((2/3)*len(X))\n",
    "X_train = X[:p]\n",
    "Y_train = Y[:p]\n",
    "X_test = X[p:]\n",
    "Y_test = Y[p:]\n",
    "\n",
    "#On passe désormais à la régression linéaire \n",
    "from sklearn import linear_model\n",
    "regr = linear_model.LinearRegression()\n",
    "regr.fit(X_train, Y_train)\n",
    "print(regr.coef_)\n",
    "\n",
    "y_pred = regr.predict(X_test)\n",
    "plt.plot(y_pred, color='green')\n",
    "plt.plot(Y_test, color='gray')\n",
    "plt.title(\"Prédiction du cours de l'action AXA\")\n",
    "\n",
    "from sklearn.metrics import mean_squared_error, r2_score\n",
    "print(\"Mean squared error: %.2f\" % mean_squared_error(Y_test, y_pred))\n",
    "print(\"Coefficient of determination: %.2f\" % r2_score(Y_test, y_pred))\n",
    "\n"
   ]
  },
  {
   "cell_type": "code",
   "execution_count": 8,
   "id": "a85d19d5-14b1-44eb-8264-b9efe9a2b52c",
   "metadata": {},
   "outputs": [
    {
     "name": "stdout",
     "output_type": "stream",
     "text": [
      "[[0.98647407]]\n"
     ]
    },
    {
     "data": {
      "image/png": "[encoded data removed]",
      "text/plain": [
       "<Figure size 640x480 with 1 Axes>"
      ]
     },
     "metadata": {},
     "output_type": "display_data"
    }
   ],
   "source": [
    "X= df2[['Open']]\n",
    "X = X[1:(len(X))]\n",
    "p = int((2/3)*len(X))\n",
    "X_train = X[:p]\n",
    "X_test = X[p:]\n",
    "regr = linear_model.LinearRegression()\n",
    "regr.fit(X_train, Y_train)\n",
    "print(regr.coef_)\n",
    "\n",
    "y_pred = regr.predict(X_test)\n",
    "#plt.plot(y_pred, color='green')\n",
    "#plt.plot(Y_test, color='gray')\n",
    "#plt.title(\"Prédiction du cours de l'action AXA\")\n",
    "\n",
    "plt.scatter(X_test, Y_test, color=\"black\")\n",
    "plt.plot(X_test, y_pred, color=\"blue\", linewidth=3)\n",
    "plt.xticks(())\n",
    "plt.yticks(())\n",
    "plt.show()\n",
    "#Conclure que cela doit être bizarre = meilleure régression avec une seule variable explicative \n",
    "#Le prix à l'ouverture explique quasiment le prix de fermeture = coefficient égal à 1"
   ]
  },
  {
   "cell_type": "code",
   "execution_count": 24,
   "id": "f54e6aee-4d49-41b2-a0fa-ee154f97683b",
   "metadata": {
    "tags": []
   },
   "outputs": [
    {
     "data": {
      "text/html": [
       "<div>\n",
       "<style scoped>\n",
       "    .dataframe tbody tr th:only-of-type {\n",
       "        vertical-align: middle;\n",
       "    }\n",
       "\n",
       "    .dataframe tbody tr th {\n",
       "        vertical-align: top;\n",
       "    }\n",
       "\n",
       "    .dataframe thead th {\n",
       "        text-align: right;\n",
       "    }\n",
       "</style>\n",
       "<table border=\"1\" class=\"dataframe\">\n",
       "  <thead>\n",
       "    <tr style=\"text-align: right;\">\n",
       "      <th></th>\n",
       "      <th>Open</th>\n",
       "      <th>High</th>\n",
       "      <th>Low</th>\n",
       "      <th>Close</th>\n",
       "      <th>Volume</th>\n",
       "      <th>Dividends</th>\n",
       "      <th>Stock Splits</th>\n",
       "      <th>close_veille</th>\n",
       "      <th>rdt_close</th>\n",
       "    </tr>\n",
       "    <tr>\n",
       "      <th>Date</th>\n",
       "      <th></th>\n",
       "      <th></th>\n",
       "      <th></th>\n",
       "      <th></th>\n",
       "      <th></th>\n",
       "      <th></th>\n",
       "      <th></th>\n",
       "      <th></th>\n",
       "      <th></th>\n",
       "    </tr>\n",
       "  </thead>\n",
       "  <tbody>\n",
       "    <tr>\n",
       "      <th>2010-01-05 00:00:00-05:00</th>\n",
       "      <td>16.719999</td>\n",
       "      <td>17.020000</td>\n",
       "      <td>16.719999</td>\n",
       "      <td>17.020000</td>\n",
       "      <td>400</td>\n",
       "      <td>0</td>\n",
       "      <td>0</td>\n",
       "      <td>NaN</td>\n",
       "      <td>NaN</td>\n",
       "    </tr>\n",
       "    <tr>\n",
       "      <th>2010-01-07 00:00:00-05:00</th>\n",
       "      <td>17.180000</td>\n",
       "      <td>17.180000</td>\n",
       "      <td>17.045000</td>\n",
       "      <td>17.045000</td>\n",
       "      <td>236</td>\n",
       "      <td>0</td>\n",
       "      <td>0</td>\n",
       "      <td>17.020000</td>\n",
       "      <td>0.001469</td>\n",
       "    </tr>\n",
       "    <tr>\n",
       "      <th>2010-01-08 00:00:00-05:00</th>\n",
       "      <td>17.200001</td>\n",
       "      <td>17.200001</td>\n",
       "      <td>17.200001</td>\n",
       "      <td>17.200001</td>\n",
       "      <td>403</td>\n",
       "      <td>0</td>\n",
       "      <td>0</td>\n",
       "      <td>17.045000</td>\n",
       "      <td>0.009094</td>\n",
       "    </tr>\n",
       "    <tr>\n",
       "      <th>2010-01-22 00:00:00-05:00</th>\n",
       "      <td>15.900000</td>\n",
       "      <td>15.980000</td>\n",
       "      <td>15.900000</td>\n",
       "      <td>15.980000</td>\n",
       "      <td>300</td>\n",
       "      <td>0</td>\n",
       "      <td>0</td>\n",
       "      <td>17.200001</td>\n",
       "      <td>-0.070930</td>\n",
       "    </tr>\n",
       "    <tr>\n",
       "      <th>2010-01-26 00:00:00-05:00</th>\n",
       "      <td>15.400000</td>\n",
       "      <td>15.400000</td>\n",
       "      <td>15.280000</td>\n",
       "      <td>15.280000</td>\n",
       "      <td>100</td>\n",
       "      <td>0</td>\n",
       "      <td>0</td>\n",
       "      <td>15.980000</td>\n",
       "      <td>-0.043805</td>\n",
       "    </tr>\n",
       "    <tr>\n",
       "      <th>...</th>\n",
       "      <td>...</td>\n",
       "      <td>...</td>\n",
       "      <td>...</td>\n",
       "      <td>...</td>\n",
       "      <td>...</td>\n",
       "      <td>...</td>\n",
       "      <td>...</td>\n",
       "      <td>...</td>\n",
       "      <td>...</td>\n",
       "    </tr>\n",
       "    <tr>\n",
       "      <th>2018-02-28 00:00:00-05:00</th>\n",
       "      <td>25.945000</td>\n",
       "      <td>26.139999</td>\n",
       "      <td>25.945000</td>\n",
       "      <td>26.070000</td>\n",
       "      <td>3688</td>\n",
       "      <td>0</td>\n",
       "      <td>0</td>\n",
       "      <td>26.000000</td>\n",
       "      <td>0.002692</td>\n",
       "    </tr>\n",
       "    <tr>\n",
       "      <th>2018-05-31 00:00:00-04:00</th>\n",
       "      <td>27.600000</td>\n",
       "      <td>27.680000</td>\n",
       "      <td>26.459999</td>\n",
       "      <td>26.920000</td>\n",
       "      <td>457483</td>\n",
       "      <td>0</td>\n",
       "      <td>0</td>\n",
       "      <td>26.070000</td>\n",
       "      <td>0.032605</td>\n",
       "    </tr>\n",
       "    <tr>\n",
       "      <th>2018-06-01 00:00:00-04:00</th>\n",
       "      <td>26.920000</td>\n",
       "      <td>27.379999</td>\n",
       "      <td>26.799999</td>\n",
       "      <td>27.360001</td>\n",
       "      <td>310787</td>\n",
       "      <td>0</td>\n",
       "      <td>0</td>\n",
       "      <td>26.920000</td>\n",
       "      <td>0.016345</td>\n",
       "    </tr>\n",
       "    <tr>\n",
       "      <th>2018-12-27 00:00:00-05:00</th>\n",
       "      <td>19.379999</td>\n",
       "      <td>19.908001</td>\n",
       "      <td>18.200001</td>\n",
       "      <td>18.250000</td>\n",
       "      <td>334839</td>\n",
       "      <td>0</td>\n",
       "      <td>0</td>\n",
       "      <td>27.360001</td>\n",
       "      <td>-0.332968</td>\n",
       "    </tr>\n",
       "    <tr>\n",
       "      <th>2018-12-28 00:00:00-05:00</th>\n",
       "      <td>19.000000</td>\n",
       "      <td>19.100000</td>\n",
       "      <td>18.430000</td>\n",
       "      <td>18.650000</td>\n",
       "      <td>408449</td>\n",
       "      <td>0</td>\n",
       "      <td>0</td>\n",
       "      <td>18.250000</td>\n",
       "      <td>0.021918</td>\n",
       "    </tr>\n",
       "  </tbody>\n",
       "</table>\n",
       "<p>1823 rows × 9 columns</p>\n",
       "</div>"
      ],
      "text/plain": [
       "                                Open       High        Low      Close  Volume  \\\n",
       "Date                                                                            \n",
       "2010-01-05 00:00:00-05:00  16.719999  17.020000  16.719999  17.020000     400   \n",
       "2010-01-07 00:00:00-05:00  17.180000  17.180000  17.045000  17.045000     236   \n",
       "2010-01-08 00:00:00-05:00  17.200001  17.200001  17.200001  17.200001     403   \n",
       "2010-01-22 00:00:00-05:00  15.900000  15.980000  15.900000  15.980000     300   \n",
       "2010-01-26 00:00:00-05:00  15.400000  15.400000  15.280000  15.280000     100   \n",
       "...                              ...        ...        ...        ...     ...   \n",
       "2018-02-28 00:00:00-05:00  25.945000  26.139999  25.945000  26.070000    3688   \n",
       "2018-05-31 00:00:00-04:00  27.600000  27.680000  26.459999  26.920000  457483   \n",
       "2018-06-01 00:00:00-04:00  26.920000  27.379999  26.799999  27.360001  310787   \n",
       "2018-12-27 00:00:00-05:00  19.379999  19.908001  18.200001  18.250000  334839   \n",
       "2018-12-28 00:00:00-05:00  19.000000  19.100000  18.430000  18.650000  408449   \n",
       "\n",
       "                           Dividends  Stock Splits  close_veille  rdt_close  \n",
       "Date                                                                         \n",
       "2010-01-05 00:00:00-05:00          0             0           NaN        NaN  \n",
       "2010-01-07 00:00:00-05:00          0             0     17.020000   0.001469  \n",
       "2010-01-08 00:00:00-05:00          0             0     17.045000   0.009094  \n",
       "2010-01-22 00:00:00-05:00          0             0     17.200001  -0.070930  \n",
       "2010-01-26 00:00:00-05:00          0             0     15.980000  -0.043805  \n",
       "...                              ...           ...           ...        ...  \n",
       "2018-02-28 00:00:00-05:00          0             0     26.000000   0.002692  \n",
       "2018-05-31 00:00:00-04:00          0             0     26.070000   0.032605  \n",
       "2018-06-01 00:00:00-04:00          0             0     26.920000   0.016345  \n",
       "2018-12-27 00:00:00-05:00          0             0     27.360001  -0.332968  \n",
       "2018-12-28 00:00:00-05:00          0             0     18.250000   0.021918  \n",
       "\n",
       "[1823 rows x 9 columns]"
      ]
     },
     "execution_count": 24,
     "metadata": {},
     "output_type": "execute_result"
    }
   ],
   "source": [
    "rdt1=df[\"Close\"].pct_change() #on ne peut pas calculer les logrendements car on a des rendements négatifs\n",
    "df=df.assign(rdt_close=rdt1)\n",
    "df"
   ]
  },
  {
   "cell_type": "code",
   "execution_count": 25,
   "id": "a9fac7b6-d2ad-434e-bf2b-216201463da4",
   "metadata": {},
   "outputs": [
    {
     "data": {
      "text/html": [
       "<div>\n",
       "<style scoped>\n",
       "    .dataframe tbody tr th:only-of-type {\n",
       "        vertical-align: middle;\n",
       "    }\n",
       "\n",
       "    .dataframe tbody tr th {\n",
       "        vertical-align: top;\n",
       "    }\n",
       "\n",
       "    .dataframe thead th {\n",
       "        text-align: right;\n",
       "    }\n",
       "</style>\n",
       "<table border=\"1\" class=\"dataframe\">\n",
       "  <thead>\n",
       "    <tr style=\"text-align: right;\">\n",
       "      <th></th>\n",
       "      <th>Open</th>\n",
       "      <th>High</th>\n",
       "      <th>Low</th>\n",
       "      <th>Close</th>\n",
       "      <th>Volume</th>\n",
       "      <th>Dividends</th>\n",
       "      <th>Stock Splits</th>\n",
       "      <th>close_veille</th>\n",
       "      <th>rdt_close</th>\n",
       "      <th>rdt_open</th>\n",
       "    </tr>\n",
       "    <tr>\n",
       "      <th>Date</th>\n",
       "      <th></th>\n",
       "      <th></th>\n",
       "      <th></th>\n",
       "      <th></th>\n",
       "      <th></th>\n",
       "      <th></th>\n",
       "      <th></th>\n",
       "      <th></th>\n",
       "      <th></th>\n",
       "      <th></th>\n",
       "    </tr>\n",
       "  </thead>\n",
       "  <tbody>\n",
       "    <tr>\n",
       "      <th>2010-01-05 00:00:00-05:00</th>\n",
       "      <td>16.719999</td>\n",
       "      <td>17.020000</td>\n",
       "      <td>16.719999</td>\n",
       "      <td>17.020000</td>\n",
       "      <td>400</td>\n",
       "      <td>0</td>\n",
       "      <td>0</td>\n",
       "      <td>NaN</td>\n",
       "      <td>NaN</td>\n",
       "      <td>NaN</td>\n",
       "    </tr>\n",
       "    <tr>\n",
       "      <th>2010-01-07 00:00:00-05:00</th>\n",
       "      <td>17.180000</td>\n",
       "      <td>17.180000</td>\n",
       "      <td>17.045000</td>\n",
       "      <td>17.045000</td>\n",
       "      <td>236</td>\n",
       "      <td>0</td>\n",
       "      <td>0</td>\n",
       "      <td>17.020000</td>\n",
       "      <td>0.001469</td>\n",
       "      <td>0.027512</td>\n",
       "    </tr>\n",
       "    <tr>\n",
       "      <th>2010-01-08 00:00:00-05:00</th>\n",
       "      <td>17.200001</td>\n",
       "      <td>17.200001</td>\n",
       "      <td>17.200001</td>\n",
       "      <td>17.200001</td>\n",
       "      <td>403</td>\n",
       "      <td>0</td>\n",
       "      <td>0</td>\n",
       "      <td>17.045000</td>\n",
       "      <td>0.009094</td>\n",
       "      <td>0.001164</td>\n",
       "    </tr>\n",
       "    <tr>\n",
       "      <th>2010-01-22 00:00:00-05:00</th>\n",
       "      <td>15.900000</td>\n",
       "      <td>15.980000</td>\n",
       "      <td>15.900000</td>\n",
       "      <td>15.980000</td>\n",
       "      <td>300</td>\n",
       "      <td>0</td>\n",
       "      <td>0</td>\n",
       "      <td>17.200001</td>\n",
       "      <td>-0.070930</td>\n",
       "      <td>-0.075581</td>\n",
       "    </tr>\n",
       "    <tr>\n",
       "      <th>2010-01-26 00:00:00-05:00</th>\n",
       "      <td>15.400000</td>\n",
       "      <td>15.400000</td>\n",
       "      <td>15.280000</td>\n",
       "      <td>15.280000</td>\n",
       "      <td>100</td>\n",
       "      <td>0</td>\n",
       "      <td>0</td>\n",
       "      <td>15.980000</td>\n",
       "      <td>-0.043805</td>\n",
       "      <td>-0.031447</td>\n",
       "    </tr>\n",
       "    <tr>\n",
       "      <th>...</th>\n",
       "      <td>...</td>\n",
       "      <td>...</td>\n",
       "      <td>...</td>\n",
       "      <td>...</td>\n",
       "      <td>...</td>\n",
       "      <td>...</td>\n",
       "      <td>...</td>\n",
       "      <td>...</td>\n",
       "      <td>...</td>\n",
       "      <td>...</td>\n",
       "    </tr>\n",
       "    <tr>\n",
       "      <th>2018-02-28 00:00:00-05:00</th>\n",
       "      <td>25.945000</td>\n",
       "      <td>26.139999</td>\n",
       "      <td>25.945000</td>\n",
       "      <td>26.070000</td>\n",
       "      <td>3688</td>\n",
       "      <td>0</td>\n",
       "      <td>0</td>\n",
       "      <td>26.000000</td>\n",
       "      <td>0.002692</td>\n",
       "      <td>0.002705</td>\n",
       "    </tr>\n",
       "    <tr>\n",
       "      <th>2018-05-31 00:00:00-04:00</th>\n",
       "      <td>27.600000</td>\n",
       "      <td>27.680000</td>\n",
       "      <td>26.459999</td>\n",
       "      <td>26.920000</td>\n",
       "      <td>457483</td>\n",
       "      <td>0</td>\n",
       "      <td>0</td>\n",
       "      <td>26.070000</td>\n",
       "      <td>0.032605</td>\n",
       "      <td>0.063789</td>\n",
       "    </tr>\n",
       "    <tr>\n",
       "      <th>2018-06-01 00:00:00-04:00</th>\n",
       "      <td>26.920000</td>\n",
       "      <td>27.379999</td>\n",
       "      <td>26.799999</td>\n",
       "      <td>27.360001</td>\n",
       "      <td>310787</td>\n",
       "      <td>0</td>\n",
       "      <td>0</td>\n",
       "      <td>26.920000</td>\n",
       "      <td>0.016345</td>\n",
       "      <td>-0.024638</td>\n",
       "    </tr>\n",
       "    <tr>\n",
       "      <th>2018-12-27 00:00:00-05:00</th>\n",
       "      <td>19.379999</td>\n",
       "      <td>19.908001</td>\n",
       "      <td>18.200001</td>\n",
       "      <td>18.250000</td>\n",
       "      <td>334839</td>\n",
       "      <td>0</td>\n",
       "      <td>0</td>\n",
       "      <td>27.360001</td>\n",
       "      <td>-0.332968</td>\n",
       "      <td>-0.280089</td>\n",
       "    </tr>\n",
       "    <tr>\n",
       "      <th>2018-12-28 00:00:00-05:00</th>\n",
       "      <td>19.000000</td>\n",
       "      <td>19.100000</td>\n",
       "      <td>18.430000</td>\n",
       "      <td>18.650000</td>\n",
       "      <td>408449</td>\n",
       "      <td>0</td>\n",
       "      <td>0</td>\n",
       "      <td>18.250000</td>\n",
       "      <td>0.021918</td>\n",
       "      <td>-0.019608</td>\n",
       "    </tr>\n",
       "  </tbody>\n",
       "</table>\n",
       "<p>1823 rows × 10 columns</p>\n",
       "</div>"
      ],
      "text/plain": [
       "                                Open       High        Low      Close  Volume  \\\n",
       "Date                                                                            \n",
       "2010-01-05 00:00:00-05:00  16.719999  17.020000  16.719999  17.020000     400   \n",
       "2010-01-07 00:00:00-05:00  17.180000  17.180000  17.045000  17.045000     236   \n",
       "2010-01-08 00:00:00-05:00  17.200001  17.200001  17.200001  17.200001     403   \n",
       "2010-01-22 00:00:00-05:00  15.900000  15.980000  15.900000  15.980000     300   \n",
       "2010-01-26 00:00:00-05:00  15.400000  15.400000  15.280000  15.280000     100   \n",
       "...                              ...        ...        ...        ...     ...   \n",
       "2018-02-28 00:00:00-05:00  25.945000  26.139999  25.945000  26.070000    3688   \n",
       "2018-05-31 00:00:00-04:00  27.600000  27.680000  26.459999  26.920000  457483   \n",
       "2018-06-01 00:00:00-04:00  26.920000  27.379999  26.799999  27.360001  310787   \n",
       "2018-12-27 00:00:00-05:00  19.379999  19.908001  18.200001  18.250000  334839   \n",
       "2018-12-28 00:00:00-05:00  19.000000  19.100000  18.430000  18.650000  408449   \n",
       "\n",
       "                           Dividends  Stock Splits  close_veille  rdt_close  \\\n",
       "Date                                                                          \n",
       "2010-01-05 00:00:00-05:00          0             0           NaN        NaN   \n",
       "2010-01-07 00:00:00-05:00          0             0     17.020000   0.001469   \n",
       "2010-01-08 00:00:00-05:00          0             0     17.045000   0.009094   \n",
       "2010-01-22 00:00:00-05:00          0             0     17.200001  -0.070930   \n",
       "2010-01-26 00:00:00-05:00          0             0     15.980000  -0.043805   \n",
       "...                              ...           ...           ...        ...   \n",
       "2018-02-28 00:00:00-05:00          0             0     26.000000   0.002692   \n",
       "2018-05-31 00:00:00-04:00          0             0     26.070000   0.032605   \n",
       "2018-06-01 00:00:00-04:00          0             0     26.920000   0.016345   \n",
       "2018-12-27 00:00:00-05:00          0             0     27.360001  -0.332968   \n",
       "2018-12-28 00:00:00-05:00          0             0     18.250000   0.021918   \n",
       "\n",
       "                           rdt_open  \n",
       "Date                                 \n",
       "2010-01-05 00:00:00-05:00       NaN  \n",
       "2010-01-07 00:00:00-05:00  0.027512  \n",
       "2010-01-08 00:00:00-05:00  0.001164  \n",
       "2010-01-22 00:00:00-05:00 -0.075581  \n",
       "2010-01-26 00:00:00-05:00 -0.031447  \n",
       "...                             ...  \n",
       "2018-02-28 00:00:00-05:00  0.002705  \n",
       "2018-05-31 00:00:00-04:00  0.063789  \n",
       "2018-06-01 00:00:00-04:00 -0.024638  \n",
       "2018-12-27 00:00:00-05:00 -0.280089  \n",
       "2018-12-28 00:00:00-05:00 -0.019608  \n",
       "\n",
       "[1823 rows x 10 columns]"
      ]
     },
     "execution_count": 25,
     "metadata": {},
     "output_type": "execute_result"
    }
   ],
   "source": [
    "rdt2=df[\"Open\"].pct_change() \n",
    "df=df.assign(rdt_open=rdt2)\n",
    "df"
   ]
  },
  {
   "cell_type": "code",
   "execution_count": 26,
   "id": "eded0342-d85a-4d68-a902-fbf0395f8cf7",
   "metadata": {},
   "outputs": [
    {
     "name": "stdout",
     "output_type": "stream",
     "text": [
      "          rdt_open    rdt_close\n",
      "count  1822.000000  1822.000000\n",
      "mean      9.045148     7.015640\n",
      "std     119.892047    67.952312\n",
      "min      -0.997726    -0.997407\n",
      "25%      -0.016482    -0.012382\n",
      "50%       0.000000     0.000000\n",
      "75%       0.012993     0.008375\n",
      "max    4815.999925  2419.500046\n"
     ]
    }
   ],
   "source": [
    "stat_rdt= df[[\"rdt_open\", \"rdt_close\"]].describe()\n",
    "print(stat_rdt)"
   ]
  },
  {
   "cell_type": "code",
   "execution_count": 27,
   "id": "9592fa81-263c-4113-8e21-849ce60c6a4c",
   "metadata": {},
   "outputs": [
    {
     "data": {
      "text/html": [
       "<div>\n",
       "<style scoped>\n",
       "    .dataframe tbody tr th:only-of-type {\n",
       "        vertical-align: middle;\n",
       "    }\n",
       "\n",
       "    .dataframe tbody tr th {\n",
       "        vertical-align: top;\n",
       "    }\n",
       "\n",
       "    .dataframe thead th {\n",
       "        text-align: right;\n",
       "    }\n",
       "</style>\n",
       "<table border=\"1\" class=\"dataframe\">\n",
       "  <thead>\n",
       "    <tr style=\"text-align: right;\">\n",
       "      <th></th>\n",
       "      <th>Close</th>\n",
       "      <th>Open</th>\n",
       "      <th>rdt_close</th>\n",
       "      <th>rdt_open</th>\n",
       "    </tr>\n",
       "  </thead>\n",
       "  <tbody>\n",
       "    <tr>\n",
       "      <th>Close</th>\n",
       "      <td>1.000000</td>\n",
       "      <td>0.994262</td>\n",
       "      <td>0.196836</td>\n",
       "      <td>0.143557</td>\n",
       "    </tr>\n",
       "    <tr>\n",
       "      <th>Open</th>\n",
       "      <td>0.994262</td>\n",
       "      <td>1.000000</td>\n",
       "      <td>0.195497</td>\n",
       "      <td>0.155352</td>\n",
       "    </tr>\n",
       "    <tr>\n",
       "      <th>rdt_close</th>\n",
       "      <td>0.196836</td>\n",
       "      <td>0.195497</td>\n",
       "      <td>1.000000</td>\n",
       "      <td>0.956538</td>\n",
       "    </tr>\n",
       "    <tr>\n",
       "      <th>rdt_open</th>\n",
       "      <td>0.143557</td>\n",
       "      <td>0.155352</td>\n",
       "      <td>0.956538</td>\n",
       "      <td>1.000000</td>\n",
       "    </tr>\n",
       "  </tbody>\n",
       "</table>\n",
       "</div>"
      ],
      "text/plain": [
       "              Close      Open  rdt_close  rdt_open\n",
       "Close      1.000000  0.994262   0.196836  0.143557\n",
       "Open       0.994262  1.000000   0.195497  0.155352\n",
       "rdt_close  0.196836  0.195497   1.000000  0.956538\n",
       "rdt_open   0.143557  0.155352   0.956538  1.000000"
      ]
     },
     "execution_count": 27,
     "metadata": {},
     "output_type": "execute_result"
    }
   ],
   "source": [
    "cor = df[[\"Close\",\"Open\", \"rdt_close\",\"rdt_open\"]].corr() #correlation entre les trois\n",
    "cor "
   ]
  },
  {
   "cell_type": "code",
   "execution_count": 28,
   "id": "0f2bb4a3-9a64-4d7b-bebc-8d3e1d260efa",
   "metadata": {},
   "outputs": [
    {
     "name": "stderr",
     "output_type": "stream",
     "text": [
      "/tmp/ipykernel_329/2868392304.py:3: FutureWarning: \n",
      "\n",
      "`shade` is now deprecated in favor of `fill`; setting `fill=True`.\n",
      "This will become an error in seaborn v0.14.0; please update your code.\n",
      "\n",
      "  sns.kdeplot(df[\"Close\"], shade=True)\n"
     ]
    },
    {
     "data": {
      "text/plain": [
       "<AxesSubplot: xlabel='Close', ylabel='Density'>"
      ]
     },
     "execution_count": 28,
     "metadata": {},
     "output_type": "execute_result"
    },
    {
     "data": {
      "image/png": "[encoded data removed]",
      "text/plain": [
       "<Figure size 1000x600 with 1 Axes>"
      ]
     },
     "metadata": {},
     "output_type": "display_data"
    }
   ],
   "source": [
    "plt.figure(figsize=(10,6))\n",
    "plt.hist(df[\"Close\"], bins=15, density=True)\n",
    "sns.kdeplot(df[\"Close\"], shade=True)"
   ]
  },
  {
   "cell_type": "code",
   "execution_count": 29,
   "id": "1fbef731-b8fd-4159-a54c-1e082fa884f4",
   "metadata": {},
   "outputs": [
    {
     "name": "stderr",
     "output_type": "stream",
     "text": [
      "/tmp/ipykernel_329/762898542.py:3: FutureWarning: \n",
      "\n",
      "`shade` is now deprecated in favor of `fill`; setting `fill=True`.\n",
      "This will become an error in seaborn v0.14.0; please update your code.\n",
      "\n",
      "  sns.kdeplot(df[\"rdt_close\"], shade=True)\n"
     ]
    },
    {
     "data": {
      "text/plain": [
       "<AxesSubplot: xlabel='rdt_close', ylabel='Density'>"
      ]
     },
     "execution_count": 29,
     "metadata": {},
     "output_type": "execute_result"
    },
    {
     "data": {
      "image/png": "[encoded data removed]",
      "text/plain": [
       "<Figure size 1000x600 with 1 Axes>"
      ]
     },
     "metadata": {},
     "output_type": "display_data"
    }
   ],
   "source": [
    "plt.figure(figsize=(10,6))\n",
    "plt.hist(df[\"rdt_close\"], bins=15, density=True)\n",
    "sns.kdeplot(df[\"rdt_close\"], shade=True)"
   ]
  },
  {
   "cell_type": "code",
   "execution_count": 39,
   "id": "c9395918-1d58-4b78-9de6-c603f24897e1",
   "metadata": {},
   "outputs": [],
   "source": [
    "from scipy import stats"
   ]
  },
  {
   "cell_type": "code",
   "execution_count": 40,
   "id": "d26ccb35-9d95-4858-bb9f-8eb68a9c50f5",
   "metadata": {},
   "outputs": [
    {
     "name": "stdout",
     "output_type": "stream",
     "text": [
      "P-valeur_close: 0.0000\n"
     ]
    }
   ],
   "source": [
    "stat, p_close = stats.shapiro(df.Close) # test de Shapiro-Wilk pour vérifier la normalité des rendements\n",
    "print(\"P-valeur_close: {:.4f}\".format(p_close)) # affiche la p-valeur avec 4 chiffres significatifs après la virgule\n",
    "#L'hypothèse de normalité n'est pas vérifiée au seuil de signification 0.05"
   ]
  },
  {
   "cell_type": "code",
   "execution_count": 41,
   "id": "69e3b0c2-02bf-4e19-af92-4ce9492fe575",
   "metadata": {},
   "outputs": [
    {
     "name": "stderr",
     "output_type": "stream",
     "text": [
      "/tmp/ipykernel_329/1955928820.py:3: FutureWarning: \n",
      "\n",
      "`shade` is now deprecated in favor of `fill`; setting `fill=True`.\n",
      "This will become an error in seaborn v0.14.0; please update your code.\n",
      "\n",
      "  sns.kdeplot(df[\"Open\"], shade=True)\n"
     ]
    },
    {
     "data": {
      "text/plain": [
       "<AxesSubplot: xlabel='Open', ylabel='Density'>"
      ]
     },
     "execution_count": 41,
     "metadata": {},
     "output_type": "execute_result"
    },
    {
     "data": {
      "image/png": "[encoded data removed]",
      "text/plain": [
       "<Figure size 1000x600 with 1 Axes>"
      ]
     },
     "metadata": {},
     "output_type": "display_data"
    }
   ],
   "source": [
    "plt.figure(figsize=(10,6))\n",
    "plt.hist(df[\"Open\"], bins=15, density=True)\n",
    "sns.kdeplot(df[\"Open\"], shade=True)"
   ]
  },
  {
   "cell_type": "code",
   "execution_count": 42,
   "id": "2cde2982-f0dc-4924-865b-dc4c00a74a53",
   "metadata": {},
   "outputs": [
    {
     "name": "stderr",
     "output_type": "stream",
     "text": [
      "/tmp/ipykernel_329/4136137791.py:3: FutureWarning: \n",
      "\n",
      "`shade` is now deprecated in favor of `fill`; setting `fill=True`.\n",
      "This will become an error in seaborn v0.14.0; please update your code.\n",
      "\n",
      "  sns.kdeplot(df[\"rdt_open\"], shade=True)\n"
     ]
    },
    {
     "data": {
      "text/plain": [
       "<AxesSubplot: xlabel='rdt_open', ylabel='Density'>"
      ]
     },
     "execution_count": 42,
     "metadata": {},
     "output_type": "execute_result"
    },
    {
     "data": {
      "image/png": "[encoded data removed]",
      "text/plain": [
       "<Figure size 1000x600 with 1 Axes>"
      ]
     },
     "metadata": {},
     "output_type": "display_data"
    }
   ],
   "source": [
    "plt.figure(figsize=(10,6))\n",
    "plt.hist(df[\"rdt_open\"], bins=15, density=True)\n",
    "sns.kdeplot(df[\"rdt_open\"], shade=True)"
   ]
  },
  {
   "cell_type": "code",
   "execution_count": 43,
   "id": "1dd9493e-db0c-43f4-85ee-d572994bab48",
   "metadata": {},
   "outputs": [
    {
     "name": "stdout",
     "output_type": "stream",
     "text": [
      "P-valeur_open: 0.0000\n"
     ]
    }
   ],
   "source": [
    "stat, p_open = stats.shapiro(df.Open) # test de Shapiro-Wilk pour vérifier la normalité des rendements\n",
    "print(\"P-valeur_open: {:.4f}\".format(p_open)) # affiche la p-valeur avec 4 chiffres significatifs après la virgule\n",
    "#L'hypothèse de normalité n'est pas vérifiée au seuil de signification 0.05"
   ]
  },
  {
   "cell_type": "code",
   "execution_count": 44,
   "id": "63e68b7b-9a7d-4137-89ef-b11ae57f901f",
   "metadata": {},
   "outputs": [
    {
     "name": "stdout",
     "output_type": "stream",
     "text": [
      "P-valeur_rdt_close: 1.0000\n"
     ]
    }
   ],
   "source": [
    "import scipy.stats as stats\n",
    "\n",
    "stat, p1 = stats.shapiro(df.rdt_close) # test de Shapiro-Wilk pour vérifier la normalité des rendements\n",
    "print(\"P-valeur_rdt_close: {:.4f}\".format(p1)) # affiche la p-valeur avec 4 chiffres significatifs après la virgule\n",
    "#L'hypothèse de normalité des rendemnts est vérifiée au seuil de signification 0.05"
   ]
  },
  {
   "cell_type": "code",
   "execution_count": 45,
   "id": "d9125db0-7fbb-4aa5-80a9-2595012d073c",
   "metadata": {},
   "outputs": [
    {
     "name": "stdout",
     "output_type": "stream",
     "text": [
      "P-valeur_rdt_open: 1.0000\n"
     ]
    }
   ],
   "source": [
    "stat, p2 = stats.shapiro(df.rdt_open) # test de Shapiro-Wilk pour vérifier la normalité des rendements\n",
    "print(\"P-valeur_rdt_open: {:.4f}\".format(p2)) # affiche la p-valeur avec 4 chiffres significatifs après la virgule\n",
    "#L'hypothèse de normalité des rendemnts est vérifiée au seuil de signification 0.05"
   ]
  }
 ],
 "metadata": {
  "kernelspec": {
   "display_name": "Python 3 (ipykernel)",
   "language": "python",
   "name": "python3"
  },
  "language_info": {
   "codemirror_mode": {
    "name": "ipython",
    "version": 3
   },
   "file_extension": ".py",
   "mimetype": "text/x-python",
   "name": "python",
   "nbconvert_exporter": "python",
   "pygments_lexer": "ipython3",
   "version": "3.10.4"
  }
 },
 "nbformat": 4,
 "nbformat_minor": 5
}
