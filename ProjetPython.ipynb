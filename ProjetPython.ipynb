{
 "cells": [
  {
   "cell_type": "code",
   "execution_count": null,
   "id": "cc147c63-d3f2-49cf-b19b-1e1883cf09bd",
   "metadata": {},
   "outputs": [],
   "source": [
    "Projet Python pour la data science 2A"
   ]
  },
  {
   "cell_type": "code",
   "execution_count": null,
   "id": "e755685a-f97c-4e73-a235-ca86dfa36123",
   "metadata": {},
   "outputs": [],
   "source": [
    "I Récupérer les données = convertir format python\n",
    "les mettre dans un tableau"
   ]
  },
  {
   "cell_type": "code",
   "execution_count": null,
   "id": "e9c50640-d56f-4bff-8b8a-01be2da9f0a1",
   "metadata": {},
   "outputs": [],
   "source": [
    "import pandas as pd\n",
    "df = pd.read_csv(\"https://minio.lab.sspcloud.fr/arougier/test_autre.csv\", sep=\";\")"
   ]
  },
  {
   "cell_type": "code",
   "execution_count": null,
   "id": "58f8f135-8c33-4bc3-90b9-9df0bb3e6f2e",
   "metadata": {},
   "outputs": [],
   "source": [
    "df"
   ]
  },
  {
   "cell_type": "code",
   "execution_count": null,
   "id": "fe7c4489-f4b6-4cfd-b969-d71a5eb6a920",
   "metadata": {},
   "outputs": [],
   "source": [
    "Modofier le document => faire en sorte qu ils ont les mêmes données"
   ]
  },
  {
   "cell_type": "code",
   "execution_count": null,
   "id": "2aa28bb9-47a9-4297-935e-8895841747da",
   "metadata": {},
   "outputs": [],
   "source": [
    "II analyse des données\n",
    "faire des graphiques, prévisions "
   ]
  },
  {
   "cell_type": "code",
   "execution_count": null,
   "id": "e88d233e-05f0-4925-8b3d-9cfe0288d25f",
   "metadata": {},
   "outputs": [],
   "source": [
    "III Prévision sur les prochains prix \n",
    "on s entraine sur un certain nombre de données, puis on teste sur 30%"
   ]
  }
 ],
 "metadata": {
  "kernelspec": {
   "display_name": "Python 3 (ipykernel)",
   "language": "python",
   "name": "python3"
  },
  "language_info": {
   "codemirror_mode": {
    "name": "ipython",
    "version": 3
   },
   "file_extension": ".py",
   "mimetype": "text/x-python",
   "name": "python",
   "nbconvert_exporter": "python",
   "pygments_lexer": "ipython3",
   "version": "3.10.4"
  }
 },
 "nbformat": 4,
 "nbformat_minor": 5
}
